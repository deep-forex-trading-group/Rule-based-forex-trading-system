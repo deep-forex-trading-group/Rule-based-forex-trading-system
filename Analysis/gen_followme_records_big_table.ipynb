{
 "cells": [
  {
   "cell_type": "code",
   "execution_count": 21,
   "id": "097c3756",
   "metadata": {},
   "outputs": [
    {
     "name": "stdout",
     "output_type": "stream",
     "text": [
      "The autoreload extension is already loaded. To reload it, use:\n",
      "  %reload_ext autoreload\n"
     ]
    }
   ],
   "source": [
    "%load_ext autoreload\n",
    "%autoreload 2\n",
    "\n",
    "import os\n",
    "import sys\n",
    "module_path = os.path.abspath(os.path.join('..'))\n",
    "if module_path not in sys.path:\n",
    "    sys.path.append(module_path)\n",
    "\n",
    "import numpy as np\n",
    "import pandas as pd\n",
    "import matplotlib.pyplot as plt"
   ]
  },
  {
   "cell_type": "code",
   "execution_count": 22,
   "id": "c5057671",
   "metadata": {},
   "outputs": [],
   "source": [
    "OUTPUT_PATH=\"../data/yht_eur_big_table.csv\"\n",
    "INPUT_BAR_DATA_PATHS=[\"../data/EURUSD5_duka_2020.csv\", \"../data/EURUSD5_duka_2021.csv\"]\n",
    "INPUT_FM_RC_PATH=\"../data/yht_rc.csv\"\n",
    "SYMBOL=\"EURUSD\""
   ]
  },
  {
   "cell_type": "code",
   "execution_count": 23,
   "id": "8b7cffe7",
   "metadata": {},
   "outputs": [],
   "source": [
    "from Utils.data_get_utils import get_duka_data_df_by_list\n",
    "duka_5m_df = get_duka_data_df_by_list(INPUT_BAR_DATA_PATHS, SYMBOL)"
   ]
  },
  {
   "cell_type": "code",
   "execution_count": 24,
   "id": "2fa262e2",
   "metadata": {
    "scrolled": true
   },
   "outputs": [
    {
     "data": {
      "text/html": [
       "<div>\n",
       "<style scoped>\n",
       "    .dataframe tbody tr th:only-of-type {\n",
       "        vertical-align: middle;\n",
       "    }\n",
       "\n",
       "    .dataframe tbody tr th {\n",
       "        vertical-align: top;\n",
       "    }\n",
       "\n",
       "    .dataframe thead th {\n",
       "        text-align: right;\n",
       "    }\n",
       "</style>\n",
       "<table border=\"1\" class=\"dataframe\">\n",
       "  <thead>\n",
       "    <tr style=\"text-align: right;\">\n",
       "      <th></th>\n",
       "      <th>symbol</th>\n",
       "      <th>datetime</th>\n",
       "      <th>open</th>\n",
       "      <th>high</th>\n",
       "      <th>low</th>\n",
       "      <th>close</th>\n",
       "      <th>volume</th>\n",
       "    </tr>\n",
       "  </thead>\n",
       "  <tbody>\n",
       "    <tr>\n",
       "      <th>264</th>\n",
       "      <td>EURUSD</td>\n",
       "      <td>2020-01-01 22:00:00</td>\n",
       "      <td>1.12136</td>\n",
       "      <td>1.12139</td>\n",
       "      <td>1.12120</td>\n",
       "      <td>1.12125</td>\n",
       "      <td>47.60</td>\n",
       "    </tr>\n",
       "    <tr>\n",
       "      <th>265</th>\n",
       "      <td>EURUSD</td>\n",
       "      <td>2020-01-01 22:05:00</td>\n",
       "      <td>1.12125</td>\n",
       "      <td>1.12127</td>\n",
       "      <td>1.12125</td>\n",
       "      <td>1.12127</td>\n",
       "      <td>91.79</td>\n",
       "    </tr>\n",
       "    <tr>\n",
       "      <th>266</th>\n",
       "      <td>EURUSD</td>\n",
       "      <td>2020-01-01 22:10:00</td>\n",
       "      <td>1.12127</td>\n",
       "      <td>1.12127</td>\n",
       "      <td>1.12123</td>\n",
       "      <td>1.12127</td>\n",
       "      <td>64.98</td>\n",
       "    </tr>\n",
       "    <tr>\n",
       "      <th>267</th>\n",
       "      <td>EURUSD</td>\n",
       "      <td>2020-01-01 22:15:00</td>\n",
       "      <td>1.12127</td>\n",
       "      <td>1.12154</td>\n",
       "      <td>1.12127</td>\n",
       "      <td>1.12146</td>\n",
       "      <td>85.07</td>\n",
       "    </tr>\n",
       "    <tr>\n",
       "      <th>268</th>\n",
       "      <td>EURUSD</td>\n",
       "      <td>2020-01-01 22:20:00</td>\n",
       "      <td>1.12144</td>\n",
       "      <td>1.12153</td>\n",
       "      <td>1.12137</td>\n",
       "      <td>1.12146</td>\n",
       "      <td>123.93</td>\n",
       "    </tr>\n",
       "  </tbody>\n",
       "</table>\n",
       "</div>"
      ],
      "text/plain": [
       "     symbol            datetime     open     high      low    close  volume\n",
       "264  EURUSD 2020-01-01 22:00:00  1.12136  1.12139  1.12120  1.12125   47.60\n",
       "265  EURUSD 2020-01-01 22:05:00  1.12125  1.12127  1.12125  1.12127   91.79\n",
       "266  EURUSD 2020-01-01 22:10:00  1.12127  1.12127  1.12123  1.12127   64.98\n",
       "267  EURUSD 2020-01-01 22:15:00  1.12127  1.12154  1.12127  1.12146   85.07\n",
       "268  EURUSD 2020-01-01 22:20:00  1.12144  1.12153  1.12137  1.12146  123.93"
      ]
     },
     "execution_count": 24,
     "metadata": {},
     "output_type": "execute_result"
    }
   ],
   "source": [
    "duka_5m_df.head()"
   ]
  },
  {
   "cell_type": "code",
   "execution_count": 25,
   "id": "39083b7c",
   "metadata": {
    "scrolled": true
   },
   "outputs": [
    {
     "data": {
      "text/html": [
       "<div>\n",
       "<style scoped>\n",
       "    .dataframe tbody tr th:only-of-type {\n",
       "        vertical-align: middle;\n",
       "    }\n",
       "\n",
       "    .dataframe tbody tr th {\n",
       "        vertical-align: top;\n",
       "    }\n",
       "\n",
       "    .dataframe thead th {\n",
       "        text-align: right;\n",
       "    }\n",
       "</style>\n",
       "<table border=\"1\" class=\"dataframe\">\n",
       "  <thead>\n",
       "    <tr style=\"text-align: right;\">\n",
       "      <th></th>\n",
       "      <th>symbol</th>\n",
       "      <th>action</th>\n",
       "      <th>lots</th>\n",
       "      <th>open_date</th>\n",
       "      <th>close_date</th>\n",
       "      <th>open_price</th>\n",
       "      <th>close_price</th>\n",
       "      <th>profits</th>\n",
       "      <th>pips</th>\n",
       "      <th>commission</th>\n",
       "      <th>swaps</th>\n",
       "      <th>profits_calc</th>\n",
       "      <th>commission_by_pips</th>\n",
       "      <th>date_var</th>\n",
       "      <th>swap_per_date_var_and_pip</th>\n",
       "    </tr>\n",
       "  </thead>\n",
       "  <tbody>\n",
       "    <tr>\n",
       "      <th>0</th>\n",
       "      <td>EURUSD</td>\n",
       "      <td>buy</td>\n",
       "      <td>0.01</td>\n",
       "      <td>2021-08-11 07:16:00</td>\n",
       "      <td>2021-08-11 07:37:00</td>\n",
       "      <td>1.17093</td>\n",
       "      <td>1.17142</td>\n",
       "      <td>0.49</td>\n",
       "      <td>4.9</td>\n",
       "      <td>-0.04</td>\n",
       "      <td>0.0</td>\n",
       "      <td>0.45</td>\n",
       "      <td>-0.4</td>\n",
       "      <td>0</td>\n",
       "      <td>0.0</td>\n",
       "    </tr>\n",
       "    <tr>\n",
       "      <th>1</th>\n",
       "      <td>EURUSD</td>\n",
       "      <td>buy</td>\n",
       "      <td>0.01</td>\n",
       "      <td>2021-08-10 11:04:00</td>\n",
       "      <td>2021-08-10 18:55:00</td>\n",
       "      <td>1.17227</td>\n",
       "      <td>1.17219</td>\n",
       "      <td>-0.08</td>\n",
       "      <td>-0.8</td>\n",
       "      <td>-0.04</td>\n",
       "      <td>0.0</td>\n",
       "      <td>-0.12</td>\n",
       "      <td>-0.4</td>\n",
       "      <td>0</td>\n",
       "      <td>0.0</td>\n",
       "    </tr>\n",
       "    <tr>\n",
       "      <th>2</th>\n",
       "      <td>EURUSD</td>\n",
       "      <td>buy</td>\n",
       "      <td>0.01</td>\n",
       "      <td>2021-08-10 16:58:00</td>\n",
       "      <td>2021-08-10 18:02:00</td>\n",
       "      <td>1.17167</td>\n",
       "      <td>1.17194</td>\n",
       "      <td>0.27</td>\n",
       "      <td>2.7</td>\n",
       "      <td>-0.04</td>\n",
       "      <td>0.0</td>\n",
       "      <td>0.23</td>\n",
       "      <td>-0.4</td>\n",
       "      <td>0</td>\n",
       "      <td>0.0</td>\n",
       "    </tr>\n",
       "    <tr>\n",
       "      <th>3</th>\n",
       "      <td>EURUSD</td>\n",
       "      <td>buy</td>\n",
       "      <td>0.01</td>\n",
       "      <td>2021-08-10 16:02:00</td>\n",
       "      <td>2021-08-10 16:20:00</td>\n",
       "      <td>1.17165</td>\n",
       "      <td>1.17204</td>\n",
       "      <td>0.39</td>\n",
       "      <td>3.9</td>\n",
       "      <td>-0.04</td>\n",
       "      <td>0.0</td>\n",
       "      <td>0.35</td>\n",
       "      <td>-0.4</td>\n",
       "      <td>0</td>\n",
       "      <td>0.0</td>\n",
       "    </tr>\n",
       "    <tr>\n",
       "      <th>4</th>\n",
       "      <td>EURUSD</td>\n",
       "      <td>buy</td>\n",
       "      <td>0.01</td>\n",
       "      <td>2021-08-10 11:36:00</td>\n",
       "      <td>2021-08-10 15:24:00</td>\n",
       "      <td>1.17209</td>\n",
       "      <td>1.17241</td>\n",
       "      <td>0.32</td>\n",
       "      <td>3.2</td>\n",
       "      <td>-0.04</td>\n",
       "      <td>0.0</td>\n",
       "      <td>0.28</td>\n",
       "      <td>-0.4</td>\n",
       "      <td>0</td>\n",
       "      <td>0.0</td>\n",
       "    </tr>\n",
       "  </tbody>\n",
       "</table>\n",
       "</div>"
      ],
      "text/plain": [
       "   symbol action  lots           open_date          close_date  open_price  \\\n",
       "0  EURUSD    buy  0.01 2021-08-11 07:16:00 2021-08-11 07:37:00     1.17093   \n",
       "1  EURUSD    buy  0.01 2021-08-10 11:04:00 2021-08-10 18:55:00     1.17227   \n",
       "2  EURUSD    buy  0.01 2021-08-10 16:58:00 2021-08-10 18:02:00     1.17167   \n",
       "3  EURUSD    buy  0.01 2021-08-10 16:02:00 2021-08-10 16:20:00     1.17165   \n",
       "4  EURUSD    buy  0.01 2021-08-10 11:36:00 2021-08-10 15:24:00     1.17209   \n",
       "\n",
       "   close_price  profits  pips  commission  swaps  profits_calc  \\\n",
       "0      1.17142     0.49   4.9       -0.04    0.0          0.45   \n",
       "1      1.17219    -0.08  -0.8       -0.04    0.0         -0.12   \n",
       "2      1.17194     0.27   2.7       -0.04    0.0          0.23   \n",
       "3      1.17204     0.39   3.9       -0.04    0.0          0.35   \n",
       "4      1.17241     0.32   3.2       -0.04    0.0          0.28   \n",
       "\n",
       "   commission_by_pips  date_var  swap_per_date_var_and_pip  \n",
       "0                -0.4         0                        0.0  \n",
       "1                -0.4         0                        0.0  \n",
       "2                -0.4         0                        0.0  \n",
       "3                -0.4         0                        0.0  \n",
       "4                -0.4         0                        0.0  "
      ]
     },
     "execution_count": 25,
     "metadata": {},
     "output_type": "execute_result"
    }
   ],
   "source": [
    "from Utils.data_get_utils import get_fm_rc_data_df\n",
    "from Utils.data_get_utils import calc_profit\n",
    "\n",
    "rc_df = get_fm_rc_data_df(INPUT_FM_RC_PATH)\n",
    "# current research is based on SYMBOL\n",
    "rc_df=rc_df[rc_df[\"symbol\"]==SYMBOL].reset_index(drop=True)\n",
    "rc_df.head()"
   ]
  },
  {
   "cell_type": "code",
   "execution_count": 26,
   "id": "38a3c4fe",
   "metadata": {},
   "outputs": [
    {
     "data": {
      "text/plain": [
       "Index(['symbol', 'action', 'lots', 'open_date', 'close_date', 'open_price',\n",
       "       'close_price', 'profits', 'pips', 'commission', 'swaps', 'profits_calc',\n",
       "       'commission_by_pips', 'date_var', 'swap_per_date_var_and_pip'],\n",
       "      dtype='object')"
      ]
     },
     "execution_count": 26,
     "metadata": {},
     "output_type": "execute_result"
    }
   ],
   "source": [
    "rc_df.columns"
   ]
  },
  {
   "cell_type": "code",
   "execution_count": 27,
   "id": "865aab8b",
   "metadata": {},
   "outputs": [
    {
     "data": {
      "text/html": [
       "<div>\n",
       "<style scoped>\n",
       "    .dataframe tbody tr th:only-of-type {\n",
       "        vertical-align: middle;\n",
       "    }\n",
       "\n",
       "    .dataframe tbody tr th {\n",
       "        vertical-align: top;\n",
       "    }\n",
       "\n",
       "    .dataframe thead th {\n",
       "        text-align: right;\n",
       "    }\n",
       "</style>\n",
       "<table border=\"1\" class=\"dataframe\">\n",
       "  <thead>\n",
       "    <tr style=\"text-align: right;\">\n",
       "      <th></th>\n",
       "      <th>symbol</th>\n",
       "      <th>action</th>\n",
       "      <th>lots</th>\n",
       "      <th>open_date</th>\n",
       "      <th>close_date</th>\n",
       "      <th>open_price</th>\n",
       "      <th>close_price</th>\n",
       "      <th>profits</th>\n",
       "      <th>pips</th>\n",
       "      <th>commission</th>\n",
       "      <th>swaps</th>\n",
       "      <th>profits_calc</th>\n",
       "      <th>commission_by_pips</th>\n",
       "      <th>date_var</th>\n",
       "      <th>swap_per_date_var_and_pip</th>\n",
       "      <th>open_date_mod_5</th>\n",
       "      <th>close_date_mod_5</th>\n",
       "    </tr>\n",
       "  </thead>\n",
       "  <tbody>\n",
       "    <tr>\n",
       "      <th>0</th>\n",
       "      <td>EURUSD</td>\n",
       "      <td>buy</td>\n",
       "      <td>0.01</td>\n",
       "      <td>2021-08-11 07:16:00</td>\n",
       "      <td>2021-08-11 07:37:00</td>\n",
       "      <td>1.17093</td>\n",
       "      <td>1.17142</td>\n",
       "      <td>0.49</td>\n",
       "      <td>4.9</td>\n",
       "      <td>-0.04</td>\n",
       "      <td>0.0</td>\n",
       "      <td>0.45</td>\n",
       "      <td>-0.4</td>\n",
       "      <td>0</td>\n",
       "      <td>0.0</td>\n",
       "      <td>2021-08-11 07:15:00</td>\n",
       "      <td>2021-08-11 07:35:00</td>\n",
       "    </tr>\n",
       "    <tr>\n",
       "      <th>1</th>\n",
       "      <td>EURUSD</td>\n",
       "      <td>buy</td>\n",
       "      <td>0.01</td>\n",
       "      <td>2021-08-10 11:04:00</td>\n",
       "      <td>2021-08-10 18:55:00</td>\n",
       "      <td>1.17227</td>\n",
       "      <td>1.17219</td>\n",
       "      <td>-0.08</td>\n",
       "      <td>-0.8</td>\n",
       "      <td>-0.04</td>\n",
       "      <td>0.0</td>\n",
       "      <td>-0.12</td>\n",
       "      <td>-0.4</td>\n",
       "      <td>0</td>\n",
       "      <td>0.0</td>\n",
       "      <td>2021-08-10 11:00:00</td>\n",
       "      <td>2021-08-10 18:55:00</td>\n",
       "    </tr>\n",
       "    <tr>\n",
       "      <th>2</th>\n",
       "      <td>EURUSD</td>\n",
       "      <td>buy</td>\n",
       "      <td>0.01</td>\n",
       "      <td>2021-08-10 16:58:00</td>\n",
       "      <td>2021-08-10 18:02:00</td>\n",
       "      <td>1.17167</td>\n",
       "      <td>1.17194</td>\n",
       "      <td>0.27</td>\n",
       "      <td>2.7</td>\n",
       "      <td>-0.04</td>\n",
       "      <td>0.0</td>\n",
       "      <td>0.23</td>\n",
       "      <td>-0.4</td>\n",
       "      <td>0</td>\n",
       "      <td>0.0</td>\n",
       "      <td>2021-08-10 16:55:00</td>\n",
       "      <td>2021-08-10 18:00:00</td>\n",
       "    </tr>\n",
       "    <tr>\n",
       "      <th>3</th>\n",
       "      <td>EURUSD</td>\n",
       "      <td>buy</td>\n",
       "      <td>0.01</td>\n",
       "      <td>2021-08-10 16:02:00</td>\n",
       "      <td>2021-08-10 16:20:00</td>\n",
       "      <td>1.17165</td>\n",
       "      <td>1.17204</td>\n",
       "      <td>0.39</td>\n",
       "      <td>3.9</td>\n",
       "      <td>-0.04</td>\n",
       "      <td>0.0</td>\n",
       "      <td>0.35</td>\n",
       "      <td>-0.4</td>\n",
       "      <td>0</td>\n",
       "      <td>0.0</td>\n",
       "      <td>2021-08-10 16:00:00</td>\n",
       "      <td>2021-08-10 16:20:00</td>\n",
       "    </tr>\n",
       "    <tr>\n",
       "      <th>4</th>\n",
       "      <td>EURUSD</td>\n",
       "      <td>buy</td>\n",
       "      <td>0.01</td>\n",
       "      <td>2021-08-10 11:36:00</td>\n",
       "      <td>2021-08-10 15:24:00</td>\n",
       "      <td>1.17209</td>\n",
       "      <td>1.17241</td>\n",
       "      <td>0.32</td>\n",
       "      <td>3.2</td>\n",
       "      <td>-0.04</td>\n",
       "      <td>0.0</td>\n",
       "      <td>0.28</td>\n",
       "      <td>-0.4</td>\n",
       "      <td>0</td>\n",
       "      <td>0.0</td>\n",
       "      <td>2021-08-10 11:35:00</td>\n",
       "      <td>2021-08-10 15:20:00</td>\n",
       "    </tr>\n",
       "  </tbody>\n",
       "</table>\n",
       "</div>"
      ],
      "text/plain": [
       "   symbol action  lots           open_date          close_date  open_price  \\\n",
       "0  EURUSD    buy  0.01 2021-08-11 07:16:00 2021-08-11 07:37:00     1.17093   \n",
       "1  EURUSD    buy  0.01 2021-08-10 11:04:00 2021-08-10 18:55:00     1.17227   \n",
       "2  EURUSD    buy  0.01 2021-08-10 16:58:00 2021-08-10 18:02:00     1.17167   \n",
       "3  EURUSD    buy  0.01 2021-08-10 16:02:00 2021-08-10 16:20:00     1.17165   \n",
       "4  EURUSD    buy  0.01 2021-08-10 11:36:00 2021-08-10 15:24:00     1.17209   \n",
       "\n",
       "   close_price  profits  pips  commission  swaps  profits_calc  \\\n",
       "0      1.17142     0.49   4.9       -0.04    0.0          0.45   \n",
       "1      1.17219    -0.08  -0.8       -0.04    0.0         -0.12   \n",
       "2      1.17194     0.27   2.7       -0.04    0.0          0.23   \n",
       "3      1.17204     0.39   3.9       -0.04    0.0          0.35   \n",
       "4      1.17241     0.32   3.2       -0.04    0.0          0.28   \n",
       "\n",
       "   commission_by_pips  date_var  swap_per_date_var_and_pip  \\\n",
       "0                -0.4         0                        0.0   \n",
       "1                -0.4         0                        0.0   \n",
       "2                -0.4         0                        0.0   \n",
       "3                -0.4         0                        0.0   \n",
       "4                -0.4         0                        0.0   \n",
       "\n",
       "      open_date_mod_5    close_date_mod_5  \n",
       "0 2021-08-11 07:15:00 2021-08-11 07:35:00  \n",
       "1 2021-08-10 11:00:00 2021-08-10 18:55:00  \n",
       "2 2021-08-10 16:55:00 2021-08-10 18:00:00  \n",
       "3 2021-08-10 16:00:00 2021-08-10 16:20:00  \n",
       "4 2021-08-10 11:35:00 2021-08-10 15:20:00  "
      ]
     },
     "execution_count": 27,
     "metadata": {},
     "output_type": "execute_result"
    }
   ],
   "source": [
    "from Utils.data_process_utils import get_period_bar_date\n",
    "rc_df = get_period_bar_date(rc_df, [\"open_date\",\"close_date\"], 5)\n",
    "rc_df.head()"
   ]
  },
  {
   "cell_type": "markdown",
   "id": "8ea69078",
   "metadata": {},
   "source": [
    "### 检查是否 <交易记录数据> 是否都在 <行情Bar Data> 里面"
   ]
  },
  {
   "cell_type": "code",
   "execution_count": 28,
   "id": "24013f9a",
   "metadata": {},
   "outputs": [
    {
     "name": "stdout",
     "output_type": "stream",
     "text": [
      "CPU times: user 42.1 ms, sys: 0 ns, total: 42.1 ms\n",
      "Wall time: 41.9 ms\n"
     ]
    }
   ],
   "source": [
    "%%time\n",
    "# rc_df中的时间必须都在duka_5m_df当中存在\n",
    "duka_5m_outer_join_rc_df = pd.merge(duka_5m_df, rc_df, left_on=\"datetime\", right_on=\"open_date_mod_5\", how=\"outer\")\n",
    "duka_5m_inner_join_rc_df = pd.merge(duka_5m_df, rc_df, left_on=\"datetime\", right_on=\"open_date_mod_5\", how=\"inner\")\n",
    "duka_5m_right_join_rc_df = pd.merge(duka_5m_df, rc_df, left_on=\"datetime\", right_on=\"open_date_mod_5\", how=\"right\")\n",
    "duka_5m_left_join_rc_df = pd.merge(duka_5m_df, rc_df, left_on=\"datetime\", right_on=\"open_date_mod_5\", how=\"left\")\n",
    "# duka_5m_left_join_rc_df = duka_5m_left_join_rc_df.dropna()"
   ]
  },
  {
   "cell_type": "code",
   "execution_count": 32,
   "id": "a72db38e",
   "metadata": {},
   "outputs": [
    {
     "name": "stdout",
     "output_type": "stream",
     "text": [
      "1890\n",
      "1951\n"
     ]
    },
    {
     "ename": "AssertionError",
     "evalue": "Some of the followme records are not in the instrument EURUSD input data.",
     "output_type": "error",
     "traceback": [
      "\u001b[0;31m---------------------------------------------------------------------------\u001b[0m",
      "\u001b[0;31mAssertionError\u001b[0m                            Traceback (most recent call last)",
      "\u001b[0;32m~/tmp/ipykernel_676693/2465335277.py\u001b[0m in \u001b[0;36m<module>\u001b[0;34m\u001b[0m\n\u001b[1;32m      2\u001b[0m \u001b[0mprint\u001b[0m\u001b[0;34m(\u001b[0m\u001b[0mlen\u001b[0m\u001b[0;34m(\u001b[0m\u001b[0mduka_5m_left_join_rc_df\u001b[0m\u001b[0;34m.\u001b[0m\u001b[0mdropna\u001b[0m\u001b[0;34m(\u001b[0m\u001b[0;34m)\u001b[0m\u001b[0;34m)\u001b[0m\u001b[0;34m)\u001b[0m\u001b[0;34m\u001b[0m\u001b[0;34m\u001b[0m\u001b[0m\n\u001b[1;32m      3\u001b[0m \u001b[0mprint\u001b[0m\u001b[0;34m(\u001b[0m\u001b[0mlen\u001b[0m\u001b[0;34m(\u001b[0m\u001b[0mrc_df\u001b[0m\u001b[0;34m)\u001b[0m\u001b[0;34m)\u001b[0m\u001b[0;34m\u001b[0m\u001b[0;34m\u001b[0m\u001b[0m\n\u001b[0;32m----> 4\u001b[0;31m assert len(duka_5m_left_join_rc_df.dropna()) == len(rc_df), (\n\u001b[0m\u001b[1;32m      5\u001b[0m         f'Some of the followme records are not in the instrument EURUSD input data.')\n",
      "\u001b[0;31mAssertionError\u001b[0m: Some of the followme records are not in the instrument EURUSD input data."
     ]
    }
   ],
   "source": [
    "# classical methods to define the assert\n",
    "print(len(duka_5m_left_join_rc_df.dropna()))  \n",
    "print(len(rc_df))\n",
    "assert len(duka_5m_left_join_rc_df.dropna()) == len(rc_df), (\n",
    "        f'Some of the followme records are not in the instrument EURUSD input data.')"
   ]
  },
  {
   "cell_type": "markdown",
   "id": "51397dff",
   "metadata": {},
   "source": [
    "### 把时间周期关系全部搞清出来"
   ]
  },
  {
   "cell_type": "code",
   "execution_count": null,
   "id": "1096a482",
   "metadata": {},
   "outputs": [],
   "source": [
    "# gmt + 8 == peking \n",
    "# gmt + 3 == tickmill"
   ]
  },
  {
   "cell_type": "markdown",
   "id": "c14457a9",
   "metadata": {},
   "source": [
    "### 交易记录复现dataframe"
   ]
  },
  {
   "cell_type": "code",
   "execution_count": null,
   "id": "a7e735b3",
   "metadata": {},
   "outputs": [],
   "source": [
    "print(\"bar data length:\", len(duka_5m_df))"
   ]
  },
  {
   "cell_type": "code",
   "execution_count": null,
   "id": "fcd616da",
   "metadata": {},
   "outputs": [],
   "source": [
    "duka_5m_df.head()"
   ]
  },
  {
   "cell_type": "code",
   "execution_count": null,
   "id": "7c5a426c",
   "metadata": {},
   "outputs": [],
   "source": [
    "rc_df.head()"
   ]
  },
  {
   "cell_type": "code",
   "execution_count": null,
   "id": "e45d9841",
   "metadata": {},
   "outputs": [],
   "source": [
    "duka_5m_left_join_rc_df = pd.merge(duka_5m_df, rc_df, \n",
    "                                   left_on=\"datetime\", right_on=\"open_date_mod_5\", \n",
    "                                   how=\"left\")"
   ]
  },
  {
   "cell_type": "markdown",
   "id": "575bea1f",
   "metadata": {},
   "source": [
    "### join 后得到的结果数量比原有的 <left_df: duka_5m_df> 多很正常\n",
    "### 因为同一个位置有可能有多个单子"
   ]
  },
  {
   "cell_type": "code",
   "execution_count": null,
   "id": "96133649",
   "metadata": {},
   "outputs": [],
   "source": [
    "# 保证所有followme当中出现的订单都在左表: duka_5m_df 中出现过\n",
    "assert len(rc_df) == len(duka_5m_left_join_rc_df[duka_5m_left_join_rc_df[\"symbol_y\"].notnull()]),(\n",
    "    f'Some of the records data(rc_df) is lost, rc: ', \n",
    "    len(rc_df), \" results: \", \n",
    "    len(duka_5m_left_join_rc_df[duka_5m_left_join_rc_df[\"symbol_y\"].notnull()])\n",
    ")"
   ]
  },
  {
   "cell_type": "code",
   "execution_count": null,
   "id": "2685db16",
   "metadata": {},
   "outputs": [],
   "source": [
    "%%time\n",
    "from Utils.data_process_utils import slice_df_by_timerange\n",
    "from datetime import timedelta\n",
    "\n",
    "rc_start_dt = duka_5m_left_join_rc_df.dropna()[\"open_date\"].min() - timedelta(hours=2)\n",
    "rc_end_dt = duka_5m_left_join_rc_df.dropna()[\"close_date\"].max() + timedelta(hours=2)\n",
    "print(\"slicing date range : (\", rc_start_dt, \", \", rc_end_dt, \")\")\n",
    "duka_5m_left_join_rc_date_filtered_df = slice_df_by_timerange(duka_5m_left_join_rc_df, \"datetime\", rc_start_dt, rc_end_dt)\n",
    "analysis_df = duka_5m_left_join_rc_date_filtered_df.reset_index(drop=True)\n",
    "analysis_df[analysis_df[\"symbol_y\"].notnull()][[\"symbol_y\",\"open_date_mod_5\",\"close_date_mod_5\"]].head()"
   ]
  },
  {
   "cell_type": "code",
   "execution_count": null,
   "id": "71c53cb6",
   "metadata": {},
   "outputs": [],
   "source": [
    "analysis_df.columns"
   ]
  },
  {
   "cell_type": "markdown",
   "id": "febac706",
   "metadata": {},
   "source": [
    "### Calculates the current holding orders base on record data "
   ]
  },
  {
   "cell_type": "code",
   "execution_count": null,
   "id": "306762b9",
   "metadata": {},
   "outputs": [],
   "source": [
    "%%time\n",
    "\n",
    "def gen_dt_range(row):\n",
    "    start_dt, end_dt = row[\"open_date_mod_5\"], row[\"close_date_mod_5\"]\n",
    "    dt_range = (end_dt-start_dt)\n",
    "    return dt_range\n",
    "\n",
    "rc_df[\"dt_range\"] = rc_df.apply(gen_dt_range, axis=1)\n",
    "# Makes sure that the dt_range can be mod by 5\n",
    "assert rc_df[\"dt_range\"].apply(lambda x: x.seconds % (5*60) == 0).eq(True).all()\n",
    "\n",
    "from datetime import datetime\n",
    "from datetime import timedelta\n",
    "\n",
    "def gen_dt_range_list(row):\n",
    "    dt_range_list = []\n",
    "    start_dt, end_dt = row[\"open_date_mod_5\"], row[\"close_date_mod_5\"]\n",
    "    for dt_point in pd.date_range(start=start_dt, end=end_dt, freq='5min'):\n",
    "        dt_range_list.append(dt_point.to_pydatetime())\n",
    "    return dt_range_list\n",
    "\n",
    "rc_df[\"dt_range_list\"] = rc_df.apply(gen_dt_range_list, axis=1)\n",
    "rc_df[\"dt_range_inter_num\"] = rc_df[\"dt_range_list\"].apply(lambda x: len(x))\n",
    "rc_df[\"dt_range_inter_num\"].sum()"
   ]
  },
  {
   "cell_type": "code",
   "execution_count": null,
   "id": "d4b6c97e",
   "metadata": {},
   "outputs": [],
   "source": [
    "%%time\n",
    "rc_explode_df = rc_df.explode('dt_range_list', ignore_index=True)\n",
    "rc_explode_df = rc_explode_df.rename(columns={\"dt_range_list\": \"dt_point_holding\"})\n",
    "# rc_explode_df.set_index(keys=[\"dt_point_holding\"], drop=False, inplace=True)\n",
    "# check_idx = 2\n",
    "# print(rc_df.loc[check_idx,][\"dt_range_list\"])\n",
    "# print(rc_df.loc[check_idx,][\"open_date_mod_5\"])\n",
    "# print(rc_df.loc[check_idx,][\"close_date_mod_5\"])"
   ]
  },
  {
   "cell_type": "code",
   "execution_count": null,
   "id": "87c0c9a9",
   "metadata": {},
   "outputs": [],
   "source": [
    "print(len(rc_explode_df))\n",
    "rc_explode_df.head()"
   ]
  },
  {
   "cell_type": "code",
   "execution_count": null,
   "id": "5ca287e3",
   "metadata": {},
   "outputs": [],
   "source": [
    "%%time \n",
    "yht_rc_df_cnt = rc_explode_df.groupby(by=[rc_explode_df[\"dt_point_holding\"]], dropna=False)\\\n",
    "                             .agg(cur_holding_cnt=(\"symbol\", \"count\"))"
   ]
  },
  {
   "cell_type": "code",
   "execution_count": null,
   "id": "ad0f32d7",
   "metadata": {},
   "outputs": [],
   "source": [
    "df_merged_l = pd.merge(rc_explode_df, yht_rc_df_cnt, left_on=\"dt_point_holding\", right_on=\"dt_point_holding\", \n",
    "                       how='left')\n",
    "df_merged_o = pd.merge(rc_explode_df, yht_rc_df_cnt, left_on=\"dt_point_holding\", right_on=\"dt_point_holding\", \n",
    "                       how='outer')\n",
    "assert len(df_merged_l) == len(df_merged_o), (\n",
    "       f\"left join results should be eq to the outer join\"\n",
    ")\n",
    "rc_explode_df = df_merged_l\n",
    "rc_explode_df.head()"
   ]
  },
  {
   "cell_type": "code",
   "execution_count": null,
   "id": "8e1fdc7e",
   "metadata": {
    "scrolled": true
   },
   "outputs": [],
   "source": [
    "%%time\n",
    "# save the records data to disk\n",
    "rc_explode_df.set_index(keys=[\"dt_point_holding\"], drop=False, inplace=True)\n",
    "rc_explode_df.sort_index(axis=0, inplace=True)\n",
    "rc_explode_df.to_csv(OUTPUT_PATH)"
   ]
  }
 ],
 "metadata": {
  "kernelspec": {
   "display_name": "rbsys",
   "language": "python",
   "name": "rbsys"
  },
  "language_info": {
   "codemirror_mode": {
    "name": "ipython",
    "version": 3
   },
   "file_extension": ".py",
   "mimetype": "text/x-python",
   "name": "python",
   "nbconvert_exporter": "python",
   "pygments_lexer": "ipython3",
   "version": "3.8.10"
  }
 },
 "nbformat": 4,
 "nbformat_minor": 5
}
