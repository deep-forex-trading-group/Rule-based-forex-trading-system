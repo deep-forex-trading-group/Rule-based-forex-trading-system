{
 "cells": [
  {
   "cell_type": "code",
   "execution_count": null,
   "id": "097c3756",
   "metadata": {},
   "outputs": [],
   "source": [
    "%load_ext autoreload\n",
    "%autoreload 2\n",
    "\n",
    "import os\n",
    "import sys\n",
    "module_path = os.path.abspath(os.path.join('..'))\n",
    "if module_path not in sys.path:\n",
    "    sys.path.append(module_path)\n",
    "\n",
    "import numpy as np\n",
    "import pandas as pd\n",
    "import matplotlib.pyplot as plt"
   ]
  },
  {
   "cell_type": "code",
   "execution_count": null,
   "id": "2fa262e2",
   "metadata": {
    "scrolled": true
   },
   "outputs": [],
   "source": [
    "from Utils.data_get_utils import get_duka_data_df\n",
    "duka_5m_2020_df = get_duka_data_df(\"../data/EURUSD5_duka_2020.csv\", \"EURUSD\")\n",
    "duka_5m_2021_df = get_duka_data_df(\"../data/EURUSD5_duka_2021.csv\", \"EURUSD\")\n",
    "duka_5m_df = pd.concat([duka_5m_2020_df, duka_5m_2021_df])\n",
    "\n",
    "duka_5m_df.head()"
   ]
  },
  {
   "cell_type": "code",
   "execution_count": null,
   "id": "39083b7c",
   "metadata": {
    "scrolled": true
   },
   "outputs": [],
   "source": [
    "from Utils.data_get_utils import get_fm_rc_data_df\n",
    "from Utils.data_get_utils import calc_profit\n",
    "\n",
    "rc_df = get_fm_rc_data_df(\"../data/yht_rc.csv\")\n",
    "# current research is based on EURUSD\n",
    "rc_df=rc_df[rc_df[\"symbol\"]==\"EURUSD\"].reset_index(drop=True)\n",
    "calc_profit(rc_df)"
   ]
  },
  {
   "cell_type": "code",
   "execution_count": null,
   "id": "c685cfd0",
   "metadata": {},
   "outputs": [],
   "source": [
    "rc_df.head()"
   ]
  },
  {
   "cell_type": "code",
   "execution_count": null,
   "id": "38a3c4fe",
   "metadata": {},
   "outputs": [],
   "source": [
    "rc_df.columns"
   ]
  },
  {
   "cell_type": "code",
   "execution_count": null,
   "id": "865aab8b",
   "metadata": {},
   "outputs": [],
   "source": [
    "from Utils.data_process_utils import get_period_bar_date\n",
    "rc_df = get_period_bar_date(rc_df, [\"open_date\",\"close_date\"], 5)\n",
    "rc_df.head()"
   ]
  },
  {
   "cell_type": "markdown",
   "id": "8ea69078",
   "metadata": {},
   "source": [
    "### 检查是否交易记录是否在输入的EURUSD数据里面"
   ]
  },
  {
   "cell_type": "code",
   "execution_count": null,
   "id": "24013f9a",
   "metadata": {},
   "outputs": [],
   "source": [
    "%%time\n",
    "# rc_df中的时间必须都在duka_5m_df当中存在\n",
    "duka_5m_outer_join_rc_df = pd.merge(duka_5m_df, rc_df, left_on=\"datetime\", right_on=\"open_date_mod_5\", how=\"outer\")\n",
    "duka_5m_inner_join_rc_df = pd.merge(duka_5m_df, rc_df, left_on=\"datetime\", right_on=\"open_date_mod_5\", how=\"inner\")\n",
    "duka_5m_right_join_rc_df = pd.merge(duka_5m_df, rc_df, left_on=\"datetime\", right_on=\"open_date_mod_5\", how=\"right\")\n",
    "duka_5m_left_join_rc_df = pd.merge(duka_5m_df, rc_df, left_on=\"datetime\", right_on=\"open_date_mod_5\", how=\"left\")\n",
    "# duka_5m_left_join_rc_df = duka_5m_left_join_rc_df.dropna()"
   ]
  },
  {
   "cell_type": "code",
   "execution_count": null,
   "id": "a72db38e",
   "metadata": {},
   "outputs": [],
   "source": [
    "# classical methods to define the assert\n",
    "assert len(duka_5m_left_join_rc_df.dropna()) == len(rc_df), (\n",
    "        f'Some of the followme records are not in the instrument EURUSD input data.')\n",
    "print(len(duka_5m_left_join_rc_df.dropna()))  \n",
    "len(rc_df)"
   ]
  },
  {
   "cell_type": "markdown",
   "id": "51397dff",
   "metadata": {},
   "source": [
    "### 把时间周期关系全部搞清出来"
   ]
  },
  {
   "cell_type": "code",
   "execution_count": null,
   "id": "1096a482",
   "metadata": {},
   "outputs": [],
   "source": [
    "# gmt + 8 == peking \n",
    "# gmt + 3 == tickmill"
   ]
  },
  {
   "cell_type": "markdown",
   "id": "c14457a9",
   "metadata": {},
   "source": [
    "### 交易记录复现dataframe"
   ]
  },
  {
   "cell_type": "code",
   "execution_count": null,
   "id": "a7e735b3",
   "metadata": {},
   "outputs": [],
   "source": [
    "print(\"bar data length:\", len(duka_5m_df))"
   ]
  },
  {
   "cell_type": "code",
   "execution_count": null,
   "id": "fcd616da",
   "metadata": {},
   "outputs": [],
   "source": [
    "duka_5m_df.head()"
   ]
  },
  {
   "cell_type": "code",
   "execution_count": null,
   "id": "7c5a426c",
   "metadata": {},
   "outputs": [],
   "source": [
    "rc_df.head()"
   ]
  },
  {
   "cell_type": "code",
   "execution_count": null,
   "id": "e45d9841",
   "metadata": {},
   "outputs": [],
   "source": [
    "duka_5m_left_join_rc_df = pd.merge(duka_5m_df, rc_df, \n",
    "                                   left_on=\"datetime\", right_on=\"open_date_mod_5\", \n",
    "                                   how=\"left\")"
   ]
  },
  {
   "cell_type": "markdown",
   "id": "575bea1f",
   "metadata": {},
   "source": [
    "### join 后得到的结果数量比原有的left_df: duka_5m_df 多很正常\n",
    "### 因为同一个位置有可能有多个单子"
   ]
  },
  {
   "cell_type": "code",
   "execution_count": null,
   "id": "96133649",
   "metadata": {},
   "outputs": [],
   "source": [
    "# 保证所有followme当中出现的订单都在左表: duka_5m_df 中出现过\n",
    "assert len(rc_df) == len(duka_5m_left_join_rc_df[duka_5m_left_join_rc_df[\"symbol_y\"].notnull()]),(\n",
    "    f'Some of the records data(rc_df) is lost, rc: ', \n",
    "    len(rc_df), \" results: \", \n",
    "    len(duka_5m_left_join_rc_df[duka_5m_left_join_rc_df[\"symbol_y\"].notnull()])\n",
    ")"
   ]
  },
  {
   "cell_type": "code",
   "execution_count": null,
   "id": "2685db16",
   "metadata": {},
   "outputs": [],
   "source": [
    "%%time\n",
    "from Utils.data_process_utils import slice_df_by_timerange\n",
    "from datetime import timedelta\n",
    "\n",
    "rc_start_dt = duka_5m_left_join_rc_df.dropna()[\"open_date\"].min() - timedelta(hours=2)\n",
    "rc_end_dt = duka_5m_left_join_rc_df.dropna()[\"close_date\"].max() + timedelta(hours=2)\n",
    "print(\"slicing date range : (\", rc_start_dt, \", \", rc_end_dt, \")\")\n",
    "duka_5m_left_join_rc_date_filtered_df = slice_df_by_timerange(duka_5m_left_join_rc_df, \"datetime\", rc_start_dt, rc_end_dt)\n",
    "analysis_df = duka_5m_left_join_rc_date_filtered_df.reset_index(drop=True)\n",
    "analysis_df[analysis_df[\"symbol_y\"].notnull()][[\"symbol_y\",\"open_date_mod_5\",\"close_date_mod_5\"]].head()"
   ]
  },
  {
   "cell_type": "code",
   "execution_count": null,
   "id": "71c53cb6",
   "metadata": {},
   "outputs": [],
   "source": [
    "analysis_df.columns"
   ]
  },
  {
   "cell_type": "markdown",
   "id": "febac706",
   "metadata": {},
   "source": [
    "### Calculates the current holding orders base on record data "
   ]
  },
  {
   "cell_type": "code",
   "execution_count": null,
   "id": "306762b9",
   "metadata": {},
   "outputs": [],
   "source": [
    "%%time\n",
    "\n",
    "def gen_dt_range(row):\n",
    "    start_dt, end_dt = row[\"open_date_mod_5\"], row[\"close_date_mod_5\"]\n",
    "    dt_range = (end_dt-start_dt)\n",
    "    return dt_range\n",
    "\n",
    "rc_df[\"dt_range\"] = rc_df.apply(gen_dt_range, axis=1)\n",
    "# Makes sure that the dt_range can be mod by 5\n",
    "assert rc_df[\"dt_range\"].apply(lambda x: x.seconds % (5*60) == 0).eq(True).all()\n",
    "\n",
    "from datetime import datetime\n",
    "from datetime import timedelta\n",
    "\n",
    "def gen_dt_range_list(row):\n",
    "    dt_range_list = []\n",
    "    start_dt, end_dt = row[\"open_date_mod_5\"], row[\"close_date_mod_5\"]\n",
    "    for dt_point in pd.date_range(start=start_dt, end=end_dt, freq='5min'):\n",
    "        dt_range_list.append(dt_point.to_pydatetime())\n",
    "    return dt_range_list\n",
    "\n",
    "rc_df[\"dt_range_list\"] = rc_df.apply(gen_dt_range_list, axis=1)\n",
    "rc_df[\"dt_range_inter_num\"] = rc_df[\"dt_range_list\"].apply(lambda x: len(x))\n",
    "rc_df[\"dt_range_inter_num\"].sum()"
   ]
  },
  {
   "cell_type": "code",
   "execution_count": null,
   "id": "d4b6c97e",
   "metadata": {},
   "outputs": [],
   "source": [
    "%%time\n",
    "rc_explode_df = rc_df.explode('dt_range_list', ignore_index=True)\n",
    "rc_explode_df = rc_explode_df.rename(columns={\"dt_range_list\": \"dt_point_holding\"})\n",
    "rc_explode_df.set_index(keys=[\"dt_point_holding\"], drop=False, inplace=True)\n",
    "# check_idx = 2\n",
    "# print(rc_df.loc[check_idx,][\"dt_range_list\"])\n",
    "# print(rc_df.loc[check_idx,][\"open_date_mod_5\"])\n",
    "# print(rc_df.loc[check_idx,][\"close_date_mod_5\"])"
   ]
  },
  {
   "cell_type": "code",
   "execution_count": null,
   "id": "87c0c9a9",
   "metadata": {},
   "outputs": [],
   "source": [
    "print(len(rc_explode_df))\n",
    "rc_explode_df.head()"
   ]
  },
  {
   "cell_type": "code",
   "execution_count": null,
   "id": "2c7764a6",
   "metadata": {},
   "outputs": [],
   "source": [
    "%%time\n",
    "rc_explode_df[rc_explode_df[\"dt_point_holding\"]>=\"2021-05-28 14:30:00\"]"
   ]
  },
  {
   "cell_type": "code",
   "execution_count": null,
   "id": "a3db23fb",
   "metadata": {},
   "outputs": [],
   "source": [
    "%%time\n",
    "# save the records data to disk\n",
    "rc_explode_df.sort_index(axis=0, inplace=True)\n",
    "rc_explode_df.to_csv(\"../data/yht_eur_bit_table.csv\")"
   ]
  },
  {
   "cell_type": "code",
   "execution_count": null,
   "id": "8e1fdc7e",
   "metadata": {},
   "outputs": [],
   "source": [
    "ana_df = pd.read_csv(\"../data/yht_eur_bit_table.csv\", index_col=[\"dt_point_holding\"])\n",
    "ana_df.head()"
   ]
  }
 ],
 "metadata": {
  "kernelspec": {
   "display_name": "rbsys",
   "language": "python",
   "name": "rbsys"
  },
  "language_info": {
   "codemirror_mode": {
    "name": "ipython",
    "version": 3
   },
   "file_extension": ".py",
   "mimetype": "text/x-python",
   "name": "python",
   "nbconvert_exporter": "python",
   "pygments_lexer": "ipython3",
   "version": "3.8.10"
  }
 },
 "nbformat": 4,
 "nbformat_minor": 5
}
