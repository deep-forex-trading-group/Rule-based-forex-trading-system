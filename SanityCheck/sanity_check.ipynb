{
 "cells": [
  {
   "cell_type": "code",
   "execution_count": 14,
   "id": "d21aa4d4",
   "metadata": {},
   "outputs": [
    {
     "name": "stdout",
     "output_type": "stream",
     "text": [
      "The autoreload extension is already loaded. To reload it, use:\n",
      "  %reload_ext autoreload\n"
     ]
    }
   ],
   "source": [
    "%load_ext autoreload\n",
    "%autoreload 2\n",
    "\n",
    "import os\n",
    "import sys\n",
    "module_path = os.path.abspath(os.path.join('..'))\n",
    "if module_path not in sys.path:\n",
    "    sys.path.append(module_path)\n",
    "\n",
    "import numpy as np\n",
    "import pandas as pd\n",
    "import matplotlib.pyplot as plt\n",
    "\n",
    "import ga as ga\n",
    "from ga import *\n",
    "\n",
    "import tradingrule_changelogr\n",
    "import tradingrule"
   ]
  },
  {
   "cell_type": "markdown",
   "id": "e9598c1e",
   "metadata": {},
   "source": [
    "### This is a  unittest example codes for testing function usibility"
   ]
  },
  {
   "cell_type": "code",
   "execution_count": 15,
   "id": "c3d7bf26",
   "metadata": {},
   "outputs": [],
   "source": [
    "def add(a, b):\n",
    "    return a + b"
   ]
  },
  {
   "cell_type": "code",
   "execution_count": 16,
   "id": "d04501da",
   "metadata": {},
   "outputs": [
    {
     "name": "stderr",
     "output_type": "stream",
     "text": [
      "test_add (__main__.TestNotebook) ... ok\n",
      "\n",
      "----------------------------------------------------------------------\n",
      "Ran 1 test in 0.000s\n",
      "\n",
      "OK\n"
     ]
    },
    {
     "data": {
      "text/plain": [
       "<unittest.main.TestProgram at 0x7fcfffb62940>"
      ]
     },
     "execution_count": 16,
     "metadata": {},
     "output_type": "execute_result"
    }
   ],
   "source": [
    "import unittest\n",
    "\n",
    "class TestNotebook(unittest.TestCase):\n",
    "    \n",
    "    def test_add(self):\n",
    "        self.assertEqual(add(2, 3), 5)\n",
    "        \n",
    "\n",
    "unittest.main(argv=[''], verbosity=2, exit=False)"
   ]
  },
  {
   "cell_type": "markdown",
   "id": "51ebfc64",
   "metadata": {},
   "source": [
    "### Sanity Check for Trading Rule"
   ]
  },
  {
   "cell_type": "code",
   "execution_count": 17,
   "id": "96b1f60f",
   "metadata": {},
   "outputs": [],
   "source": [
    "# Generates the data for only sanity check\n",
    "import pandas as pd\n",
    "\n",
    "data = pd.read_csv(\"../data/AUDUSD_M5.csv\")\n",
    "data_sc = data.head(25)\n",
    "data_sc.to_csv(\"../data/AUDUSD_M5_Sanity_Check.csv\",index=False)"
   ]
  },
  {
   "cell_type": "code",
   "execution_count": 18,
   "id": "e47bf57f",
   "metadata": {},
   "outputs": [
    {
     "name": "stdout",
     "output_type": "stream",
     "text": [
      "Training Rule1 score is: 0.002\n",
      "Training Rule2 score is: 0.002\n",
      "Training Rule3 score is: 0.002\n",
      "Training Rule4 score is: 0.002\n",
      "Training Rule5 score is: 0.002\n",
      "Training Rule6 score is: 0.003\n",
      "Training Rule7 score is: 0.002\n",
      "Training Rule8 score is: 0.002\n",
      "Training Rule9 score is: 0.001\n",
      "Training Rule10 score is: 0.002\n",
      "Training Rule11 score is: 0.002\n",
      "Training Rule12 score is: 0.001\n",
      "Training Rule13 score is: 0.001\n",
      "Training Rule14 score is: 0.001\n",
      "Training Rule15 score is: 0.001\n",
      "Training Rule16 score is: 0.000\n",
      "CPU times: user 9.53 s, sys: 0 ns, total: 9.53 s\n",
      "Wall time: 9.53 s\n"
     ]
    },
    {
     "data": {
      "text/plain": [
       "[(1, 19),\n",
       " (1, 19),\n",
       " (1, 19),\n",
       " (7, 11),\n",
       " (1, 7),\n",
       " (5, 5),\n",
       " (15, 15),\n",
       " (3, 19),\n",
       " (1, 35),\n",
       " (19, 45),\n",
       " (7, -120),\n",
       " (3, 100, 95),\n",
       " (19, 100, -60),\n",
       " 15,\n",
       " 15,\n",
       " 11]"
      ]
     },
     "execution_count": 18,
     "metadata": {},
     "output_type": "execute_result"
    }
   ],
   "source": [
    "%%time\n",
    "import pandas as pd\n",
    "import tradingrule\n",
    "\n",
    "data = pd.read_csv(\"../data/AUDUSD_M5_Sanity_Check.csv\")\n",
    "params = tradingrule.trainTradingRuleFeatures(data)\n",
    "params"
   ]
  },
  {
   "cell_type": "code",
   "execution_count": 20,
   "id": "ede755ea",
   "metadata": {},
   "outputs": [],
   "source": [
    "import pandas as pd\n",
    "import tradingrule\n",
    "\n",
    "df = pd.read_csv(\"../data/AUDUSD_M5_Sanity_Check.csv\")\n",
    "OHLC = [df.Open, df.High, df.Low, df.Close]\n",
    "period = 5\n",
    "score, signal = tradingrule.Rule16(period, OHLC)"
   ]
  },
  {
   "cell_type": "code",
   "execution_count": 21,
   "id": "e55c180f",
   "metadata": {},
   "outputs": [
    {
     "data": {
      "text/plain": [
       "0.0"
      ]
     },
     "execution_count": 21,
     "metadata": {},
     "output_type": "execute_result"
    }
   ],
   "source": [
    "score"
   ]
  },
  {
   "cell_type": "code",
   "execution_count": 23,
   "id": "0233c463",
   "metadata": {},
   "outputs": [
    {
     "data": {
      "text/plain": [
       "[0.70575,\n",
       " 0.70579,\n",
       " 0.70595,\n",
       " 0.70618,\n",
       " 0.70595,\n",
       " 0.70585,\n",
       " 0.70582,\n",
       " 0.70564,\n",
       " 0.70556,\n",
       " 0.70514,\n",
       " 0.70482,\n",
       " 0.70497,\n",
       " 0.70476,\n",
       " 0.70501,\n",
       " 0.70495,\n",
       " 0.70491,\n",
       " 0.70501,\n",
       " 0.7047,\n",
       " 0.70469,\n",
       " 0.70472,\n",
       " 0.70483,\n",
       " 0.70493,\n",
       " 0.70503,\n",
       " 0.70482,\n",
       " 0.7049]"
      ]
     },
     "execution_count": 23,
     "metadata": {},
     "output_type": "execute_result"
    }
   ],
   "source": [
    "OHLC[3]"
   ]
  },
  {
   "cell_type": "code",
   "execution_count": null,
   "id": "7b2a3c5e",
   "metadata": {},
   "outputs": [],
   "source": []
  }
 ],
 "metadata": {
  "kernelspec": {
   "display_name": "Python 3 (ipykernel)",
   "language": "python",
   "name": "python3"
  },
  "language_info": {
   "codemirror_mode": {
    "name": "ipython",
    "version": 3
   },
   "file_extension": ".py",
   "mimetype": "text/x-python",
   "name": "python",
   "nbconvert_exporter": "python",
   "pygments_lexer": "ipython3",
   "version": "3.8.10"
  }
 },
 "nbformat": 4,
 "nbformat_minor": 5
}
