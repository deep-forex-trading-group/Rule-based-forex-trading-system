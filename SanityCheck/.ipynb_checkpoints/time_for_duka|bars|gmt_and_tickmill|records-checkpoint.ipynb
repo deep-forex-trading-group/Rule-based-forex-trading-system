{
 "cells": [
  {
   "cell_type": "code",
   "execution_count": 11,
   "id": "67213a03",
   "metadata": {},
   "outputs": [
    {
     "name": "stdout",
     "output_type": "stream",
     "text": [
      "The autoreload extension is already loaded. To reload it, use:\n",
      "  %reload_ext autoreload\n"
     ]
    }
   ],
   "source": [
    "%load_ext autoreload\n",
    "%autoreload 2\n",
    "\n",
    "import os\n",
    "import sys\n",
    "module_path = os.path.abspath(os.path.join('..'))\n",
    "if module_path not in sys.path:\n",
    "    sys.path.append(module_path)\n",
    "\n",
    "import numpy as np\n",
    "import pandas as pd\n",
    "import matplotlib.pyplot as plt"
   ]
  },
  {
   "cell_type": "code",
   "execution_count": 12,
   "id": "53ac0623",
   "metadata": {},
   "outputs": [],
   "source": [
    "# 时间周期的对应关系\n",
    "# gmt + 8 == peking \n",
    "# gmt + 3 == tickmill"
   ]
  },
  {
   "cell_type": "code",
   "execution_count": 13,
   "id": "c20bb9c8",
   "metadata": {},
   "outputs": [
    {
     "data": {
      "text/html": [
       "<div>\n",
       "<style scoped>\n",
       "    .dataframe tbody tr th:only-of-type {\n",
       "        vertical-align: middle;\n",
       "    }\n",
       "\n",
       "    .dataframe tbody tr th {\n",
       "        vertical-align: top;\n",
       "    }\n",
       "\n",
       "    .dataframe thead th {\n",
       "        text-align: right;\n",
       "    }\n",
       "</style>\n",
       "<table border=\"1\" class=\"dataframe\">\n",
       "  <thead>\n",
       "    <tr style=\"text-align: right;\">\n",
       "      <th></th>\n",
       "      <th>symbol</th>\n",
       "      <th>datetime</th>\n",
       "      <th>open</th>\n",
       "      <th>high</th>\n",
       "      <th>low</th>\n",
       "      <th>close</th>\n",
       "      <th>volume</th>\n",
       "    </tr>\n",
       "  </thead>\n",
       "  <tbody>\n",
       "    <tr>\n",
       "      <th>264</th>\n",
       "      <td>EURUSD</td>\n",
       "      <td>2020-01-01 22:00:00</td>\n",
       "      <td>1.12136</td>\n",
       "      <td>1.12139</td>\n",
       "      <td>1.12120</td>\n",
       "      <td>1.12125</td>\n",
       "      <td>47.60</td>\n",
       "    </tr>\n",
       "    <tr>\n",
       "      <th>265</th>\n",
       "      <td>EURUSD</td>\n",
       "      <td>2020-01-01 22:05:00</td>\n",
       "      <td>1.12125</td>\n",
       "      <td>1.12127</td>\n",
       "      <td>1.12125</td>\n",
       "      <td>1.12127</td>\n",
       "      <td>91.79</td>\n",
       "    </tr>\n",
       "    <tr>\n",
       "      <th>266</th>\n",
       "      <td>EURUSD</td>\n",
       "      <td>2020-01-01 22:10:00</td>\n",
       "      <td>1.12127</td>\n",
       "      <td>1.12127</td>\n",
       "      <td>1.12123</td>\n",
       "      <td>1.12127</td>\n",
       "      <td>64.98</td>\n",
       "    </tr>\n",
       "    <tr>\n",
       "      <th>267</th>\n",
       "      <td>EURUSD</td>\n",
       "      <td>2020-01-01 22:15:00</td>\n",
       "      <td>1.12127</td>\n",
       "      <td>1.12154</td>\n",
       "      <td>1.12127</td>\n",
       "      <td>1.12146</td>\n",
       "      <td>85.07</td>\n",
       "    </tr>\n",
       "    <tr>\n",
       "      <th>268</th>\n",
       "      <td>EURUSD</td>\n",
       "      <td>2020-01-01 22:20:00</td>\n",
       "      <td>1.12144</td>\n",
       "      <td>1.12153</td>\n",
       "      <td>1.12137</td>\n",
       "      <td>1.12146</td>\n",
       "      <td>123.93</td>\n",
       "    </tr>\n",
       "  </tbody>\n",
       "</table>\n",
       "</div>"
      ],
      "text/plain": [
       "     symbol            datetime     open     high      low    close  volume\n",
       "264  EURUSD 2020-01-01 22:00:00  1.12136  1.12139  1.12120  1.12125   47.60\n",
       "265  EURUSD 2020-01-01 22:05:00  1.12125  1.12127  1.12125  1.12127   91.79\n",
       "266  EURUSD 2020-01-01 22:10:00  1.12127  1.12127  1.12123  1.12127   64.98\n",
       "267  EURUSD 2020-01-01 22:15:00  1.12127  1.12154  1.12127  1.12146   85.07\n",
       "268  EURUSD 2020-01-01 22:20:00  1.12144  1.12153  1.12137  1.12146  123.93"
      ]
     },
     "execution_count": 13,
     "metadata": {},
     "output_type": "execute_result"
    }
   ],
   "source": [
    "from Utils.data_get_utils import get_duka_data_df\n",
    "duka_5m_2020_df = get_duka_data_df(\"../data/EURUSD5_duka_2020.csv\", \"EURUSD\")\n",
    "duka_5m_2021_df = get_duka_data_df(\"../data/EURUSD5_duka_2021.csv\", \"EURUSD\")\n",
    "duka_5m_df = pd.concat([duka_5m_2020_df, duka_5m_2021_df])\n",
    "\n",
    "duka_5m_df.head()"
   ]
  },
  {
   "cell_type": "code",
   "execution_count": 14,
   "id": "96b671ce",
   "metadata": {},
   "outputs": [],
   "source": [
    "tickmill_5m_df = pd.read_csv(\"../data/EURUSD5.csv\", names=[\"date\", \"time\", \"Open\", \"High\", \"Low\", \"Close\", \"Volume\"])\n",
    "tickmill_5m_df[\"datetime\"] = tickmill_5m_df[\"date\"] + \" \" + tickmill_5m_df[\"time\"]\n",
    "tickmill_5m_df[\"datetime\"] = pd.to_datetime(tickmill_5m_df[\"datetime\"])\n",
    "tickmill_5m_df = tickmill_5m_df[[\"datetime\", \"Open\", \"High\", \"Low\", \"Close\", \"Volume\"]]"
   ]
  },
  {
   "cell_type": "code",
   "execution_count": 15,
   "id": "96afb772",
   "metadata": {},
   "outputs": [],
   "source": [
    "# transfer the tickmill time to the gmt time\n",
    "# tickmill_time = gmt_time + 3\n",
    "from datetime import timedelta\n",
    "tickmill_5m_df[\"datetime_gmt\"] = tickmill_5m_df[\"datetime\"] - timedelta(hours=3)\n",
    "tickmill_5m_dt_df = tickmill_5m_df\n",
    "tickmill_5m_dt_df[\"datetime\"] = tickmill_5m_dt_df[\"datetime_gmt\"]\n",
    "tickmill_5m_dt_df = tickmill_5m_dt_df.drop(columns=[\"datetime_gmt\"])"
   ]
  },
  {
   "cell_type": "code",
   "execution_count": 22,
   "id": "9fc26719",
   "metadata": {},
   "outputs": [],
   "source": [
    "tickmill_5m_ana_df = tickmill_5m_dt_df[(tickmill_5m_dt_df[\"datetime\"]>=\"2021-07-06 00:00:00\") \\\n",
    "                                       & (tickmill_5m_dt_df[\"datetime\"]<=\"2021-07-06 23:45:00\")].reset_index()"
   ]
  },
  {
   "cell_type": "code",
   "execution_count": 23,
   "id": "5b945e80",
   "metadata": {},
   "outputs": [],
   "source": [
    "duka_5m_ana_df = duka_5m_df[(duka_5m_df[\"datetime\"]>=\"2021-07-06 00:00:00\")\\\n",
    "                            & (duka_5m_df[\"datetime\"]<=\"2021-07-06 23:45:00\")].reset_index()"
   ]
  },
  {
   "cell_type": "code",
   "execution_count": 24,
   "id": "d3c520f6",
   "metadata": {},
   "outputs": [
    {
     "data": {
      "text/html": [
       "<div>\n",
       "<style scoped>\n",
       "    .dataframe tbody tr th:only-of-type {\n",
       "        vertical-align: middle;\n",
       "    }\n",
       "\n",
       "    .dataframe tbody tr th {\n",
       "        vertical-align: top;\n",
       "    }\n",
       "\n",
       "    .dataframe thead th {\n",
       "        text-align: right;\n",
       "    }\n",
       "</style>\n",
       "<table border=\"1\" class=\"dataframe\">\n",
       "  <thead>\n",
       "    <tr style=\"text-align: right;\">\n",
       "      <th></th>\n",
       "      <th>index</th>\n",
       "      <th>datetime</th>\n",
       "      <th>Open</th>\n",
       "      <th>High</th>\n",
       "      <th>Low</th>\n",
       "      <th>Close</th>\n",
       "      <th>Volume</th>\n",
       "    </tr>\n",
       "  </thead>\n",
       "  <tbody>\n",
       "    <tr>\n",
       "      <th>0</th>\n",
       "      <td>38423</td>\n",
       "      <td>2021-07-06 00:00:00</td>\n",
       "      <td>1.18625</td>\n",
       "      <td>1.18639</td>\n",
       "      <td>1.18602</td>\n",
       "      <td>1.18620</td>\n",
       "      <td>338</td>\n",
       "    </tr>\n",
       "    <tr>\n",
       "      <th>1</th>\n",
       "      <td>38424</td>\n",
       "      <td>2021-07-06 00:05:00</td>\n",
       "      <td>1.18616</td>\n",
       "      <td>1.18652</td>\n",
       "      <td>1.18605</td>\n",
       "      <td>1.18652</td>\n",
       "      <td>231</td>\n",
       "    </tr>\n",
       "    <tr>\n",
       "      <th>2</th>\n",
       "      <td>38425</td>\n",
       "      <td>2021-07-06 00:10:00</td>\n",
       "      <td>1.18652</td>\n",
       "      <td>1.18666</td>\n",
       "      <td>1.18645</td>\n",
       "      <td>1.18660</td>\n",
       "      <td>140</td>\n",
       "    </tr>\n",
       "    <tr>\n",
       "      <th>3</th>\n",
       "      <td>38426</td>\n",
       "      <td>2021-07-06 00:15:00</td>\n",
       "      <td>1.18659</td>\n",
       "      <td>1.18659</td>\n",
       "      <td>1.18634</td>\n",
       "      <td>1.18635</td>\n",
       "      <td>146</td>\n",
       "    </tr>\n",
       "    <tr>\n",
       "      <th>4</th>\n",
       "      <td>38427</td>\n",
       "      <td>2021-07-06 00:20:00</td>\n",
       "      <td>1.18634</td>\n",
       "      <td>1.18650</td>\n",
       "      <td>1.18632</td>\n",
       "      <td>1.18633</td>\n",
       "      <td>129</td>\n",
       "    </tr>\n",
       "    <tr>\n",
       "      <th>...</th>\n",
       "      <td>...</td>\n",
       "      <td>...</td>\n",
       "      <td>...</td>\n",
       "      <td>...</td>\n",
       "      <td>...</td>\n",
       "      <td>...</td>\n",
       "      <td>...</td>\n",
       "    </tr>\n",
       "    <tr>\n",
       "      <th>281</th>\n",
       "      <td>38704</td>\n",
       "      <td>2021-07-06 23:25:00</td>\n",
       "      <td>1.18212</td>\n",
       "      <td>1.18217</td>\n",
       "      <td>1.18208</td>\n",
       "      <td>1.18213</td>\n",
       "      <td>68</td>\n",
       "    </tr>\n",
       "    <tr>\n",
       "      <th>282</th>\n",
       "      <td>38705</td>\n",
       "      <td>2021-07-06 23:30:00</td>\n",
       "      <td>1.18214</td>\n",
       "      <td>1.18218</td>\n",
       "      <td>1.18207</td>\n",
       "      <td>1.18212</td>\n",
       "      <td>100</td>\n",
       "    </tr>\n",
       "    <tr>\n",
       "      <th>283</th>\n",
       "      <td>38706</td>\n",
       "      <td>2021-07-06 23:35:00</td>\n",
       "      <td>1.18214</td>\n",
       "      <td>1.18228</td>\n",
       "      <td>1.18213</td>\n",
       "      <td>1.18222</td>\n",
       "      <td>103</td>\n",
       "    </tr>\n",
       "    <tr>\n",
       "      <th>284</th>\n",
       "      <td>38707</td>\n",
       "      <td>2021-07-06 23:40:00</td>\n",
       "      <td>1.18224</td>\n",
       "      <td>1.18250</td>\n",
       "      <td>1.18222</td>\n",
       "      <td>1.18247</td>\n",
       "      <td>145</td>\n",
       "    </tr>\n",
       "    <tr>\n",
       "      <th>285</th>\n",
       "      <td>38708</td>\n",
       "      <td>2021-07-06 23:45:00</td>\n",
       "      <td>1.18246</td>\n",
       "      <td>1.18247</td>\n",
       "      <td>1.18231</td>\n",
       "      <td>1.18235</td>\n",
       "      <td>107</td>\n",
       "    </tr>\n",
       "  </tbody>\n",
       "</table>\n",
       "<p>286 rows × 7 columns</p>\n",
       "</div>"
      ],
      "text/plain": [
       "     index            datetime     Open     High      Low    Close  Volume\n",
       "0    38423 2021-07-06 00:00:00  1.18625  1.18639  1.18602  1.18620     338\n",
       "1    38424 2021-07-06 00:05:00  1.18616  1.18652  1.18605  1.18652     231\n",
       "2    38425 2021-07-06 00:10:00  1.18652  1.18666  1.18645  1.18660     140\n",
       "3    38426 2021-07-06 00:15:00  1.18659  1.18659  1.18634  1.18635     146\n",
       "4    38427 2021-07-06 00:20:00  1.18634  1.18650  1.18632  1.18633     129\n",
       "..     ...                 ...      ...      ...      ...      ...     ...\n",
       "281  38704 2021-07-06 23:25:00  1.18212  1.18217  1.18208  1.18213      68\n",
       "282  38705 2021-07-06 23:30:00  1.18214  1.18218  1.18207  1.18212     100\n",
       "283  38706 2021-07-06 23:35:00  1.18214  1.18228  1.18213  1.18222     103\n",
       "284  38707 2021-07-06 23:40:00  1.18224  1.18250  1.18222  1.18247     145\n",
       "285  38708 2021-07-06 23:45:00  1.18246  1.18247  1.18231  1.18235     107\n",
       "\n",
       "[286 rows x 7 columns]"
      ]
     },
     "execution_count": 24,
     "metadata": {},
     "output_type": "execute_result"
    }
   ],
   "source": [
    "tickmill_5m_ana_df"
   ]
  },
  {
   "cell_type": "code",
   "execution_count": 25,
   "id": "7f216d04",
   "metadata": {},
   "outputs": [
    {
     "data": {
      "text/html": [
       "<div>\n",
       "<style scoped>\n",
       "    .dataframe tbody tr th:only-of-type {\n",
       "        vertical-align: middle;\n",
       "    }\n",
       "\n",
       "    .dataframe tbody tr th {\n",
       "        vertical-align: top;\n",
       "    }\n",
       "\n",
       "    .dataframe thead th {\n",
       "        text-align: right;\n",
       "    }\n",
       "</style>\n",
       "<table border=\"1\" class=\"dataframe\">\n",
       "  <thead>\n",
       "    <tr style=\"text-align: right;\">\n",
       "      <th></th>\n",
       "      <th>index</th>\n",
       "      <th>symbol</th>\n",
       "      <th>datetime</th>\n",
       "      <th>open</th>\n",
       "      <th>high</th>\n",
       "      <th>low</th>\n",
       "      <th>close</th>\n",
       "      <th>volume</th>\n",
       "    </tr>\n",
       "  </thead>\n",
       "  <tbody>\n",
       "    <tr>\n",
       "      <th>0</th>\n",
       "      <td>53568</td>\n",
       "      <td>EURUSD</td>\n",
       "      <td>2021-07-06 00:00:00</td>\n",
       "      <td>1.18623</td>\n",
       "      <td>1.18637</td>\n",
       "      <td>1.18601</td>\n",
       "      <td>1.18618</td>\n",
       "      <td>503.30</td>\n",
       "    </tr>\n",
       "    <tr>\n",
       "      <th>1</th>\n",
       "      <td>53569</td>\n",
       "      <td>EURUSD</td>\n",
       "      <td>2021-07-06 00:05:00</td>\n",
       "      <td>1.18616</td>\n",
       "      <td>1.18651</td>\n",
       "      <td>1.18604</td>\n",
       "      <td>1.18650</td>\n",
       "      <td>167.05</td>\n",
       "    </tr>\n",
       "    <tr>\n",
       "      <th>2</th>\n",
       "      <td>53570</td>\n",
       "      <td>EURUSD</td>\n",
       "      <td>2021-07-06 00:10:00</td>\n",
       "      <td>1.18652</td>\n",
       "      <td>1.18664</td>\n",
       "      <td>1.18644</td>\n",
       "      <td>1.18657</td>\n",
       "      <td>125.05</td>\n",
       "    </tr>\n",
       "    <tr>\n",
       "      <th>3</th>\n",
       "      <td>53571</td>\n",
       "      <td>EURUSD</td>\n",
       "      <td>2021-07-06 00:15:00</td>\n",
       "      <td>1.18658</td>\n",
       "      <td>1.18658</td>\n",
       "      <td>1.18631</td>\n",
       "      <td>1.18632</td>\n",
       "      <td>162.90</td>\n",
       "    </tr>\n",
       "    <tr>\n",
       "      <th>4</th>\n",
       "      <td>53572</td>\n",
       "      <td>EURUSD</td>\n",
       "      <td>2021-07-06 00:20:00</td>\n",
       "      <td>1.18631</td>\n",
       "      <td>1.18648</td>\n",
       "      <td>1.18631</td>\n",
       "      <td>1.18632</td>\n",
       "      <td>126.23</td>\n",
       "    </tr>\n",
       "    <tr>\n",
       "      <th>...</th>\n",
       "      <td>...</td>\n",
       "      <td>...</td>\n",
       "      <td>...</td>\n",
       "      <td>...</td>\n",
       "      <td>...</td>\n",
       "      <td>...</td>\n",
       "      <td>...</td>\n",
       "      <td>...</td>\n",
       "    </tr>\n",
       "    <tr>\n",
       "      <th>281</th>\n",
       "      <td>53849</td>\n",
       "      <td>EURUSD</td>\n",
       "      <td>2021-07-06 23:25:00</td>\n",
       "      <td>1.18211</td>\n",
       "      <td>1.18217</td>\n",
       "      <td>1.18208</td>\n",
       "      <td>1.18213</td>\n",
       "      <td>30.26</td>\n",
       "    </tr>\n",
       "    <tr>\n",
       "      <th>282</th>\n",
       "      <td>53850</td>\n",
       "      <td>EURUSD</td>\n",
       "      <td>2021-07-06 23:30:00</td>\n",
       "      <td>1.18215</td>\n",
       "      <td>1.18219</td>\n",
       "      <td>1.18206</td>\n",
       "      <td>1.18213</td>\n",
       "      <td>50.92</td>\n",
       "    </tr>\n",
       "    <tr>\n",
       "      <th>283</th>\n",
       "      <td>53851</td>\n",
       "      <td>EURUSD</td>\n",
       "      <td>2021-07-06 23:35:00</td>\n",
       "      <td>1.18214</td>\n",
       "      <td>1.18229</td>\n",
       "      <td>1.18214</td>\n",
       "      <td>1.18222</td>\n",
       "      <td>64.74</td>\n",
       "    </tr>\n",
       "    <tr>\n",
       "      <th>284</th>\n",
       "      <td>53852</td>\n",
       "      <td>EURUSD</td>\n",
       "      <td>2021-07-06 23:40:00</td>\n",
       "      <td>1.18222</td>\n",
       "      <td>1.18248</td>\n",
       "      <td>1.18221</td>\n",
       "      <td>1.18245</td>\n",
       "      <td>145.41</td>\n",
       "    </tr>\n",
       "    <tr>\n",
       "      <th>285</th>\n",
       "      <td>53853</td>\n",
       "      <td>EURUSD</td>\n",
       "      <td>2021-07-06 23:45:00</td>\n",
       "      <td>1.18244</td>\n",
       "      <td>1.18244</td>\n",
       "      <td>1.18230</td>\n",
       "      <td>1.18232</td>\n",
       "      <td>108.76</td>\n",
       "    </tr>\n",
       "  </tbody>\n",
       "</table>\n",
       "<p>286 rows × 8 columns</p>\n",
       "</div>"
      ],
      "text/plain": [
       "     index  symbol            datetime     open     high      low    close  \\\n",
       "0    53568  EURUSD 2021-07-06 00:00:00  1.18623  1.18637  1.18601  1.18618   \n",
       "1    53569  EURUSD 2021-07-06 00:05:00  1.18616  1.18651  1.18604  1.18650   \n",
       "2    53570  EURUSD 2021-07-06 00:10:00  1.18652  1.18664  1.18644  1.18657   \n",
       "3    53571  EURUSD 2021-07-06 00:15:00  1.18658  1.18658  1.18631  1.18632   \n",
       "4    53572  EURUSD 2021-07-06 00:20:00  1.18631  1.18648  1.18631  1.18632   \n",
       "..     ...     ...                 ...      ...      ...      ...      ...   \n",
       "281  53849  EURUSD 2021-07-06 23:25:00  1.18211  1.18217  1.18208  1.18213   \n",
       "282  53850  EURUSD 2021-07-06 23:30:00  1.18215  1.18219  1.18206  1.18213   \n",
       "283  53851  EURUSD 2021-07-06 23:35:00  1.18214  1.18229  1.18214  1.18222   \n",
       "284  53852  EURUSD 2021-07-06 23:40:00  1.18222  1.18248  1.18221  1.18245   \n",
       "285  53853  EURUSD 2021-07-06 23:45:00  1.18244  1.18244  1.18230  1.18232   \n",
       "\n",
       "     volume  \n",
       "0    503.30  \n",
       "1    167.05  \n",
       "2    125.05  \n",
       "3    162.90  \n",
       "4    126.23  \n",
       "..      ...  \n",
       "281   30.26  \n",
       "282   50.92  \n",
       "283   64.74  \n",
       "284  145.41  \n",
       "285  108.76  \n",
       "\n",
       "[286 rows x 8 columns]"
      ]
     },
     "execution_count": 25,
     "metadata": {},
     "output_type": "execute_result"
    }
   ],
   "source": [
    "duka_5m_ana_df"
   ]
  },
  {
   "cell_type": "code",
   "execution_count": 37,
   "id": "6fcccbdb",
   "metadata": {},
   "outputs": [
    {
     "data": {
      "text/plain": [
       "1.18652"
      ]
     },
     "execution_count": 37,
     "metadata": {},
     "output_type": "execute_result"
    }
   ],
   "source": [
    "tickmill_5m_ana_df[\"Open\"].loc[2]"
   ]
  },
  {
   "cell_type": "code",
   "execution_count": 60,
   "id": "a25e0b56",
   "metadata": {},
   "outputs": [],
   "source": [
    "df1=pd.Series([1.18625])\n",
    "df2=pd.Series([1.18623])\n",
    "assert_series_equal(df1, df2, check_names=False, \n",
    "                    check_exact=False, atol=4e-5, rtol=0)"
   ]
  },
  {
   "cell_type": "code",
   "execution_count": 61,
   "id": "913f9335",
   "metadata": {},
   "outputs": [
    {
     "data": {
      "text/plain": [
       "0    1.18625\n",
       "1    1.18616\n",
       "2    1.18652\n",
       "3    1.18659\n",
       "4    1.18634\n",
       "5    1.18634\n",
       "Name: Open, dtype: float64"
      ]
     },
     "execution_count": 61,
     "metadata": {},
     "output_type": "execute_result"
    }
   ],
   "source": [
    "tickmill_5m_ana_df[\"Open\"].loc[:5]"
   ]
  },
  {
   "cell_type": "code",
   "execution_count": 62,
   "id": "6b2cd2f4",
   "metadata": {},
   "outputs": [
    {
     "data": {
      "text/plain": [
       "0    1.18623\n",
       "1    1.18616\n",
       "2    1.18652\n",
       "3    1.18658\n",
       "4    1.18631\n",
       "5    1.18630\n",
       "Name: open, dtype: float64"
      ]
     },
     "execution_count": 62,
     "metadata": {},
     "output_type": "execute_result"
    }
   ],
   "source": [
    "duka_5m_ana_df[\"open\"].loc[:5]"
   ]
  },
  {
   "cell_type": "markdown",
   "id": "78045e16",
   "metadata": {},
   "source": [
    "### 以下是按照一定的decimal(小数点后保留精度位数)来测试两个frame是否相同的代码\n",
    "Pandas和numpy的测试方式都有一定问题，  \n",
    "所以Assert报出来的错误只要还算ok，就没啥大问题"
   ]
  },
  {
   "cell_type": "code",
   "execution_count": 87,
   "id": "94a60c9c",
   "metadata": {},
   "outputs": [
    {
     "ename": "AssertionError",
     "evalue": "\nArrays are not almost equal to 4 decimals\n\nMismatched elements: 3 / 286 (1.05%)\nMax absolute difference: 0.00024\nMax relative difference: 0.00020303\n x: array([1.1863, 1.1862, 1.1865, 1.1866, 1.1863, 1.1863, 1.1861, 1.1862,\n       1.1863, 1.1862, 1.1864, 1.1862, 1.1861, 1.1861, 1.186 , 1.1859,\n       1.186 , 1.186 , 1.1861, 1.1861, 1.1862, 1.1863, 1.1864, 1.1866,...\n y: array([1.1862, 1.1862, 1.1865, 1.1866, 1.1863, 1.1863, 1.186 , 1.1862,\n       1.1863, 1.1863, 1.1864, 1.1861, 1.1861, 1.1861, 1.186 , 1.1858,\n       1.186 , 1.186 , 1.1861, 1.1861, 1.1862, 1.1863, 1.1864, 1.1866,...",
     "output_type": "error",
     "traceback": [
      "\u001b[0;31m---------------------------------------------------------------------------\u001b[0m",
      "\u001b[0;31mAssertionError\u001b[0m                            Traceback (most recent call last)",
      "\u001b[0;32m~/tmp/ipykernel_267876/3438079304.py\u001b[0m in \u001b[0;36m<module>\u001b[0;34m\u001b[0m\n\u001b[1;32m      1\u001b[0m \u001b[0;32mimport\u001b[0m \u001b[0mnumpy\u001b[0m \u001b[0;32mas\u001b[0m \u001b[0mnp\u001b[0m\u001b[0;34m\u001b[0m\u001b[0;34m\u001b[0m\u001b[0m\n\u001b[1;32m      2\u001b[0m \u001b[0;32mfrom\u001b[0m \u001b[0mdatetime\u001b[0m \u001b[0;32mimport\u001b[0m \u001b[0mtimedelta\u001b[0m\u001b[0;34m\u001b[0m\u001b[0;34m\u001b[0m\u001b[0m\n\u001b[0;32m----> 3\u001b[0;31m np.testing.assert_array_almost_equal(np.array(tickmill_5m_ana_df[\"Open\"]),\n\u001b[0m\u001b[1;32m      4\u001b[0m                                      \u001b[0mnp\u001b[0m\u001b[0;34m.\u001b[0m\u001b[0marray\u001b[0m\u001b[0;34m(\u001b[0m\u001b[0mduka_5m_ana_df\u001b[0m\u001b[0;34m[\u001b[0m\u001b[0;34m\"open\"\u001b[0m\u001b[0;34m]\u001b[0m\u001b[0;34m)\u001b[0m\u001b[0;34m,\u001b[0m\u001b[0;34m\u001b[0m\u001b[0;34m\u001b[0m\u001b[0m\n\u001b[1;32m      5\u001b[0m                                      decimal=4, verbose=True)\n",
      "    \u001b[0;31m[... skipping hidden 1 frame]\u001b[0m\n",
      "\u001b[0;32m~/anaconda3/envs/rbsys/lib/python3.8/site-packages/numpy/testing/_private/utils.py\u001b[0m in \u001b[0;36massert_array_compare\u001b[0;34m(comparison, x, y, err_msg, verbose, header, precision, equal_nan, equal_inf)\u001b[0m\n\u001b[1;32m    840\u001b[0m                                 \u001b[0mverbose\u001b[0m\u001b[0;34m=\u001b[0m\u001b[0mverbose\u001b[0m\u001b[0;34m,\u001b[0m \u001b[0mheader\u001b[0m\u001b[0;34m=\u001b[0m\u001b[0mheader\u001b[0m\u001b[0;34m,\u001b[0m\u001b[0;34m\u001b[0m\u001b[0;34m\u001b[0m\u001b[0m\n\u001b[1;32m    841\u001b[0m                                 names=('x', 'y'), precision=precision)\n\u001b[0;32m--> 842\u001b[0;31m             \u001b[0;32mraise\u001b[0m \u001b[0mAssertionError\u001b[0m\u001b[0;34m(\u001b[0m\u001b[0mmsg\u001b[0m\u001b[0;34m)\u001b[0m\u001b[0;34m\u001b[0m\u001b[0;34m\u001b[0m\u001b[0m\n\u001b[0m\u001b[1;32m    843\u001b[0m     \u001b[0;32mexcept\u001b[0m \u001b[0mValueError\u001b[0m\u001b[0;34m:\u001b[0m\u001b[0;34m\u001b[0m\u001b[0;34m\u001b[0m\u001b[0m\n\u001b[1;32m    844\u001b[0m         \u001b[0;32mimport\u001b[0m \u001b[0mtraceback\u001b[0m\u001b[0;34m\u001b[0m\u001b[0;34m\u001b[0m\u001b[0m\n",
      "\u001b[0;31mAssertionError\u001b[0m: \nArrays are not almost equal to 4 decimals\n\nMismatched elements: 3 / 286 (1.05%)\nMax absolute difference: 0.00024\nMax relative difference: 0.00020303\n x: array([1.1863, 1.1862, 1.1865, 1.1866, 1.1863, 1.1863, 1.1861, 1.1862,\n       1.1863, 1.1862, 1.1864, 1.1862, 1.1861, 1.1861, 1.186 , 1.1859,\n       1.186 , 1.186 , 1.1861, 1.1861, 1.1862, 1.1863, 1.1864, 1.1866,...\n y: array([1.1862, 1.1862, 1.1865, 1.1866, 1.1863, 1.1863, 1.186 , 1.1862,\n       1.1863, 1.1863, 1.1864, 1.1861, 1.1861, 1.1861, 1.186 , 1.1858,\n       1.186 , 1.186 , 1.1861, 1.1861, 1.1862, 1.1863, 1.1864, 1.1866,..."
     ]
    }
   ],
   "source": [
    "import numpy as np\n",
    "from datetime import timedelta\n",
    "np.testing.assert_array_almost_equal(np.array(tickmill_5m_ana_df[\"Open\"]),\n",
    "                                     np.array(duka_5m_ana_df[\"open\"]), \n",
    "                                     decimal=4, verbose=True)"
   ]
  },
  {
   "cell_type": "code",
   "execution_count": 72,
   "id": "3dd28ebb",
   "metadata": {},
   "outputs": [
    {
     "ename": "AssertionError",
     "evalue": "Series are different\n\nSeries values are different (11.18881 %)\n[index]: [0, 1, 2, 3, 4, 5, 6, 7, 8, 9, 10, 11, 12, 13, 14, 15, 16, 17, 18, 19, 20, 21, 22, 23, 24, 25, 26, 27, 28, 29, 30, 31, 32, 33, 34, 35, 36, 37, 38, 39, 40, 41, 42, 43, 44, 45, 46, 47, 48, 49, 50, 51, 52, 53, 54, 55, 56, 57, 58, 59, 60, 61, 62, 63, 64, 65, 66, 67, 68, 69, 70, 71, 72, 73, 74, 75, 76, 77, 78, 79, 80, 81, 82, 83, 84, 85, 86, 87, 88, 89, 90, 91, 92, 93, 94, 95, 96, 97, 98, 99, ...]\n[left]:  [1.18625, 1.18616, 1.18652, 1.18659, 1.18634, 1.18634, 1.18605, 1.18617, 1.18634, 1.18624, 1.18641, 1.18618, 1.1861, 1.18607, 1.18598, 1.18588, 1.18597, 1.18595, 1.18608, 1.18613, 1.18618, 1.18633, 1.18638, 1.1866, 1.18658, 1.18681, 1.18682, 1.18689, 1.18682, 1.18682, 1.1867, 1.18674, 1.18663, 1.18668, 1.18687, 1.18696, 1.18718, 1.18727, 1.18719, 1.18736, 1.18726, 1.18727, 1.18743, 1.18747, 1.1874, 1.18748, 1.18745, 1.18747, 1.18737, 1.18741, 1.18738, 1.18739, 1.18732, 1.18732, 1.1873, 1.18757, 1.18705, 1.18718, 1.18713, 1.18738, 1.18744, 1.18756, 1.18759, 1.18778, 1.18781, 1.18789, 1.18776, 1.18786, 1.18791, 1.1879, 1.18789, 1.18794, 1.18825, 1.18897, 1.1894, 1.18934, 1.18939, 1.18913, 1.18919, 1.18922, 1.18894, 1.18912, 1.18888, 1.18896, 1.18905, 1.18877, 1.18884, 1.18856, 1.18827, 1.18848, 1.18864, 1.18827, 1.18814, 1.1877, 1.18787, 1.18774, 1.18723, 1.18699, 1.18654, 1.1861, ...]\n[right]: [1.18623, 1.18616, 1.18652, 1.18658, 1.18631, 1.1863, 1.18604, 1.18617, 1.18633, 1.18626, 1.1864, 1.18611, 1.18605, 1.18607, 1.18597, 1.18583, 1.18595, 1.18595, 1.18607, 1.18612, 1.18618, 1.18628, 1.18637, 1.18657, 1.18655, 1.18676, 1.18679, 1.18687, 1.1868, 1.18681, 1.18667, 1.18673, 1.18661, 1.18666, 1.18686, 1.18696, 1.18716, 1.18725, 1.18716, 1.18731, 1.18723, 1.18724, 1.1874, 1.18744, 1.18739, 1.18743, 1.18742, 1.18744, 1.18735, 1.18738, 1.18735, 1.18736, 1.18729, 1.18729, 1.18728, 1.18755, 1.18703, 1.18715, 1.18711, 1.18737, 1.18741, 1.18754, 1.18757, 1.18775, 1.1878, 1.18786, 1.18774, 1.18785, 1.18787, 1.18789, 1.18788, 1.18793, 1.18825, 1.18897, 1.18939, 1.18935, 1.18937, 1.18913, 1.1892, 1.18921, 1.18891, 1.18909, 1.18886, 1.18896, 1.18902, 1.18877, 1.18882, 1.18854, 1.18824, 1.18847, 1.18863, 1.18826, 1.18812, 1.1877, 1.18789, 1.18771, 1.18719, 1.18696, 1.18652, 1.18607, ...]",
     "output_type": "error",
     "traceback": [
      "\u001b[0;31m---------------------------------------------------------------------------\u001b[0m",
      "\u001b[0;31mAssertionError\u001b[0m                            Traceback (most recent call last)",
      "\u001b[0;32m~/tmp/ipykernel_267876/2684329470.py\u001b[0m in \u001b[0;36m<module>\u001b[0;34m\u001b[0m\n\u001b[1;32m      1\u001b[0m \u001b[0;32mfrom\u001b[0m \u001b[0mpandas\u001b[0m\u001b[0;34m.\u001b[0m\u001b[0mtesting\u001b[0m \u001b[0;32mimport\u001b[0m \u001b[0massert_series_equal\u001b[0m\u001b[0;34m\u001b[0m\u001b[0;34m\u001b[0m\u001b[0m\n\u001b[1;32m      2\u001b[0m \u001b[0;34m\u001b[0m\u001b[0m\n\u001b[0;32m----> 3\u001b[0;31m assert_series_equal(tickmill_5m_ana_df[\"Open\"].loc[:], duka_5m_ana_df[\"open\"].loc[:], check_names=False, \n\u001b[0m\u001b[1;32m      4\u001b[0m                     check_exact=False, atol=4e-5, rtol=0)\n",
      "    \u001b[0;31m[... skipping hidden 1 frame]\u001b[0m\n",
      "\u001b[0;32m~/anaconda3/envs/rbsys/lib/python3.8/site-packages/pandas/_libs/testing.pyx\u001b[0m in \u001b[0;36mpandas._libs.testing.assert_almost_equal\u001b[0;34m()\u001b[0m\n",
      "\u001b[0;32m~/anaconda3/envs/rbsys/lib/python3.8/site-packages/pandas/_libs/testing.pyx\u001b[0m in \u001b[0;36mpandas._libs.testing.assert_almost_equal\u001b[0;34m()\u001b[0m\n",
      "\u001b[0;32m~/anaconda3/envs/rbsys/lib/python3.8/site-packages/pandas/_testing/asserters.py\u001b[0m in \u001b[0;36mraise_assert_detail\u001b[0;34m(obj, message, left, right, diff, index_values)\u001b[0m\n\u001b[1;32m    663\u001b[0m         \u001b[0mmsg\u001b[0m \u001b[0;34m+=\u001b[0m \u001b[0;34mf\"\\n[diff]: {diff}\"\u001b[0m\u001b[0;34m\u001b[0m\u001b[0;34m\u001b[0m\u001b[0m\n\u001b[1;32m    664\u001b[0m \u001b[0;34m\u001b[0m\u001b[0m\n\u001b[0;32m--> 665\u001b[0;31m     \u001b[0;32mraise\u001b[0m \u001b[0mAssertionError\u001b[0m\u001b[0;34m(\u001b[0m\u001b[0mmsg\u001b[0m\u001b[0;34m)\u001b[0m\u001b[0;34m\u001b[0m\u001b[0;34m\u001b[0m\u001b[0m\n\u001b[0m\u001b[1;32m    666\u001b[0m \u001b[0;34m\u001b[0m\u001b[0m\n\u001b[1;32m    667\u001b[0m \u001b[0;34m\u001b[0m\u001b[0m\n",
      "\u001b[0;31mAssertionError\u001b[0m: Series are different\n\nSeries values are different (11.18881 %)\n[index]: [0, 1, 2, 3, 4, 5, 6, 7, 8, 9, 10, 11, 12, 13, 14, 15, 16, 17, 18, 19, 20, 21, 22, 23, 24, 25, 26, 27, 28, 29, 30, 31, 32, 33, 34, 35, 36, 37, 38, 39, 40, 41, 42, 43, 44, 45, 46, 47, 48, 49, 50, 51, 52, 53, 54, 55, 56, 57, 58, 59, 60, 61, 62, 63, 64, 65, 66, 67, 68, 69, 70, 71, 72, 73, 74, 75, 76, 77, 78, 79, 80, 81, 82, 83, 84, 85, 86, 87, 88, 89, 90, 91, 92, 93, 94, 95, 96, 97, 98, 99, ...]\n[left]:  [1.18625, 1.18616, 1.18652, 1.18659, 1.18634, 1.18634, 1.18605, 1.18617, 1.18634, 1.18624, 1.18641, 1.18618, 1.1861, 1.18607, 1.18598, 1.18588, 1.18597, 1.18595, 1.18608, 1.18613, 1.18618, 1.18633, 1.18638, 1.1866, 1.18658, 1.18681, 1.18682, 1.18689, 1.18682, 1.18682, 1.1867, 1.18674, 1.18663, 1.18668, 1.18687, 1.18696, 1.18718, 1.18727, 1.18719, 1.18736, 1.18726, 1.18727, 1.18743, 1.18747, 1.1874, 1.18748, 1.18745, 1.18747, 1.18737, 1.18741, 1.18738, 1.18739, 1.18732, 1.18732, 1.1873, 1.18757, 1.18705, 1.18718, 1.18713, 1.18738, 1.18744, 1.18756, 1.18759, 1.18778, 1.18781, 1.18789, 1.18776, 1.18786, 1.18791, 1.1879, 1.18789, 1.18794, 1.18825, 1.18897, 1.1894, 1.18934, 1.18939, 1.18913, 1.18919, 1.18922, 1.18894, 1.18912, 1.18888, 1.18896, 1.18905, 1.18877, 1.18884, 1.18856, 1.18827, 1.18848, 1.18864, 1.18827, 1.18814, 1.1877, 1.18787, 1.18774, 1.18723, 1.18699, 1.18654, 1.1861, ...]\n[right]: [1.18623, 1.18616, 1.18652, 1.18658, 1.18631, 1.1863, 1.18604, 1.18617, 1.18633, 1.18626, 1.1864, 1.18611, 1.18605, 1.18607, 1.18597, 1.18583, 1.18595, 1.18595, 1.18607, 1.18612, 1.18618, 1.18628, 1.18637, 1.18657, 1.18655, 1.18676, 1.18679, 1.18687, 1.1868, 1.18681, 1.18667, 1.18673, 1.18661, 1.18666, 1.18686, 1.18696, 1.18716, 1.18725, 1.18716, 1.18731, 1.18723, 1.18724, 1.1874, 1.18744, 1.18739, 1.18743, 1.18742, 1.18744, 1.18735, 1.18738, 1.18735, 1.18736, 1.18729, 1.18729, 1.18728, 1.18755, 1.18703, 1.18715, 1.18711, 1.18737, 1.18741, 1.18754, 1.18757, 1.18775, 1.1878, 1.18786, 1.18774, 1.18785, 1.18787, 1.18789, 1.18788, 1.18793, 1.18825, 1.18897, 1.18939, 1.18935, 1.18937, 1.18913, 1.1892, 1.18921, 1.18891, 1.18909, 1.18886, 1.18896, 1.18902, 1.18877, 1.18882, 1.18854, 1.18824, 1.18847, 1.18863, 1.18826, 1.18812, 1.1877, 1.18789, 1.18771, 1.18719, 1.18696, 1.18652, 1.18607, ...]"
     ]
    }
   ],
   "source": [
    "from pandas.testing import assert_series_equal\n",
    "\n",
    "assert_series_equal(tickmill_5m_ana_df[\"Open\"].loc[:], duka_5m_ana_df[\"open\"].loc[:], check_names=False, \n",
    "                    check_exact=False, atol=4e-5, rtol=0)"
   ]
  },
  {
   "cell_type": "code",
   "execution_count": 52,
   "id": "211afa94",
   "metadata": {},
   "outputs": [
    {
     "ename": "AssertionError",
     "evalue": "DataFrame.iloc[:, 0] (column name=\"0\") are different\n\nDataFrame.iloc[:, 0] (column name=\"0\") values are different (100.0 %)\n[index]: [0]\n[left]:  [42]\n[right]: [41]",
     "output_type": "error",
     "traceback": [
      "\u001b[0;31m---------------------------------------------------------------------------\u001b[0m",
      "\u001b[0;31mAssertionError\u001b[0m                            Traceback (most recent call last)",
      "\u001b[0;32m~/tmp/ipykernel_267876/1220356076.py\u001b[0m in \u001b[0;36m<module>\u001b[0;34m\u001b[0m\n\u001b[1;32m      5\u001b[0m \u001b[0mdf2\u001b[0m \u001b[0;34m=\u001b[0m \u001b[0mpd\u001b[0m\u001b[0;34m.\u001b[0m\u001b[0mDataFrame\u001b[0m\u001b[0;34m(\u001b[0m\u001b[0;34m[\u001b[0m\u001b[0;36m41\u001b[0m\u001b[0;34m]\u001b[0m\u001b[0;34m)\u001b[0m\u001b[0;34m\u001b[0m\u001b[0;34m\u001b[0m\u001b[0m\n\u001b[1;32m      6\u001b[0m \u001b[0;31m#This test fails as expected\u001b[0m\u001b[0;34m\u001b[0m\u001b[0;34m\u001b[0m\u001b[0;34m\u001b[0m\u001b[0m\n\u001b[0;32m----> 7\u001b[0;31m \u001b[0mpd\u001b[0m\u001b[0;34m.\u001b[0m\u001b[0mtesting\u001b[0m\u001b[0;34m.\u001b[0m\u001b[0massert_frame_equal\u001b[0m\u001b[0;34m(\u001b[0m\u001b[0mdf1\u001b[0m\u001b[0;34m,\u001b[0m \u001b[0mdf2\u001b[0m\u001b[0;34m,\u001b[0m \u001b[0mcheck_exact\u001b[0m\u001b[0;34m=\u001b[0m\u001b[0;32mFalse\u001b[0m\u001b[0;34m,\u001b[0m \u001b[0matol\u001b[0m\u001b[0;34m=\u001b[0m\u001b[0;36m0.1\u001b[0m\u001b[0;34m)\u001b[0m\u001b[0;34m\u001b[0m\u001b[0;34m\u001b[0m\u001b[0m\n\u001b[0m",
      "    \u001b[0;31m[... skipping hidden 2 frame]\u001b[0m\n",
      "\u001b[0;32m~/anaconda3/envs/rbsys/lib/python3.8/site-packages/pandas/_libs/testing.pyx\u001b[0m in \u001b[0;36mpandas._libs.testing.assert_almost_equal\u001b[0;34m()\u001b[0m\n",
      "\u001b[0;32m~/anaconda3/envs/rbsys/lib/python3.8/site-packages/pandas/_libs/testing.pyx\u001b[0m in \u001b[0;36mpandas._libs.testing.assert_almost_equal\u001b[0;34m()\u001b[0m\n",
      "\u001b[0;32m~/anaconda3/envs/rbsys/lib/python3.8/site-packages/pandas/_testing/asserters.py\u001b[0m in \u001b[0;36mraise_assert_detail\u001b[0;34m(obj, message, left, right, diff, index_values)\u001b[0m\n\u001b[1;32m    663\u001b[0m         \u001b[0mmsg\u001b[0m \u001b[0;34m+=\u001b[0m \u001b[0;34mf\"\\n[diff]: {diff}\"\u001b[0m\u001b[0;34m\u001b[0m\u001b[0;34m\u001b[0m\u001b[0m\n\u001b[1;32m    664\u001b[0m \u001b[0;34m\u001b[0m\u001b[0m\n\u001b[0;32m--> 665\u001b[0;31m     \u001b[0;32mraise\u001b[0m \u001b[0mAssertionError\u001b[0m\u001b[0;34m(\u001b[0m\u001b[0mmsg\u001b[0m\u001b[0;34m)\u001b[0m\u001b[0;34m\u001b[0m\u001b[0;34m\u001b[0m\u001b[0m\n\u001b[0m\u001b[1;32m    666\u001b[0m \u001b[0;34m\u001b[0m\u001b[0m\n\u001b[1;32m    667\u001b[0m \u001b[0;34m\u001b[0m\u001b[0m\n",
      "\u001b[0;31mAssertionError\u001b[0m: DataFrame.iloc[:, 0] (column name=\"0\") are different\n\nDataFrame.iloc[:, 0] (column name=\"0\") values are different (100.0 %)\n[index]: [0]\n[left]:  [42]\n[right]: [41]"
     ]
    }
   ],
   "source": [
    "import pandas as pd\n",
    "import pandas.testing\n",
    "\n",
    "df1 = pd.DataFrame([42])\n",
    "df2 = pd.DataFrame([41])\n",
    "#This test fails as expected\n",
    "pd.testing.assert_frame_equal(df1, df2, check_exact=False, atol=0.1)"
   ]
  },
  {
   "cell_type": "code",
   "execution_count": 54,
   "id": "3267c667",
   "metadata": {},
   "outputs": [
    {
     "ename": "AssertionError",
     "evalue": "DataFrame.iloc[:, 0] (column name=\"0\") are different\n\nDataFrame.iloc[:, 0] (column name=\"0\") values are different (100.0 %)\n[index]: [0]\n[left]:  [2006642]\n[right]: [2006641]",
     "output_type": "error",
     "traceback": [
      "\u001b[0;31m---------------------------------------------------------------------------\u001b[0m",
      "\u001b[0;31mAssertionError\u001b[0m                            Traceback (most recent call last)",
      "\u001b[0;32m~/tmp/ipykernel_267876/3175517536.py\u001b[0m in \u001b[0;36m<module>\u001b[0;34m\u001b[0m\n\u001b[1;32m      1\u001b[0m \u001b[0mdf1\u001b[0m \u001b[0;34m=\u001b[0m \u001b[0mpd\u001b[0m\u001b[0;34m.\u001b[0m\u001b[0mDataFrame\u001b[0m\u001b[0;34m(\u001b[0m\u001b[0;34m[\u001b[0m\u001b[0;36m2006642\u001b[0m\u001b[0;34m]\u001b[0m\u001b[0;34m)\u001b[0m\u001b[0;34m\u001b[0m\u001b[0;34m\u001b[0m\u001b[0m\n\u001b[1;32m      2\u001b[0m \u001b[0mdf2\u001b[0m \u001b[0;34m=\u001b[0m \u001b[0mpd\u001b[0m\u001b[0;34m.\u001b[0m\u001b[0mDataFrame\u001b[0m\u001b[0;34m(\u001b[0m\u001b[0;34m[\u001b[0m\u001b[0;36m2006641\u001b[0m\u001b[0;34m]\u001b[0m\u001b[0;34m)\u001b[0m\u001b[0;34m\u001b[0m\u001b[0;34m\u001b[0m\u001b[0m\n\u001b[0;32m----> 3\u001b[0;31m \u001b[0mpd\u001b[0m\u001b[0;34m.\u001b[0m\u001b[0mtesting\u001b[0m\u001b[0;34m.\u001b[0m\u001b[0massert_frame_equal\u001b[0m\u001b[0;34m(\u001b[0m\u001b[0mdf1\u001b[0m\u001b[0;34m,\u001b[0m \u001b[0mdf2\u001b[0m\u001b[0;34m,\u001b[0m \u001b[0mcheck_exact\u001b[0m\u001b[0;34m=\u001b[0m\u001b[0;32mFalse\u001b[0m\u001b[0;34m,\u001b[0m \u001b[0matol\u001b[0m\u001b[0;34m=\u001b[0m\u001b[0;36m0.1\u001b[0m\u001b[0;34m,\u001b[0m \u001b[0mrtol\u001b[0m\u001b[0;34m=\u001b[0m\u001b[0;36m0\u001b[0m\u001b[0;34m)\u001b[0m\u001b[0;34m\u001b[0m\u001b[0;34m\u001b[0m\u001b[0m\n\u001b[0m\u001b[1;32m      4\u001b[0m \u001b[0;31m#this test passes, but it should not\u001b[0m\u001b[0;34m\u001b[0m\u001b[0;34m\u001b[0m\u001b[0;34m\u001b[0m\u001b[0m\n",
      "    \u001b[0;31m[... skipping hidden 2 frame]\u001b[0m\n",
      "\u001b[0;32m~/anaconda3/envs/rbsys/lib/python3.8/site-packages/pandas/_libs/testing.pyx\u001b[0m in \u001b[0;36mpandas._libs.testing.assert_almost_equal\u001b[0;34m()\u001b[0m\n",
      "\u001b[0;32m~/anaconda3/envs/rbsys/lib/python3.8/site-packages/pandas/_libs/testing.pyx\u001b[0m in \u001b[0;36mpandas._libs.testing.assert_almost_equal\u001b[0;34m()\u001b[0m\n",
      "\u001b[0;32m~/anaconda3/envs/rbsys/lib/python3.8/site-packages/pandas/_testing/asserters.py\u001b[0m in \u001b[0;36mraise_assert_detail\u001b[0;34m(obj, message, left, right, diff, index_values)\u001b[0m\n\u001b[1;32m    663\u001b[0m         \u001b[0mmsg\u001b[0m \u001b[0;34m+=\u001b[0m \u001b[0;34mf\"\\n[diff]: {diff}\"\u001b[0m\u001b[0;34m\u001b[0m\u001b[0;34m\u001b[0m\u001b[0m\n\u001b[1;32m    664\u001b[0m \u001b[0;34m\u001b[0m\u001b[0m\n\u001b[0;32m--> 665\u001b[0;31m     \u001b[0;32mraise\u001b[0m \u001b[0mAssertionError\u001b[0m\u001b[0;34m(\u001b[0m\u001b[0mmsg\u001b[0m\u001b[0;34m)\u001b[0m\u001b[0;34m\u001b[0m\u001b[0;34m\u001b[0m\u001b[0m\n\u001b[0m\u001b[1;32m    666\u001b[0m \u001b[0;34m\u001b[0m\u001b[0m\n\u001b[1;32m    667\u001b[0m \u001b[0;34m\u001b[0m\u001b[0m\n",
      "\u001b[0;31mAssertionError\u001b[0m: DataFrame.iloc[:, 0] (column name=\"0\") are different\n\nDataFrame.iloc[:, 0] (column name=\"0\") values are different (100.0 %)\n[index]: [0]\n[left]:  [2006642]\n[right]: [2006641]"
     ]
    }
   ],
   "source": [
    "df1 = pd.DataFrame([2006642])\n",
    "df2 = pd.DataFrame([2006641])\n",
    "pd.testing.assert_frame_equal(df1, df2, check_exact=False, atol=0.1, rtol=0)\n",
    "#this test passes, but it should not"
   ]
  },
  {
   "cell_type": "markdown",
   "id": "d43b9391",
   "metadata": {},
   "source": [
    "### Sanity Check 成功，下载dukascopy数据的时候采用（Markdown结尾添加两个空格等于换行）\n",
    "Filter flats: Weekends  \n",
    "Day start time: UTC | GMT  \n",
    "卡这三个点来下载，然后就可以得到标准GMT时间对应的数据  \n",
    "Tickmill默认时间是gmt + 3(hours)，所以转换过后时间轴就一致了  "
   ]
  }
 ],
 "metadata": {
  "kernelspec": {
   "display_name": "rbsys",
   "language": "python",
   "name": "rbsys"
  },
  "language_info": {
   "codemirror_mode": {
    "name": "ipython",
    "version": 3
   },
   "file_extension": ".py",
   "mimetype": "text/x-python",
   "name": "python",
   "nbconvert_exporter": "python",
   "pygments_lexer": "ipython3",
   "version": "3.8.10"
  }
 },
 "nbformat": 4,
 "nbformat_minor": 5
}
