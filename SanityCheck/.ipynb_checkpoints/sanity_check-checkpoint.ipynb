{
 "cells": [
  {
   "cell_type": "code",
   "execution_count": 1,
   "id": "d21aa4d4",
   "metadata": {},
   "outputs": [
    {
     "ename": "ModuleNotFoundError",
     "evalue": "No module named 'ga'",
     "output_type": "error",
     "traceback": [
      "\u001b[0;31m---------------------------------------------------------------------------\u001b[0m",
      "\u001b[0;31mModuleNotFoundError\u001b[0m                       Traceback (most recent call last)",
      "\u001b[0;32m~/tmp/ipykernel_237089/2379478181.py\u001b[0m in \u001b[0;36m<module>\u001b[0;34m\u001b[0m\n\u001b[1;32m     12\u001b[0m \u001b[0;32mimport\u001b[0m \u001b[0mmatplotlib\u001b[0m\u001b[0;34m.\u001b[0m\u001b[0mpyplot\u001b[0m \u001b[0;32mas\u001b[0m \u001b[0mplt\u001b[0m\u001b[0;34m\u001b[0m\u001b[0;34m\u001b[0m\u001b[0m\n\u001b[1;32m     13\u001b[0m \u001b[0;34m\u001b[0m\u001b[0m\n\u001b[0;32m---> 14\u001b[0;31m \u001b[0;32mimport\u001b[0m \u001b[0mga\u001b[0m \u001b[0;32mas\u001b[0m \u001b[0mga\u001b[0m\u001b[0;34m\u001b[0m\u001b[0;34m\u001b[0m\u001b[0m\n\u001b[0m\u001b[1;32m     15\u001b[0m \u001b[0;32mfrom\u001b[0m \u001b[0mga\u001b[0m \u001b[0;32mimport\u001b[0m \u001b[0;34m*\u001b[0m\u001b[0;34m\u001b[0m\u001b[0;34m\u001b[0m\u001b[0m\n\u001b[1;32m     16\u001b[0m \u001b[0;34m\u001b[0m\u001b[0m\n",
      "\u001b[0;31mModuleNotFoundError\u001b[0m: No module named 'ga'"
     ]
    }
   ],
   "source": [
    "%load_ext autoreload\n",
    "%autoreload 2\n",
    "\n",
    "import os\n",
    "import sys\n",
    "module_path = os.path.abspath(os.path.join('..'))\n",
    "if module_path not in sys.path:\n",
    "    sys.path.append(module_path)\n",
    "\n",
    "import numpy as np\n",
    "import pandas as pd\n",
    "import matplotlib.pyplot as plt"
   ]
  },
  {
   "cell_type": "markdown",
   "id": "e9598c1e",
   "metadata": {},
   "source": [
    "### This is a  unittest example codes for testing function usibility"
   ]
  },
  {
   "cell_type": "code",
   "execution_count": null,
   "id": "c3d7bf26",
   "metadata": {},
   "outputs": [],
   "source": [
    "def add(a, b):\n",
    "    return a + b"
   ]
  },
  {
   "cell_type": "code",
   "execution_count": null,
   "id": "d04501da",
   "metadata": {},
   "outputs": [],
   "source": [
    "import unittest\n",
    "\n",
    "class TestNotebook(unittest.TestCase):\n",
    "    \n",
    "    def test_add(self):\n",
    "        self.assertEqual(add(2, 3), 5)\n",
    "        \n",
    "\n",
    "unittest.main(argv=[''], verbosity=2, exit=False)"
   ]
  },
  {
   "cell_type": "markdown",
   "id": "51ebfc64",
   "metadata": {},
   "source": [
    "### Sanity Check for Trading Rule"
   ]
  },
  {
   "cell_type": "code",
   "execution_count": null,
   "id": "96b1f60f",
   "metadata": {},
   "outputs": [],
   "source": [
    "# Generates the data for only sanity check\n",
    "import pandas as pd\n",
    "\n",
    "data = pd.read_csv(\"../data/AUDUSD_M5.csv\")\n",
    "data_sc = data.head(25)\n",
    "data_sc.to_csv(\"../data/AUDUSD_M5_Sanity_Check.csv\",index=False)"
   ]
  },
  {
   "cell_type": "code",
   "execution_count": null,
   "id": "e47bf57f",
   "metadata": {},
   "outputs": [],
   "source": [
    "%%time\n",
    "import pandas as pd\n",
    "import Utils.tradingrule as tradingrule\n",
    "\n",
    "data = pd.read_csv(\"../data/AUDUSD_M5_Sanity_Check.csv\")\n",
    "params = tradingrule.trainTradingRuleFeatures(data)\n",
    "params"
   ]
  },
  {
   "cell_type": "code",
   "execution_count": null,
   "id": "ede755ea",
   "metadata": {},
   "outputs": [],
   "source": [
    "import pandas as pd\n",
    "import Utils.tradingrule as tradingrule\n",
    "\n",
    "df = pd.read_csv(\"../data/AUDUSD_M5_Sanity_Check.csv\")\n",
    "OHLC = [df.Open, df.High, df.Low, df.Close]\n",
    "period = 5\n",
    "score, signal = tradingrule.Rule16(period, OHLC)"
   ]
  },
  {
   "cell_type": "code",
   "execution_count": null,
   "id": "e55c180f",
   "metadata": {},
   "outputs": [],
   "source": [
    "score"
   ]
  },
  {
   "cell_type": "code",
   "execution_count": null,
   "id": "0233c463",
   "metadata": {},
   "outputs": [],
   "source": [
    "OHLC[3]"
   ]
  },
  {
   "cell_type": "code",
   "execution_count": null,
   "id": "7b2a3c5e",
   "metadata": {},
   "outputs": [],
   "source": []
  }
 ],
 "metadata": {
  "kernelspec": {
   "display_name": "Python 3 (ipykernel)",
   "language": "python",
   "name": "python3"
  },
  "language_info": {
   "codemirror_mode": {
    "name": "ipython",
    "version": 3
   },
   "file_extension": ".py",
   "mimetype": "text/x-python",
   "name": "python",
   "nbconvert_exporter": "python",
   "pygments_lexer": "ipython3",
   "version": "3.8.10"
  }
 },
 "nbformat": 4,
 "nbformat_minor": 5
}
