{
 "cells": [
  {
   "cell_type": "code",
   "execution_count": 3,
   "id": "cbea809c",
   "metadata": {},
   "outputs": [],
   "source": [
    "import numpy as np\n",
    "\n",
    "from pylatex import Document, Section, Subsection, Tabular, Math, TikZ, Axis, \\\n",
    "    Plot, Figure, Matrix, Alignat\n",
    "from pylatex.utils import italic\n",
    "\n",
    "import os\n",
    "import sys\n",
    "module_path = os.path.abspath(os.path.join('..'))\n",
    "if module_path not in sys.path:\n",
    "    sys.path.append(module_path)"
   ]
  },
  {
   "cell_type": "markdown",
   "id": "4bfa763f",
   "metadata": {},
   "source": [
    "Runs the following command to install all dependencies for generating pdf based on latex  \n",
    "sudo apt-get install texlive-latex-base texlive-fonts-recommended texlive-fonts-extra texlive-latex-extra"
   ]
  },
  {
   "cell_type": "code",
   "execution_count": 5,
   "id": "c02b657c",
   "metadata": {},
   "outputs": [],
   "source": [
    "image_filename = os.path.join(os.getcwd(), 'kitten.png')\n",
    "\n",
    "geometry_options = {\"tmargin\": \"1cm\", \"lmargin\": \"10cm\"}\n",
    "doc = Document(geometry_options=geometry_options)\n",
    "\n",
    "with doc.create(Section('The simple stuff')):\n",
    "    doc.append('Some regular text and some')\n",
    "    doc.append(italic('italic text. '))\n",
    "    doc.append('\\nAlso some crazy characters: $&#{}')\n",
    "    with doc.create(Subsection('Math that is incorrect')):\n",
    "        doc.append(Math(data=['2*3', '=', 9]))\n",
    "\n",
    "    with doc.create(Subsection('Table of something')):\n",
    "        with doc.create(Tabular('rc|cl')) as table:\n",
    "            table.add_hline()\n",
    "            table.add_row((1, 2, 3, 4))\n",
    "            table.add_hline(1, 2)\n",
    "            table.add_empty_row()\n",
    "            table.add_row((4, 5, 6, 7))\n",
    "\n",
    "a = np.array([[100, 10, 20]]).T\n",
    "M = np.matrix([[2, 3, 4],\n",
    "               [0, 0, 1],\n",
    "               [0, 0, 2]])\n",
    "\n",
    "with doc.create(Section('The fancy stuff')):\n",
    "    with doc.create(Subsection('Correct matrix equations')):\n",
    "        doc.append(Math(data=[Matrix(M), Matrix(a), '=', Matrix(M * a)]))\n",
    "\n",
    "    with doc.create(Subsection('Alignat math environment')):\n",
    "        with doc.create(Alignat(numbering=False, escape=False)) as agn:\n",
    "            agn.append(r'\\frac{a}{b} &= 0 \\\\')\n",
    "            agn.extend([Matrix(M), Matrix(a), '&=', Matrix(M * a)])\n",
    "\n",
    "    with doc.create(Subsection('Beautiful graphs')):\n",
    "        with doc.create(TikZ()):\n",
    "            plot_options = 'height=4cm, width=6cm, grid=major'\n",
    "            with doc.create(Axis(options=plot_options)) as plot:\n",
    "                plot.append(Plot(name='model', func='-x^5 - 242'))\n",
    "\n",
    "                coordinates = [\n",
    "                    (-4.77778, 2027.60977),\n",
    "                    (-3.55556, 347.84069),\n",
    "                    (-2.33333, 22.58953),\n",
    "                    (-1.11111, -493.50066),\n",
    "                    (0.11111, 46.66082),\n",
    "                    (1.33333, -205.56286),\n",
    "                    (2.55556, -341.40638),\n",
    "                    (3.77778, -1169.24780),\n",
    "                    (5.00000, -3269.56775),\n",
    "                ]\n",
    "\n",
    "                plot.append(Plot(name='estimate', coordinates=coordinates))\n",
    "\n",
    "    with doc.create(Subsection('Cute kitten pictures')):\n",
    "        with doc.create(Figure(position='h!')) as kitten_pic:\n",
    "            kitten_pic.add_image(image_filename, width='120px')\n",
    "            kitten_pic.add_caption('Look it\\'s on its back')\n",
    "\n",
    "doc.generate_pdf('full', clean_tex=False)"
   ]
  },
  {
   "cell_type": "markdown",
   "id": "f6692dbf",
   "metadata": {},
   "source": [
    "And then uses sftp tools to get the pdf reports to the current file"
   ]
  }
 ],
 "metadata": {
  "kernelspec": {
   "display_name": "rbsys",
   "language": "python",
   "name": "rbsys"
  },
  "language_info": {
   "codemirror_mode": {
    "name": "ipython",
    "version": 3
   },
   "file_extension": ".py",
   "mimetype": "text/x-python",
   "name": "python",
   "nbconvert_exporter": "python",
   "pygments_lexer": "ipython3",
   "version": "3.8.10"
  }
 },
 "nbformat": 4,
 "nbformat_minor": 5
}
