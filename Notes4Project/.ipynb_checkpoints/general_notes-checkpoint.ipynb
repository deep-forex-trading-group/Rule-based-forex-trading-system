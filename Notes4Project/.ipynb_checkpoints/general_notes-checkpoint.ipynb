{
 "cells": [
  {
   "cell_type": "code",
   "execution_count": 2,
   "id": "42b10884",
   "metadata": {},
   "outputs": [],
   "source": [
    "%load_ext autoreload\n",
    "%autoreload 2\n",
    "\n",
    "import os\n",
    "import sys\n",
    "module_path = os.path.abspath(os.path.join('..'))\n",
    "if module_path not in sys.path:\n",
    "    sys.path.append(module_path)\n",
    "\n",
    "import pandas as pd\n",
    "import numpy as np\n",
    "from AnalysisUtils.analysis_utils import *"
   ]
  },
  {
   "cell_type": "markdown",
   "id": "f427717c",
   "metadata": {},
   "source": [
    "### Interpretation of log-returns"
   ]
  },
  {
   "cell_type": "code",
   "execution_count": 3,
   "id": "8ae39000",
   "metadata": {},
   "outputs": [
    {
     "name": "stdout",
     "output_type": "stream",
     "text": [
      "balance:  [100 150  75  75  75]\n",
      "ret:  [ 50 -75   0   0]\n",
      "ret_rate:  [ nan  0.5 -0.5  0.   0. ]\n",
      "log_ret:  [        nan  0.40546511 -0.69314718  0.          0.        ]\n"
     ]
    }
   ],
   "source": [
    "# interpretation of log-returns\n",
    "\n",
    "balance = pd.Series(np.array([100,150,75,75,75]))\n",
    "# ret = difference(balance)\n",
    "ret = np.diff(balance)\n",
    "ret_rate = difference_rate(balance)\n",
    "\n",
    "# Log Return = ln(Final Value) – ln(Initial value)\n",
    "# \n",
    "log_ret = np.array(np.log(balance/balance.shift(1)))\n",
    "\n",
    "\n",
    "print(\"balance: \", np.array(balance))\n",
    "print(\"ret: \", np.array(ret))\n",
    "print(\"ret_rate: \", np.array(ret_rate))\n",
    "print(\"log_ret: \", log_ret)"
   ]
  },
  {
   "cell_type": "markdown",
   "id": "00d2c6b7",
   "metadata": {},
   "source": [
    "### Interpretation of log_diff and reverse procedure"
   ]
  },
  {
   "cell_type": "code",
   "execution_count": 4,
   "id": "4ea94373",
   "metadata": {},
   "outputs": [
    {
     "name": "stdout",
     "output_type": "stream",
     "text": [
      "[0.5488135  0.71518937 0.60276338 0.54488318 0.4236548  0.64589411\n",
      " 0.43758721 0.891773   0.96366276 0.38344152]\n"
     ]
    }
   ],
   "source": [
    "# 1. generate series\n",
    "np.random.seed(0)\n",
    "\n",
    "s = pd.Series(np.random.random(10))\n",
    "\n",
    "print(s.values)\n",
    "\n",
    "# [ 0.5488135   0.71518937  0.60276338  0.54488318  0.4236548   0.64589411\n",
    "#   0.43758721  0.891773    0.96366276  0.38344152]"
   ]
  },
  {
   "cell_type": "code",
   "execution_count": 5,
   "id": "4a7571b9",
   "metadata": {},
   "outputs": [
    {
     "data": {
      "text/plain": [
       "(10,)"
      ]
     },
     "execution_count": 5,
     "metadata": {},
     "output_type": "execute_result"
    }
   ],
   "source": [
    "# be carefully about append and prepend NAN to a difference series\n",
    "np.diff(s, prepend=[np.nan]).shape"
   ]
  },
  {
   "cell_type": "code",
   "execution_count": 6,
   "id": "0e69c303",
   "metadata": {},
   "outputs": [
    {
     "data": {
      "text/plain": [
       "array([        nan,  0.26478867, -0.17102265, -0.10095328, -0.25165246,\n",
       "        0.42171661, -0.38935955,  0.71193559,  0.07752978, -0.92155428])"
      ]
     },
     "execution_count": 6,
     "metadata": {},
     "output_type": "execute_result"
    }
   ],
   "source": [
    "# calc log diff\n",
    "np.log(s).diff().to_numpy()"
   ]
  },
  {
   "cell_type": "code",
   "execution_count": 7,
   "id": "c0fd2c76",
   "metadata": {},
   "outputs": [
    {
     "name": "stdout",
     "output_type": "stream",
     "text": [
      "[0.5488135  0.71518937 0.60276338 0.54488318 0.4236548  0.64589411\n",
      " 0.43758721 0.891773   0.96366276 0.38344152]\n"
     ]
    }
   ],
   "source": [
    "# how to reverse the np.diff and np.log to get the original numpy arrays\n",
    "# ** Needs the original series \"s\" and current series \"t\"\n",
    "t = np.log(s).diff()\n",
    "t.iat[0] = np.log(s.iat[0])\n",
    "res = np.exp(t.cumsum())\n",
    "\n",
    "print(res.values)\n",
    "\n",
    "# [ 0.5488135   0.71518937  0.60276338  0.54488318  0.4236548   0.64589411\n",
    "#   0.43758721  0.891773    0.96366276  0.38344152]"
   ]
  },
  {
   "cell_type": "markdown",
   "id": "3c6954e0",
   "metadata": {},
   "source": [
    "### Pandas DataFrame and Pandas.core.Series"
   ]
  },
  {
   "cell_type": "code",
   "execution_count": 8,
   "id": "703db06c",
   "metadata": {},
   "outputs": [],
   "source": [
    "from Utils.ta import *\n",
    "\n",
    "def Rule16(period, balance):\n",
    "    close = balance\n",
    "    logr = pd.Series(np.diff(close, prepend=[np.nan]))\n",
    "    s1 = bollinger_hband(close, n=period)\n",
    "    s2 = bollinger_lband(close, n=period)\n",
    "    s3 = close\n",
    "    signal = (-1 * (s3 > s1) + 1 * (s3 < s2)).shift(1)\n",
    "    port_logr = signal * logr\n",
    "    return (abs(port_logr.sum()), signal)\n",
    "\n",
    "balance = pd.Series(np.array([100,150,75,75,75]))\n",
    "ret = np.diff(balance, prepend=[np.nan])\n",
    "df = pd.DataFrame({\"logr\":ret})\n",
    "r1 = Rule16(17, balance)[1]"
   ]
  },
  {
   "cell_type": "markdown",
   "id": "506d52d0",
   "metadata": {},
   "source": [
    "### Needs to use the following code snippets to assign pandas.core.Series to Padas.DataFrame"
   ]
  },
  {
   "cell_type": "code",
   "execution_count": 9,
   "id": "b99e53e5",
   "metadata": {},
   "outputs": [],
   "source": [
    "r1_s = pd.Series(r1.values, index=df.index)\n",
    "df[\"rule1\"] = r1_s"
   ]
  },
  {
   "cell_type": "code",
   "execution_count": 10,
   "id": "6fe38429",
   "metadata": {},
   "outputs": [
    {
     "name": "stdout",
     "output_type": "stream",
     "text": [
      "balance:  [100 150  75  75  75]\n",
      "ret:  [ nan  50. -75.   0.   0.]\n",
      "   logr  rule1\n",
      "0   NaN    NaN\n",
      "1  50.0    0.0\n",
      "2 -75.0    0.0\n",
      "3   0.0    0.0\n",
      "4   0.0    0.0\n"
     ]
    }
   ],
   "source": [
    "print(\"balance: \", np.array(balance))\n",
    "print(\"ret: \", np.array(ret))\n",
    "print(df)"
   ]
  },
  {
   "cell_type": "markdown",
   "id": "855dc333",
   "metadata": {},
   "source": [
    "### Differences between @ and \\* in numpy \n",
    "\n",
    "@ 叉乘\n",
    "\n",
    "\\* 点乘"
   ]
  },
  {
   "cell_type": "code",
   "execution_count": 11,
   "id": "4eaa41ca",
   "metadata": {},
   "outputs": [
    {
     "name": "stdout",
     "output_type": "stream",
     "text": [
      "9\n",
      "[3 6]\n"
     ]
    }
   ],
   "source": [
    "print(np.array([1, 3]) @ np.array([3,2]).T)\n",
    "print(np.array([1, 3]) * np.array([3,2]))"
   ]
  },
  {
   "cell_type": "code",
   "execution_count": 12,
   "id": "c9f8a278",
   "metadata": {},
   "outputs": [
    {
     "data": {
      "text/plain": [
       "array([1, 2, 3, 4])"
      ]
     },
     "execution_count": 12,
     "metadata": {},
     "output_type": "execute_result"
    }
   ],
   "source": [
    "arr = np.array([1,2,3,4])\n",
    "arr"
   ]
  },
  {
   "cell_type": "code",
   "execution_count": 13,
   "id": "1b5b8ab5",
   "metadata": {},
   "outputs": [
    {
     "data": {
      "text/plain": [
       "(array([3]),)"
      ]
     },
     "execution_count": 13,
     "metadata": {},
     "output_type": "execute_result"
    }
   ],
   "source": [
    "np.where(arr == np.max(arr))"
   ]
  },
  {
   "cell_type": "markdown",
   "id": "cae35a84",
   "metadata": {},
   "source": [
    "### Testing the DataFrame.set_index "
   ]
  },
  {
   "cell_type": "code",
   "execution_count": 18,
   "id": "d9596afd",
   "metadata": {},
   "outputs": [],
   "source": [
    "df2 = pd.DataFrame(np.array([[1, 2, 3], [4, 4, 6], [7, 4, 9]]),\n",
    "                   columns=['a', 'b', 'c'])"
   ]
  },
  {
   "cell_type": "code",
   "execution_count": 19,
   "id": "0aeb89ea",
   "metadata": {},
   "outputs": [
    {
     "data": {
      "text/html": [
       "<div>\n",
       "<style scoped>\n",
       "    .dataframe tbody tr th:only-of-type {\n",
       "        vertical-align: middle;\n",
       "    }\n",
       "\n",
       "    .dataframe tbody tr th {\n",
       "        vertical-align: top;\n",
       "    }\n",
       "\n",
       "    .dataframe thead th {\n",
       "        text-align: right;\n",
       "    }\n",
       "</style>\n",
       "<table border=\"1\" class=\"dataframe\">\n",
       "  <thead>\n",
       "    <tr style=\"text-align: right;\">\n",
       "      <th></th>\n",
       "      <th>a</th>\n",
       "      <th>b</th>\n",
       "      <th>c</th>\n",
       "    </tr>\n",
       "  </thead>\n",
       "  <tbody>\n",
       "    <tr>\n",
       "      <th>0</th>\n",
       "      <td>1</td>\n",
       "      <td>2</td>\n",
       "      <td>3</td>\n",
       "    </tr>\n",
       "    <tr>\n",
       "      <th>1</th>\n",
       "      <td>4</td>\n",
       "      <td>4</td>\n",
       "      <td>6</td>\n",
       "    </tr>\n",
       "    <tr>\n",
       "      <th>2</th>\n",
       "      <td>7</td>\n",
       "      <td>4</td>\n",
       "      <td>9</td>\n",
       "    </tr>\n",
       "  </tbody>\n",
       "</table>\n",
       "</div>"
      ],
      "text/plain": [
       "   a  b  c\n",
       "0  1  2  3\n",
       "1  4  4  6\n",
       "2  7  4  9"
      ]
     },
     "execution_count": 19,
     "metadata": {},
     "output_type": "execute_result"
    }
   ],
   "source": [
    "df2"
   ]
  },
  {
   "cell_type": "code",
   "execution_count": null,
   "id": "3e68942e",
   "metadata": {},
   "outputs": [],
   "source": [
    "df2.set_index(keys=[\"b\"], drop=False, inplace=True)\n",
    "df2"
   ]
  }
 ],
 "metadata": {
  "kernelspec": {
   "display_name": "Python 3",
   "language": "python",
   "name": "python3"
  },
  "language_info": {
   "codemirror_mode": {
    "name": "ipython",
    "version": 3
   },
   "file_extension": ".py",
   "mimetype": "text/x-python",
   "name": "python",
   "nbconvert_exporter": "python",
   "pygments_lexer": "ipython3",
   "version": "3.8.8"
  }
 },
 "nbformat": 4,
 "nbformat_minor": 5
}
