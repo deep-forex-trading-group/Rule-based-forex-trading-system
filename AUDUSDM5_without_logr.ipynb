{
 "cells": [
  {
   "cell_type": "code",
   "execution_count": 14,
   "metadata": {},
   "outputs": [
    {
     "name": "stdout",
     "output_type": "stream",
     "text": [
      "The autoreload extension is already loaded. To reload it, use:\n",
      "  %reload_ext autoreload\n"
     ]
    }
   ],
   "source": [
    "%load_ext autoreload\n",
    "%autoreload 2\n",
    "\n",
    "import numpy as np\n",
    "import pandas as pd\n",
    "import matplotlib.pyplot as plt\n",
    "\n",
    "from Utils.ga import *\n",
    "from Utils.tradingrule_changelogr import *\n",
    "\n",
    "import json"
   ]
  },
  {
   "cell_type": "markdown",
   "metadata": {},
   "source": [
    "### Data preprocessing"
   ]
  },
  {
   "cell_type": "code",
   "execution_count": 15,
   "metadata": {},
   "outputs": [
    {
     "data": {
      "text/html": [
       "<div>\n",
       "<style scoped>\n",
       "    .dataframe tbody tr th:only-of-type {\n",
       "        vertical-align: middle;\n",
       "    }\n",
       "\n",
       "    .dataframe tbody tr th {\n",
       "        vertical-align: top;\n",
       "    }\n",
       "\n",
       "    .dataframe thead th {\n",
       "        text-align: right;\n",
       "    }\n",
       "</style>\n",
       "<table border=\"1\" class=\"dataframe\">\n",
       "  <thead>\n",
       "    <tr style=\"text-align: right;\">\n",
       "      <th></th>\n",
       "      <th>Open</th>\n",
       "      <th>High</th>\n",
       "      <th>Low</th>\n",
       "      <th>Close</th>\n",
       "    </tr>\n",
       "  </thead>\n",
       "  <tbody>\n",
       "    <tr>\n",
       "      <th>0</th>\n",
       "      <td>0.70613</td>\n",
       "      <td>0.70613</td>\n",
       "      <td>0.70575</td>\n",
       "      <td>0.70575</td>\n",
       "    </tr>\n",
       "    <tr>\n",
       "      <th>1</th>\n",
       "      <td>0.70575</td>\n",
       "      <td>0.70579</td>\n",
       "      <td>0.70568</td>\n",
       "      <td>0.70579</td>\n",
       "    </tr>\n",
       "    <tr>\n",
       "      <th>2</th>\n",
       "      <td>0.70579</td>\n",
       "      <td>0.70598</td>\n",
       "      <td>0.70578</td>\n",
       "      <td>0.70595</td>\n",
       "    </tr>\n",
       "    <tr>\n",
       "      <th>3</th>\n",
       "      <td>0.70596</td>\n",
       "      <td>0.70618</td>\n",
       "      <td>0.70594</td>\n",
       "      <td>0.70618</td>\n",
       "    </tr>\n",
       "    <tr>\n",
       "      <th>4</th>\n",
       "      <td>0.70618</td>\n",
       "      <td>0.70628</td>\n",
       "      <td>0.70593</td>\n",
       "      <td>0.70595</td>\n",
       "    </tr>\n",
       "  </tbody>\n",
       "</table>\n",
       "</div>"
      ],
      "text/plain": [
       "      Open     High      Low    Close\n",
       "0  0.70613  0.70613  0.70575  0.70575\n",
       "1  0.70575  0.70579  0.70568  0.70579\n",
       "2  0.70579  0.70598  0.70578  0.70595\n",
       "3  0.70596  0.70618  0.70594  0.70618\n",
       "4  0.70618  0.70628  0.70593  0.70595"
      ]
     },
     "execution_count": 15,
     "metadata": {},
     "output_type": "execute_result"
    }
   ],
   "source": [
    "data = pd.read_csv(\"data/AUDUSD_M5.csv\")\n",
    "data = data[['Open', 'High', 'Low', 'Close']]\n",
    "data.head()"
   ]
  },
  {
   "cell_type": "code",
   "execution_count": 16,
   "metadata": {},
   "outputs": [],
   "source": [
    "X_train = data.loc[:len(data)//2]\n",
    "X_test = data.loc[len(data)//2:]"
   ]
  },
  {
   "cell_type": "code",
   "execution_count": 17,
   "metadata": {},
   "outputs": [],
   "source": [
    "# %%time\n",
    "# trading_rule_params = trainTradingRuleFeatures(X_train)"
   ]
  },
  {
   "cell_type": "markdown",
   "metadata": {},
   "source": [
    "### GridSearch结果保持一致，所以直接保存下来用就好，换了新数据只用算一次"
   ]
  },
  {
   "cell_type": "code",
   "execution_count": 18,
   "metadata": {},
   "outputs": [],
   "source": [
    "# # Dumps the rule parameters\n",
    "# params_json = json.dumps(trading_rule_params)\n",
    "# with open(\"trading_rule_params.json\", \"w\") as jsonFile:\n",
    "#     jsonFile.write(params_json)\n",
    "#     jsonFile.close()"
   ]
  },
  {
   "cell_type": "code",
   "execution_count": 19,
   "metadata": {},
   "outputs": [
    {
     "name": "stdout",
     "output_type": "stream",
     "text": [
      "[[1, 3], [1, 3], [1, 3], [3, 3], [1, 7], [3, 3], [3, 41], [1, 7], [1, 3], [3, 55], [3, 0], [3, 55, 50], [3, 20, 0], 11, 3, 27]\n"
     ]
    }
   ],
   "source": [
    "# Read the rule parameters\n",
    "with open(\"trading_rule_params.json\", \"r\") as jsonFile:\n",
    "    trading_rule_params = json.load(jsonFile)\n",
    "    print(trading_rule_params)"
   ]
  },
  {
   "cell_type": "code",
   "execution_count": 20,
   "metadata": {},
   "outputs": [
    {
     "name": "stdout",
     "output_type": "stream",
     "text": [
      "CPU times: user 3.33 s, sys: 4.03 ms, total: 3.34 s\n",
      "Wall time: 3.33 s\n"
     ]
    }
   ],
   "source": [
    "%%time\n",
    "X_trading_rule_train = getTradingRuleFeatures(X_train, trading_rule_params)\n",
    "X_trading_rule_test = getTradingRuleFeatures(X_test, trading_rule_params)"
   ]
  },
  {
   "cell_type": "markdown",
   "metadata": {},
   "source": [
    "### Genetic Algorithm to Find the Optimal Combination of Rules"
   ]
  },
  {
   "cell_type": "code",
   "execution_count": 21,
   "metadata": {},
   "outputs": [],
   "source": [
    "def evaluate(position, logr):\n",
    "    port_r = logr*position\n",
    "    score = port_r.sum()\n",
    "    print(\"The maximum position is {:.3f}, the mean postiion is {:3f}.\".format(position.max(), abs(position).mean()))\n",
    "    print(\"The return over the period is: {:.2f}%\".format(score*100))\n",
    "    print(\"Maximum drawdown is: {:.3f}%\".format(min(port_r.cumsum())*100))\n",
    "    sr_train = port_r.mean()/port_r.std()\n",
    "    print(\"SR ratio is: {:.3f}\".format(sr_train*(252*24*12)**0.5))"
   ]
  },
  {
   "cell_type": "markdown",
   "metadata": {},
   "source": [
    "### 思考下为什么原版代码的曲线会突然就往下打下去，SSR应该是maximize优化\n",
    "### 但是现有代码居然效果更好了，比较confused, 思考下原因，注意分析到底有没有未来函数\n",
    "### 跑几遍结果不一样，就不稳定，还是要分析原因"
   ]
  },
  {
   "cell_type": "code",
   "execution_count": 22,
   "metadata": {},
   "outputs": [
    {
     "name": "stdout",
     "output_type": "stream",
     "text": [
      "(array([0]),)\n",
      "[0.0005240330422655977, 0.0008062918198721332, 0.0008034250674424299, 0.0006996113695226373, 0.0006279745624687315, 0.000531846592793629, 0.0004276852512063636, 0.00039371299919061686, 0.00038890602964337603, 0.00040094128584135784, 0.0004108236289655339, 0.00042956801783873637, 0.00046546518672735746, 0.0004688564048895295, 0.00045893505709276904, 0.0004712813790402732, 0.0004594316429611819, 0.0004586731814824831, 0.0004764045739220803, 0.0004690741067114181, 0.0004650707326581415, 0.0004448037289295352, 0.0004567320970216662, 0.0004653588027152411, 0.0004571268968325601, 0.00044434076548012985, 0.0004483704101617716, 0.0004503346551941776, 0.0004522082932527794, 0.00045243701202315404, 0.00042625110423853474, 0.0004558311199048436, 0.0004489554162078762, 0.0004538175618147784, 0.00045894169614207425, 0.00044308393045382834, 0.00044318635812834933, 0.00043121437173050545, 0.00041685536156222124, 0.0004338191962459932, 0.00044799177882983983, 0.00046679475672238395, 0.0004419365874950775, 0.00044627198298083257, 0.0004453776732391399, 0.00043087382111100777, 0.0004391933721396665, 0.0004316372001132787, 0.00045711443929660875, 0.0004401066463453947, 0.00043844344009482506, 0.0004299444293608685, 0.00042556765790266416, 0.0004555646630172398, 0.0004215835899485968, 0.00042806542772721285, 0.00044186445483755047, 0.0004461558913084216, 0.00045732840027025624, 0.0004392141333334204, 0.0004166087432207405, 0.00044404630864837294, 0.0004339394020241188, 0.00042116864218340934, 0.000442309600630108, 0.00042725394418829916, 0.00042091276552667873, 0.0004537793045575603, 0.00041480830907755187, 0.000443499257997382, 0.00043669926957179954, 0.00043602523018970534, 0.00043871043225265503, 0.00042650724681376866, 0.0004265241215557595, 0.00044510426597325247, 0.0004567852212879487, 0.0004428757398432369, 0.0004482659427170142, 0.0004394534353362498, 0.0004290146227128822, 0.000432583701334868, 0.0004366439274983693, 0.000435882775980708, 0.0004254670844699196, 0.00042826234069692315, 0.0004422149853456959, 0.00043176042475296137, 0.0004291710336914995, 0.0004343235232961717, 0.0004527353792996264, 0.00044181631404868174, 0.00043369968843922057, 0.00044065004103851694, 0.000456981669862648, 0.0004285930355537811, 0.00042687458268739843, 0.00042586825693919045, 0.00043856293547225677, 0.0004555932775906546, 0.00045714424199512927, 0.00043455904971317054, 0.0004337193249774919, 0.0004600446595783323, 0.0004513405471252813, 0.00042641376057961177, 0.00044879999137054387, 0.0004520281408491197, 0.00044565656390700454, 0.0004610869583121458, 0.0004641590788133119, 0.00044867622815769837, 0.0004491038204752536, 0.00043432418113331384, 0.00044296236013528637, 0.0004411777787792404, 0.00043963599830715614, 0.0004585806522975996, 0.000442158313157282, 0.00044075587466216526, 0.00044431063714208085, 0.0004399798839077329, 0.00044127476541235726, 0.0004434181197764322, 0.00043669614796693144, 0.00045665266443929774, 0.00043684227676731973, 0.0004579767930368995, 0.0004621895256588096, 0.00045038101280229424, 0.000455641592097496, 0.00043896343467517227, 0.00043620412250084046, 0.0004365921712016697, 0.0004311649932481796, 0.0004401424122897287, 0.0004376526784544032, 0.000426575475750697, 0.0004465548270047438, 0.0004467630625466877, 0.0004610685671665011, 0.00043476771463024324, 0.00044030429704664773, 0.00043587995308592547, 0.00045801769877653047, 0.0004419303543313114, 0.0004398509503670524, 0.0004452638310569203, 0.0004449593678002885, 0.00044964043397201556, 0.0004434269609615829, 0.00044242355378050713, 0.0004476046375880353, 0.00044972096027164597, 0.00043900278150140067, 0.0004575381631966119, 0.00044114491163712156, 0.00043492258367812945, 0.0004690407602988036, 0.0004496979109241798, 0.0004425795502382735, 0.0004299498942240436, 0.00044226812887043185, 0.0004472480407287142, 0.0004291437016642336, 0.0004470179648369762, 0.0004562263156269178, 0.0004318638260545759, 0.0004418034980264599, 0.0004364675499478834, 0.0004356004360328532, 0.0004423303842332433, 0.0004533413046330767, 0.0004394396154047965, 0.0004408509483481051, 0.0004404941524157899, 0.00043974826504296555, 0.00044168860151748527, 0.00046270267616776875, 0.000439419592775366, 0.00044129595676946674, 0.0004630268913107818, 0.0004614878414007472, 0.0004264501654274893, 0.00044445582723259743, 0.00044082166312915054, 0.0004547407584431075, 0.00044895511293456314, 0.0004595820114635487, 0.0004551871895594044, 0.00044371477010939287, 0.00043295092249983204, 0.0004524372884648635, 0.0004407758725784351, 0.00043498397191436345, 0.00044451196112103733, 0.0004256958130070203, 0.00043865965898794656, 0.00043416475424476697, 0.0004571151020270496]\n"
     ]
    },
    {
     "data": {
      "image/png": "[encoded data removed]",
      "text/plain": [
       "<Figure size 432x288 with 1 Axes>"
      ]
     },
     "metadata": {
      "needs_background": "light"
     },
     "output_type": "display_data"
    },
    {
     "name": "stdout",
     "output_type": "stream",
     "text": [
      "CPU times: user 43.1 s, sys: 1.48 s, total: 44.6 s\n",
      "Wall time: 44.6 s\n"
     ]
    }
   ],
   "source": [
    "%%time\n",
    "max_SSR_weights = GA_train(X_trading_rule_train, optimizing_selection=2, sol_per_pop=10, num_parents_mating=6, num_generations = 200)"
   ]
  },
  {
   "cell_type": "code",
   "execution_count": 23,
   "metadata": {},
   "outputs": [
    {
     "name": "stdout",
     "output_type": "stream",
     "text": [
      "Training data evaluation:\n",
      "The maximum position is 0.954, the mean postiion is 0.433800.\n",
      "The return over the period is: 14.58%\n",
      "Maximum drawdown is: -0.478%\n",
      "SR ratio is: 8.688\n"
     ]
    }
   ],
   "source": [
    "position = (X_trading_rule_train.values[:, 1:]@max_SSR_weights.T).reshape(X_trading_rule_train.shape[0],)\n",
    "position /= np.max(abs(position))\n",
    "print('Training data evaluation:')\n",
    "evaluate(position, X_trading_rule_train.logr)\n",
    "port_r_train = X_trading_rule_train.logr*position"
   ]
  },
  {
   "cell_type": "code",
   "execution_count": 24,
   "metadata": {},
   "outputs": [
    {
     "name": "stdout",
     "output_type": "stream",
     "text": [
      "Testing data evaluation:\n",
      "The maximum position is 0.852, the mean postiion is 0.479114.\n",
      "The return over the period is: 7.79%\n",
      "Maximum drawdown is: -0.156%\n",
      "SR ratio is: 5.501\n"
     ]
    }
   ],
   "source": [
    "position = (X_trading_rule_test.values[:, 1:]@max_SSR_weights.T).reshape(X_trading_rule_test.shape[0],)\n",
    "position /= np.max(abs(position))\n",
    "print('Testing data evaluation:')\n",
    "evaluate(position, X_trading_rule_test.logr)\n",
    "port_r_test = X_trading_rule_test.logr*position"
   ]
  },
  {
   "cell_type": "code",
   "execution_count": 25,
   "metadata": {
    "scrolled": true
   },
   "outputs": [
    {
     "data": {
      "image/png": "[encoded data removed]",
      "text/plain": [
       "<Figure size 432x288 with 1 Axes>"
      ]
     },
     "metadata": {
      "needs_background": "light"
     },
     "output_type": "display_data"
    }
   ],
   "source": [
    "plt.plot(range(len(port_r_train)), port_r_train.cumsum(), label='training')\n",
    "plt.plot(range(len(port_r_test)), port_r_test.cumsum(), label='testing')\n",
    "plt.xlabel('Timesteps')\n",
    "plt.ylabel('Accumulated return')\n",
    "plt.legend()\n",
    "plt.show()"
   ]
  }
 ],
 "metadata": {
  "kernelspec": {
   "display_name": "rbsys",
   "language": "python",
   "name": "rbsys"
  },
  "language_info": {
   "codemirror_mode": {
    "name": "ipython",
    "version": 3
   },
   "file_extension": ".py",
   "mimetype": "text/x-python",
   "name": "python",
   "nbconvert_exporter": "python",
   "pygments_lexer": "ipython3",
   "version": "3.8.10"
  }
 },
 "nbformat": 4,
 "nbformat_minor": 2
}
