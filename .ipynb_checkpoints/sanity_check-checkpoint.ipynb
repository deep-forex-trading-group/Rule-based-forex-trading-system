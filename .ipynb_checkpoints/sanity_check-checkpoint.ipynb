{
 "cells": [
  {
   "cell_type": "code",
   "execution_count": 8,
   "id": "d21aa4d4",
   "metadata": {},
   "outputs": [
    {
     "name": "stdout",
     "output_type": "stream",
     "text": [
      "The autoreload extension is already loaded. To reload it, use:\n",
      "  %reload_ext autoreload\n"
     ]
    }
   ],
   "source": [
    "%load_ext autoreload\n",
    "%autoreload 2\n",
    "\n",
    "import numpy as np\n",
    "import pandas as pd\n",
    "import matplotlib.pyplot as plt\n",
    "\n",
    "import ga\n",
    "from ga import *\n",
    "\n",
    "import tradingrule_changelogr\n",
    "import tradingrule"
   ]
  },
  {
   "cell_type": "code",
   "execution_count": 9,
   "id": "abb4b626",
   "metadata": {},
   "outputs": [],
   "source": [
    "data = pd.read_csv(\"data/AUDUSD_M5.csv\")\n",
    "data = data[['Open', 'High', 'Low', 'Close']]\n",
    "X_train = data.loc[:len(data)//2]\n",
    "X_test = data.loc[len(data)//2:]"
   ]
  },
  {
   "cell_type": "code",
   "execution_count": 10,
   "id": "b34e89db",
   "metadata": {},
   "outputs": [
    {
     "name": "stdout",
     "output_type": "stream",
     "text": [
      "Training Rule1 score is: 0.420\n",
      "Training Rule2 score is: 0.420\n",
      "Training Rule3 score is: 0.451\n",
      "Training Rule4 score is: 0.422\n",
      "Training Rule5 score is: 0.393\n",
      "Training Rule6 score is: 0.446\n",
      "Training Rule7 score is: 0.458\n",
      "Training Rule8 score is: 0.370\n",
      "Training Rule9 score is: 0.452\n",
      "Training Rule10 score is: 0.460\n",
      "Training Rule11 score is: 0.362\n",
      "Training Rule12 score is: 0.457\n",
      "Training Rule13 score is: 0.363\n",
      "Training Rule14 score is: 0.240\n",
      "Training Rule15 score is: 0.173\n",
      "Training Rule16 score is: 0.119\n",
      "CPU times: user 3min 32s, sys: 4.65 s, total: 3min 36s\n",
      "Wall time: 3min 24s\n"
     ]
    },
    {
     "data": {
      "text/plain": [
       "[(1, 3),\n",
       " (1, 3),\n",
       " (1, 3),\n",
       " (3, 3),\n",
       " (1, 7),\n",
       " (3, 3),\n",
       " (3, 41),\n",
       " (1, 7),\n",
       " (1, 3),\n",
       " (3, 55),\n",
       " (3, 0),\n",
       " (3, 55, 50),\n",
       " (3, 20, 0),\n",
       " 11,\n",
       " 3,\n",
       " 27]"
      ]
     },
     "execution_count": 10,
     "metadata": {},
     "output_type": "execute_result"
    }
   ],
   "source": [
    "%%time\n",
    "trading_rule_params_origin = tradingrule.trainTradingRuleFeatures(X_train)\n",
    "trading_rule_params_origin"
   ]
  },
  {
   "cell_type": "code",
   "execution_count": 11,
   "id": "abb51cca",
   "metadata": {},
   "outputs": [
    {
     "name": "stdout",
     "output_type": "stream",
     "text": [
      "Training Rule1 score is: 0.298\n",
      "Training Rule2 score is: 0.298\n",
      "Training Rule3 score is: 0.320\n",
      "Training Rule4 score is: 0.299\n",
      "Training Rule5 score is: 0.278\n",
      "Training Rule6 score is: 0.316\n",
      "Training Rule7 score is: 0.325\n",
      "Training Rule8 score is: 0.262\n",
      "Training Rule9 score is: 0.320\n",
      "Training Rule10 score is: 0.326\n",
      "Training Rule11 score is: 0.257\n",
      "Training Rule12 score is: 0.324\n",
      "Training Rule13 score is: 0.257\n",
      "Training Rule14 score is: 0.170\n",
      "Training Rule15 score is: 0.123\n",
      "Training Rule16 score is: 0.084\n",
      "CPU times: user 3min 31s, sys: 4.76 s, total: 3min 35s\n",
      "Wall time: 3min 23s\n"
     ]
    },
    {
     "data": {
      "text/plain": [
       "[(1, 3),\n",
       " (1, 3),\n",
       " (1, 3),\n",
       " (3, 3),\n",
       " (1, 7),\n",
       " (3, 3),\n",
       " (3, 41),\n",
       " (1, 7),\n",
       " (1, 3),\n",
       " (3, 55),\n",
       " (3, 0),\n",
       " (3, 55, 50),\n",
       " (3, 20, 0),\n",
       " 11,\n",
       " 3,\n",
       " 27]"
      ]
     },
     "execution_count": 11,
     "metadata": {},
     "output_type": "execute_result"
    }
   ],
   "source": [
    "%%time\n",
    "trading_rule_params_without_logr = tradingrule_changelogr.trainTradingRuleFeatures(X_train)\n",
    "trading_rule_params_without_logr"
   ]
  },
  {
   "cell_type": "code",
   "execution_count": 12,
   "id": "92e4d030",
   "metadata": {},
   "outputs": [
    {
     "data": {
      "text/plain": [
       "[(1, 3),\n",
       " (1, 3),\n",
       " (1, 3),\n",
       " (3, 3),\n",
       " (1, 7),\n",
       " (3, 3),\n",
       " (3, 41),\n",
       " (1, 7),\n",
       " (1, 3),\n",
       " (3, 55),\n",
       " (3, 0),\n",
       " (3, 55, 50),\n",
       " (3, 20, 0),\n",
       " 11,\n",
       " 3,\n",
       " 27]"
      ]
     },
     "execution_count": 12,
     "metadata": {},
     "output_type": "execute_result"
    }
   ],
   "source": [
    "trading_rule_params_without_logr"
   ]
  },
  {
   "cell_type": "code",
   "execution_count": 13,
   "id": "46947508",
   "metadata": {},
   "outputs": [
    {
     "data": {
      "text/plain": [
       "True"
      ]
     },
     "execution_count": 13,
     "metadata": {},
     "output_type": "execute_result"
    }
   ],
   "source": [
    "# len(trading_rule_params_origin) == len(trading_rule_params_without_logr) \\\n",
    "# and \\\n",
    "trading_rule_params_origin == trading_rule_params_without_logr"
   ]
  },
  {
   "cell_type": "markdown",
   "id": "e9598c1e",
   "metadata": {},
   "source": [
    "### This is a  unittest example codes for testing function usibility"
   ]
  },
  {
   "cell_type": "code",
   "execution_count": 16,
   "id": "c3d7bf26",
   "metadata": {},
   "outputs": [],
   "source": [
    "def add(a, b):\n",
    "    return a + b"
   ]
  },
  {
   "cell_type": "code",
   "execution_count": 17,
   "id": "d04501da",
   "metadata": {},
   "outputs": [
    {
     "name": "stderr",
     "output_type": "stream",
     "text": [
      "test_add (__main__.TestNotebook) ... ok\n",
      "\n",
      "----------------------------------------------------------------------\n",
      "Ran 1 test in 0.001s\n",
      "\n",
      "OK\n"
     ]
    },
    {
     "data": {
      "text/plain": [
       "<unittest.main.TestProgram at 0x7f46715267f0>"
      ]
     },
     "execution_count": 17,
     "metadata": {},
     "output_type": "execute_result"
    }
   ],
   "source": [
    "import unittest\n",
    "\n",
    "class TestNotebook(unittest.TestCase):\n",
    "    \n",
    "    def test_add(self):\n",
    "        self.assertEqual(add(2, 3), 5)\n",
    "        \n",
    "\n",
    "unittest.main(argv=[''], verbosity=2, exit=False)"
   ]
  }
 ],
 "metadata": {
  "kernelspec": {
   "display_name": "Python 3",
   "language": "python",
   "name": "python3"
  },
  "language_info": {
   "codemirror_mode": {
    "name": "ipython",
    "version": 3
   },
   "file_extension": ".py",
   "mimetype": "text/x-python",
   "name": "python",
   "nbconvert_exporter": "python",
   "pygments_lexer": "ipython3",
   "version": "3.8.8"
  }
 },
 "nbformat": 4,
 "nbformat_minor": 5
}
