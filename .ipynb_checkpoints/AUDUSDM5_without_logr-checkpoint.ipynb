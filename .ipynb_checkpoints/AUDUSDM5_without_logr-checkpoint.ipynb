{
 "cells": [
  {
   "cell_type": "code",
   "execution_count": 31,
   "metadata": {},
   "outputs": [
    {
     "name": "stdout",
     "output_type": "stream",
     "text": [
      "The autoreload extension is already loaded. To reload it, use:\n",
      "  %reload_ext autoreload\n"
     ]
    }
   ],
   "source": [
    "%load_ext autoreload\n",
    "%autoreload 2\n",
    "\n",
    "import numpy as np\n",
    "import pandas as pd\n",
    "import matplotlib.pyplot as plt\n",
    "\n",
    "import ga\n",
    "from ga import *\n",
    "from tradingrule_changelogr import *\n",
    "\n",
    "import json"
   ]
  },
  {
   "cell_type": "markdown",
   "metadata": {},
   "source": [
    "### Data preprocessing"
   ]
  },
  {
   "cell_type": "code",
   "execution_count": 32,
   "metadata": {},
   "outputs": [
    {
     "data": {
      "text/html": [
       "<div>\n",
       "<style scoped>\n",
       "    .dataframe tbody tr th:only-of-type {\n",
       "        vertical-align: middle;\n",
       "    }\n",
       "\n",
       "    .dataframe tbody tr th {\n",
       "        vertical-align: top;\n",
       "    }\n",
       "\n",
       "    .dataframe thead th {\n",
       "        text-align: right;\n",
       "    }\n",
       "</style>\n",
       "<table border=\"1\" class=\"dataframe\">\n",
       "  <thead>\n",
       "    <tr style=\"text-align: right;\">\n",
       "      <th></th>\n",
       "      <th>Open</th>\n",
       "      <th>High</th>\n",
       "      <th>Low</th>\n",
       "      <th>Close</th>\n",
       "    </tr>\n",
       "  </thead>\n",
       "  <tbody>\n",
       "    <tr>\n",
       "      <th>0</th>\n",
       "      <td>0.70613</td>\n",
       "      <td>0.70613</td>\n",
       "      <td>0.70575</td>\n",
       "      <td>0.70575</td>\n",
       "    </tr>\n",
       "    <tr>\n",
       "      <th>1</th>\n",
       "      <td>0.70575</td>\n",
       "      <td>0.70579</td>\n",
       "      <td>0.70568</td>\n",
       "      <td>0.70579</td>\n",
       "    </tr>\n",
       "    <tr>\n",
       "      <th>2</th>\n",
       "      <td>0.70579</td>\n",
       "      <td>0.70598</td>\n",
       "      <td>0.70578</td>\n",
       "      <td>0.70595</td>\n",
       "    </tr>\n",
       "    <tr>\n",
       "      <th>3</th>\n",
       "      <td>0.70596</td>\n",
       "      <td>0.70618</td>\n",
       "      <td>0.70594</td>\n",
       "      <td>0.70618</td>\n",
       "    </tr>\n",
       "    <tr>\n",
       "      <th>4</th>\n",
       "      <td>0.70618</td>\n",
       "      <td>0.70628</td>\n",
       "      <td>0.70593</td>\n",
       "      <td>0.70595</td>\n",
       "    </tr>\n",
       "  </tbody>\n",
       "</table>\n",
       "</div>"
      ],
      "text/plain": [
       "      Open     High      Low    Close\n",
       "0  0.70613  0.70613  0.70575  0.70575\n",
       "1  0.70575  0.70579  0.70568  0.70579\n",
       "2  0.70579  0.70598  0.70578  0.70595\n",
       "3  0.70596  0.70618  0.70594  0.70618\n",
       "4  0.70618  0.70628  0.70593  0.70595"
      ]
     },
     "execution_count": 32,
     "metadata": {},
     "output_type": "execute_result"
    }
   ],
   "source": [
    "data = pd.read_csv(\"data/AUDUSD_M5.csv\")\n",
    "data = data[['Open', 'High', 'Low', 'Close']]\n",
    "data.head()"
   ]
  },
  {
   "cell_type": "code",
   "execution_count": 33,
   "metadata": {},
   "outputs": [],
   "source": [
    "X_train = data.loc[:len(data)//2]\n",
    "X_test = data.loc[len(data)//2:]"
   ]
  },
  {
   "cell_type": "code",
   "execution_count": 34,
   "metadata": {},
   "outputs": [
    {
     "name": "stdout",
     "output_type": "stream",
     "text": [
      "Training Rule1 score is: 0.298\n",
      "Training Rule2 score is: 0.298\n",
      "Training Rule3 score is: 0.320\n",
      "Training Rule4 score is: 0.299\n",
      "Training Rule5 score is: 0.278\n",
      "Training Rule6 score is: 0.316\n",
      "Training Rule7 score is: 0.325\n",
      "Training Rule8 score is: 0.262\n",
      "Training Rule9 score is: 0.320\n",
      "Training Rule10 score is: 0.326\n",
      "Training Rule11 score is: 0.257\n",
      "Training Rule12 score is: 0.324\n",
      "Training Rule13 score is: 0.257\n",
      "Training Rule14 score is: 0.170\n",
      "Training Rule15 score is: 0.123\n",
      "Training Rule16 score is: 0.084\n",
      "CPU times: user 3min 7s, sys: 3.79 s, total: 3min 10s\n",
      "Wall time: 3min\n"
     ]
    }
   ],
   "source": [
    "# %%time\n",
    "# trading_rule_params = trainTradingRuleFeatures(X_train)"
   ]
  },
  {
   "cell_type": "markdown",
   "metadata": {},
   "source": [
    "### GridSearch结果保持一致，所以直接保存下来用就好，换了新数据只用算一次"
   ]
  },
  {
   "cell_type": "code",
   "execution_count": 43,
   "metadata": {},
   "outputs": [],
   "source": [
    "# # Dumps the rule parameters\n",
    "# params_json = json.dumps(trading_rule_params)\n",
    "# with open(\"trading_rule_params.json\", \"w\") as jsonFile:\n",
    "#     jsonFile.write(params_json)\n",
    "#     jsonFile.close()"
   ]
  },
  {
   "cell_type": "code",
   "execution_count": 47,
   "metadata": {},
   "outputs": [
    {
     "name": "stdout",
     "output_type": "stream",
     "text": [
      "[[1, 3], [1, 3], [1, 3], [3, 3], [1, 7], [3, 3], [3, 41], [1, 7], [1, 3], [3, 55], [3, 0], [3, 55, 50], [3, 20, 0], 11, 3, 27]\n"
     ]
    }
   ],
   "source": [
    "# Read the rule parameters\n",
    "with open(\"trading_rule_params.json\", \"r\") as jsonFile:\n",
    "    trading_rule_params = json.load(jsonFile)\n",
    "    print(trading_rule_params)"
   ]
  },
  {
   "cell_type": "code",
   "execution_count": 48,
   "metadata": {},
   "outputs": [
    {
     "name": "stdout",
     "output_type": "stream",
     "text": [
      "CPU times: user 3.69 s, sys: 24.5 ms, total: 3.72 s\n",
      "Wall time: 3.67 s\n"
     ]
    }
   ],
   "source": [
    "%%time\n",
    "X_trading_rule_train = getTradingRuleFeatures(X_train, trading_rule_params)\n",
    "X_trading_rule_test = getTradingRuleFeatures(X_test, trading_rule_params)"
   ]
  },
  {
   "cell_type": "markdown",
   "metadata": {},
   "source": [
    "### Genetic Algorithm to Find the Optimal Combination of Rules"
   ]
  },
  {
   "cell_type": "code",
   "execution_count": 49,
   "metadata": {},
   "outputs": [],
   "source": [
    "def evaluate(position, logr):\n",
    "    port_r = logr*position\n",
    "    score = port_r.sum()\n",
    "    print(\"The maximum position is {:.3f}, the mean postiion is {:3f}.\".format(position.max(), abs(position).mean()))\n",
    "    print(\"The return over the period is: {:.2f}%\".format(score*100))\n",
    "    print(\"Maximum drawdown is: {:.3f}%\".format(min(port_r.cumsum())*100))\n",
    "    sr_train = port_r.mean()/port_r.std()\n",
    "    print(\"SR ratio is: {:.3f}\".format(sr_train*(252*24*12)**0.5))"
   ]
  },
  {
   "cell_type": "markdown",
   "metadata": {},
   "source": [
    "### 思考下为什么原版代码的曲线会突然就往下打下去，SSR应该是maximize优化\n",
    "### 但是现有代码居然效果更好了，比较confused, 思考下原因，注意分析到底有没有未来函数\n",
    "### 跑几遍结果不一样，就不稳定，还是要分析原因"
   ]
  },
  {
   "cell_type": "code",
   "execution_count": 50,
   "metadata": {},
   "outputs": [
    {
     "data": {
      "image/png": "[encoded data removed]",
      "text/plain": [
       "<Figure size 432x288 with 1 Axes>"
      ]
     },
     "metadata": {
      "needs_background": "light"
     },
     "output_type": "display_data"
    },
    {
     "name": "stdout",
     "output_type": "stream",
     "text": [
      "CPU times: user 34 s, sys: 1.76 s, total: 35.7 s\n",
      "Wall time: 35.7 s\n"
     ]
    }
   ],
   "source": [
    "%%time\n",
    "max_SSR_weights = GA_train(X_trading_rule_train, optimizing_selection=2, sol_per_pop=10, num_parents_mating=6, num_generations = 200)"
   ]
  },
  {
   "cell_type": "code",
   "execution_count": 51,
   "metadata": {},
   "outputs": [
    {
     "name": "stdout",
     "output_type": "stream",
     "text": [
      "Training data evaluation:\n",
      "The maximum position is 0.851, the mean postiion is 0.435122.\n",
      "The return over the period is: 15.92%\n",
      "Maximum drawdown is: -0.551%\n",
      "SR ratio is: 9.183\n"
     ]
    }
   ],
   "source": [
    "position = (X_trading_rule_train.values[:, 1:]@max_SSR_weights.T).reshape(X_trading_rule_train.shape[0],)\n",
    "position /= np.max(abs(position))\n",
    "print('Training data evaluation:')\n",
    "evaluate(position, X_trading_rule_train.logr)\n",
    "port_r_train = X_trading_rule_train.logr*position"
   ]
  },
  {
   "cell_type": "code",
   "execution_count": 52,
   "metadata": {},
   "outputs": [
    {
     "name": "stdout",
     "output_type": "stream",
     "text": [
      "Testing data evaluation:\n",
      "The maximum position is 0.701, the mean postiion is 0.420240.\n",
      "The return over the period is: 7.65%\n",
      "Maximum drawdown is: -0.092%\n",
      "SR ratio is: 5.783\n"
     ]
    }
   ],
   "source": [
    "position = (X_trading_rule_test.values[:, 1:]@max_SSR_weights.T).reshape(X_trading_rule_test.shape[0],)\n",
    "position /= np.max(abs(position))\n",
    "print('Testing data evaluation:')\n",
    "evaluate(position, X_trading_rule_test.logr)\n",
    "port_r_test = X_trading_rule_test.logr*position"
   ]
  },
  {
   "cell_type": "code",
   "execution_count": 53,
   "metadata": {
    "scrolled": true
   },
   "outputs": [
    {
     "data": {
      "image/png": "[encoded data removed]",
      "text/plain": [
       "<Figure size 432x288 with 1 Axes>"
      ]
     },
     "metadata": {
      "needs_background": "light"
     },
     "output_type": "display_data"
    }
   ],
   "source": [
    "plt.plot(range(len(port_r_train)), port_r_train.cumsum(), label='training')\n",
    "plt.plot(range(len(port_r_test)), port_r_test.cumsum(), label='testing')\n",
    "plt.xlabel('Timesteps')\n",
    "plt.ylabel('Accumulated return')\n",
    "plt.legend()\n",
    "plt.show()"
   ]
  }
 ],
 "metadata": {
  "kernelspec": {
   "display_name": "Python 3",
   "language": "python",
   "name": "python3"
  },
  "language_info": {
   "codemirror_mode": {
    "name": "ipython",
    "version": 3
   },
   "file_extension": ".py",
   "mimetype": "text/x-python",
   "name": "python",
   "nbconvert_exporter": "python",
   "pygments_lexer": "ipython3",
   "version": "3.8.8"
  }
 },
 "nbformat": 4,
 "nbformat_minor": 2
}
