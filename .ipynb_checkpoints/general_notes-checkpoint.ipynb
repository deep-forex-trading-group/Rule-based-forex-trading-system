{
 "cells": [
  {
   "cell_type": "code",
   "execution_count": 1,
   "id": "9bc764c9",
   "metadata": {},
   "outputs": [],
   "source": [
    "import pandas as pd\n",
    "import numpy as np\n",
    "from analysis_utils import *"
   ]
  },
  {
   "cell_type": "markdown",
   "id": "8324735b",
   "metadata": {},
   "source": [
    "Interpretation of log-returns"
   ]
  },
  {
   "cell_type": "code",
   "execution_count": 2,
   "id": "37ce706d",
   "metadata": {},
   "outputs": [
    {
     "name": "stdout",
     "output_type": "stream",
     "text": [
      "balance:  [100 150  75  75  75]\n",
      "ret:  [ 50 -75   0   0]\n",
      "ret_rate:  [ 0.5 -0.5  0.   0. ]\n",
      "log_ret:  [        nan  0.40546511 -0.69314718  0.          0.        ]\n"
     ]
    }
   ],
   "source": [
    "# interpretation of log-returns\n",
    "\n",
    "balance = pd.Series(np.array([100,150,75,75,75]))\n",
    "# ret = difference(balance)\n",
    "ret = np.diff(balance)\n",
    "ret_rate = difference_rate(balance)\n",
    "\n",
    "# Log Return = ln(Final Value) – ln(Initial value)\n",
    "# \n",
    "log_ret = np.array(np.log(balance/balance.shift(1)))\n",
    "\n",
    "\n",
    "print(\"balance: \", np.array(balance))\n",
    "print(\"ret: \", np.array(ret))\n",
    "print(\"ret_rate: \", np.array(ret_rate))\n",
    "print(\"log_ret: \", log_ret)"
   ]
  },
  {
   "cell_type": "markdown",
   "id": "5da1418a",
   "metadata": {},
   "source": [
    "Interpretation of log_diff and reverse procedure"
   ]
  },
  {
   "cell_type": "code",
   "execution_count": 3,
   "id": "bb8d583e",
   "metadata": {},
   "outputs": [
    {
     "name": "stdout",
     "output_type": "stream",
     "text": [
      "[0.5488135  0.71518937 0.60276338 0.54488318 0.4236548  0.64589411\n",
      " 0.43758721 0.891773   0.96366276 0.38344152]\n"
     ]
    }
   ],
   "source": [
    "# 1. generate series\n",
    "np.random.seed(0)\n",
    "\n",
    "s = pd.Series(np.random.random(10))\n",
    "\n",
    "print(s.values)\n",
    "\n",
    "# [ 0.5488135   0.71518937  0.60276338  0.54488318  0.4236548   0.64589411\n",
    "#   0.43758721  0.891773    0.96366276  0.38344152]"
   ]
  },
  {
   "cell_type": "code",
   "execution_count": 4,
   "id": "1403b083",
   "metadata": {},
   "outputs": [
    {
     "data": {
      "text/plain": [
       "array([        nan,  0.26478867, -0.17102265, -0.10095328, -0.25165246,\n",
       "        0.42171661, -0.38935955,  0.71193559,  0.07752978, -0.92155428])"
      ]
     },
     "execution_count": 4,
     "metadata": {},
     "output_type": "execute_result"
    }
   ],
   "source": [
    "# calc log diff\n",
    "np.log(s).diff().to_numpy()"
   ]
  },
  {
   "cell_type": "code",
   "execution_count": 5,
   "id": "4e2490a2",
   "metadata": {},
   "outputs": [
    {
     "name": "stdout",
     "output_type": "stream",
     "text": [
      "[0.5488135  0.71518937 0.60276338 0.54488318 0.4236548  0.64589411\n",
      " 0.43758721 0.891773   0.96366276 0.38344152]\n"
     ]
    }
   ],
   "source": [
    "# how to reverse the np.diff and np.log to get the original numpy arrays\n",
    "# ** Needs the original series \"s\" and current series \"t\"\n",
    "t = np.log(s).diff()\n",
    "t.iat[0] = np.log(s.iat[0])\n",
    "res = np.exp(t.cumsum())\n",
    "\n",
    "print(res.values)\n",
    "\n",
    "# [ 0.5488135   0.71518937  0.60276338  0.54488318  0.4236548   0.64589411\n",
    "#   0.43758721  0.891773    0.96366276  0.38344152]"
   ]
  }
 ],
 "metadata": {
  "kernelspec": {
   "display_name": "Python 3",
   "language": "python",
   "name": "python3"
  },
  "language_info": {
   "codemirror_mode": {
    "name": "ipython",
    "version": 3
   },
   "file_extension": ".py",
   "mimetype": "text/x-python",
   "name": "python",
   "nbconvert_exporter": "python",
   "pygments_lexer": "ipython3",
   "version": "3.8.8"
  }
 },
 "nbformat": 4,
 "nbformat_minor": 5
}
