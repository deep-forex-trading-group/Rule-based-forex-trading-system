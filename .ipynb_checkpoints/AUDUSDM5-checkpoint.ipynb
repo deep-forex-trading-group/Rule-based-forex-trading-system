{
 "cells": [
  {
   "cell_type": "code",
   "execution_count": 245,
   "metadata": {},
   "outputs": [
    {
     "name": "stdout",
     "output_type": "stream",
     "text": [
      "The autoreload extension is already loaded. To reload it, use:\n",
      "  %reload_ext autoreload\n"
     ]
    }
   ],
   "source": [
    "%load_ext autoreload\n",
    "%autoreload 2\n",
    "\n",
    "import numpy as np\n",
    "import pandas as pd\n",
    "import matplotlib.pyplot as plt\n",
    "import ga\n",
    "import importlib\n",
    "\n",
    "from ga import *\n",
    "from tradingrule import *"
   ]
  },
  {
   "cell_type": "markdown",
   "metadata": {},
   "source": [
    "### Data preprocessing"
   ]
  },
  {
   "cell_type": "code",
   "execution_count": 246,
   "metadata": {},
   "outputs": [
    {
     "data": {
      "text/html": [
       "<div>\n",
       "<style scoped>\n",
       "    .dataframe tbody tr th:only-of-type {\n",
       "        vertical-align: middle;\n",
       "    }\n",
       "\n",
       "    .dataframe tbody tr th {\n",
       "        vertical-align: top;\n",
       "    }\n",
       "\n",
       "    .dataframe thead th {\n",
       "        text-align: right;\n",
       "    }\n",
       "</style>\n",
       "<table border=\"1\" class=\"dataframe\">\n",
       "  <thead>\n",
       "    <tr style=\"text-align: right;\">\n",
       "      <th></th>\n",
       "      <th>Open</th>\n",
       "      <th>High</th>\n",
       "      <th>Low</th>\n",
       "      <th>Close</th>\n",
       "    </tr>\n",
       "  </thead>\n",
       "  <tbody>\n",
       "    <tr>\n",
       "      <th>0</th>\n",
       "      <td>0.70613</td>\n",
       "      <td>0.70613</td>\n",
       "      <td>0.70575</td>\n",
       "      <td>0.70575</td>\n",
       "    </tr>\n",
       "    <tr>\n",
       "      <th>1</th>\n",
       "      <td>0.70575</td>\n",
       "      <td>0.70579</td>\n",
       "      <td>0.70568</td>\n",
       "      <td>0.70579</td>\n",
       "    </tr>\n",
       "    <tr>\n",
       "      <th>2</th>\n",
       "      <td>0.70579</td>\n",
       "      <td>0.70598</td>\n",
       "      <td>0.70578</td>\n",
       "      <td>0.70595</td>\n",
       "    </tr>\n",
       "    <tr>\n",
       "      <th>3</th>\n",
       "      <td>0.70596</td>\n",
       "      <td>0.70618</td>\n",
       "      <td>0.70594</td>\n",
       "      <td>0.70618</td>\n",
       "    </tr>\n",
       "    <tr>\n",
       "      <th>4</th>\n",
       "      <td>0.70618</td>\n",
       "      <td>0.70628</td>\n",
       "      <td>0.70593</td>\n",
       "      <td>0.70595</td>\n",
       "    </tr>\n",
       "  </tbody>\n",
       "</table>\n",
       "</div>"
      ],
      "text/plain": [
       "      Open     High      Low    Close\n",
       "0  0.70613  0.70613  0.70575  0.70575\n",
       "1  0.70575  0.70579  0.70568  0.70579\n",
       "2  0.70579  0.70598  0.70578  0.70595\n",
       "3  0.70596  0.70618  0.70594  0.70618\n",
       "4  0.70618  0.70628  0.70593  0.70595"
      ]
     },
     "execution_count": 246,
     "metadata": {},
     "output_type": "execute_result"
    }
   ],
   "source": [
    "data = pd.read_csv(\"data/AUDUSD_M5.csv\")\n",
    "data = data[['Open', 'High', 'Low', 'Close']]\n",
    "data.head()"
   ]
  },
  {
   "cell_type": "code",
   "execution_count": 247,
   "metadata": {},
   "outputs": [],
   "source": [
    "X_train = data.loc[:len(data)//2]\n",
    "X_test = data.loc[len(data)//2:]"
   ]
  },
  {
   "cell_type": "code",
   "execution_count": null,
   "metadata": {},
   "outputs": [],
   "source": [
    "%%time\n",
    "trading_rule_params = trainTradingRuleFeatures(X_train)"
   ]
  },
  {
   "cell_type": "code",
   "execution_count": null,
   "metadata": {},
   "outputs": [],
   "source": [
    "%%time\n",
    "X_trading_rule_train = getTradingRuleFeatures(X_train, trading_rule_params)\n",
    "X_trading_rule_test = getTradingRuleFeatures(X_test, trading_rule_params)"
   ]
  },
  {
   "cell_type": "markdown",
   "metadata": {},
   "source": [
    "### Genetic Algorithm to Find the Optimal Combination of Rules"
   ]
  },
  {
   "cell_type": "code",
   "execution_count": null,
   "metadata": {},
   "outputs": [],
   "source": [
    "def evaluate(position, logr):\n",
    "    port_r = logr*position\n",
    "    score = port_r.sum()\n",
    "    print(\"The maximum position is {:.3f}, the mean postiion is {:3f}.\".format(position.max(), abs(position).mean()))\n",
    "    print(\"The return over the period is: {:.2f}%\".format(score*100))\n",
    "    print(\"Maximum drawdown is: {:.3f}%\".format(min(port_r.cumsum())*100))\n",
    "    sr_train = port_r.mean()/port_r.std()\n",
    "    print(\"SR ratio is: {:.3f}\".format(sr_train*(252*24*12)**0.5))"
   ]
  },
  {
   "cell_type": "code",
   "execution_count": null,
   "metadata": {},
   "outputs": [],
   "source": [
    "%%time\n",
    "max_SSR_weights = GA_train(X_trading_rule_train, optimizing_selection=2, sol_per_pop=10, num_parents_mating=6, num_generations = 200)"
   ]
  },
  {
   "cell_type": "code",
   "execution_count": null,
   "metadata": {},
   "outputs": [],
   "source": [
    "position = (X_trading_rule_train.values[:, 1:]@max_SSR_weights.T).reshape(X_trading_rule_train.shape[0],)\n",
    "position /= np.max(abs(position))\n",
    "print('Training data evaluation:')\n",
    "evaluate(position, X_trading_rule_train.logr)\n",
    "port_r_train = X_trading_rule_train.logr*position"
   ]
  },
  {
   "cell_type": "code",
   "execution_count": null,
   "metadata": {},
   "outputs": [],
   "source": [
    "position = (X_trading_rule_test.values[:, 1:]@max_SSR_weights.T).reshape(X_trading_rule_test.shape[0],)\n",
    "position /= np.max(abs(position))\n",
    "print('Testing data evaluation:')\n",
    "evaluate(position, X_trading_rule_test.logr)\n",
    "port_r_test = X_trading_rule_test.logr*position"
   ]
  },
  {
   "cell_type": "code",
   "execution_count": null,
   "metadata": {
    "scrolled": true
   },
   "outputs": [],
   "source": [
    "plt.plot(range(len(port_r_train)), port_r_train.cumsum(), label='training')\n",
    "plt.plot(range(len(port_r_test)), port_r_test.cumsum(), label='testing')\n",
    "plt.xlabel('Timesteps')\n",
    "plt.ylabel('Accumulated return')\n",
    "plt.legend()\n",
    "plt.show()"
   ]
  }
 ],
 "metadata": {
  "kernelspec": {
   "display_name": "Python 3",
   "language": "python",
   "name": "python3"
  },
  "language_info": {
   "codemirror_mode": {
    "name": "ipython",
    "version": 3
   },
   "file_extension": ".py",
   "mimetype": "text/x-python",
   "name": "python",
   "nbconvert_exporter": "python",
   "pygments_lexer": "ipython3",
   "version": "3.8.8"
  }
 },
 "nbformat": 4,
 "nbformat_minor": 2
}
