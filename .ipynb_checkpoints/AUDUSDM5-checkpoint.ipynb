{
 "cells": [
  {
   "cell_type": "code",
   "execution_count": 1,
   "metadata": {},
   "outputs": [
    {
     "ename": "ModuleNotFoundError",
     "evalue": "No module named 'tradingrule'",
     "output_type": "error",
     "traceback": [
      "\u001b[0;31m---------------------------------------------------------------------------\u001b[0m",
      "\u001b[0;31mModuleNotFoundError\u001b[0m                       Traceback (most recent call last)",
      "\u001b[0;32m~/tmp/ipykernel_236857/2459060869.py\u001b[0m in \u001b[0;36m<module>\u001b[0;34m\u001b[0m\n\u001b[1;32m      9\u001b[0m \u001b[0;32mimport\u001b[0m \u001b[0mUtils\u001b[0m\u001b[0;34m.\u001b[0m\u001b[0mtradingrule_changelogr\u001b[0m\u001b[0;34m\u001b[0m\u001b[0;34m\u001b[0m\u001b[0m\n\u001b[1;32m     10\u001b[0m \u001b[0;34m\u001b[0m\u001b[0m\n\u001b[0;32m---> 11\u001b[0;31m \u001b[0;32mfrom\u001b[0m \u001b[0mtradingrule\u001b[0m \u001b[0;32mimport\u001b[0m \u001b[0;34m*\u001b[0m\u001b[0;34m\u001b[0m\u001b[0;34m\u001b[0m\u001b[0m\n\u001b[0m",
      "\u001b[0;31mModuleNotFoundError\u001b[0m: No module named 'tradingrule'"
     ]
    }
   ],
   "source": [
    "%load_ext autoreload\n",
    "%autoreload 2\n",
    "\n",
    "import numpy as np\n",
    "import pandas as pd\n",
    "import matplotlib.pyplot as plt\n",
    "\n",
    "from Utils.ga import *\n",
    "from Utils.tradingrule import *"
   ]
  },
  {
   "cell_type": "markdown",
   "metadata": {},
   "source": [
    "### Data preprocessing"
   ]
  },
  {
   "cell_type": "code",
   "execution_count": 17,
   "metadata": {},
   "outputs": [
    {
     "data": {
      "text/html": [
       "<div>\n",
       "<style scoped>\n",
       "    .dataframe tbody tr th:only-of-type {\n",
       "        vertical-align: middle;\n",
       "    }\n",
       "\n",
       "    .dataframe tbody tr th {\n",
       "        vertical-align: top;\n",
       "    }\n",
       "\n",
       "    .dataframe thead th {\n",
       "        text-align: right;\n",
       "    }\n",
       "</style>\n",
       "<table border=\"1\" class=\"dataframe\">\n",
       "  <thead>\n",
       "    <tr style=\"text-align: right;\">\n",
       "      <th></th>\n",
       "      <th>Open</th>\n",
       "      <th>High</th>\n",
       "      <th>Low</th>\n",
       "      <th>Close</th>\n",
       "    </tr>\n",
       "  </thead>\n",
       "  <tbody>\n",
       "    <tr>\n",
       "      <th>0</th>\n",
       "      <td>0.70613</td>\n",
       "      <td>0.70613</td>\n",
       "      <td>0.70575</td>\n",
       "      <td>0.70575</td>\n",
       "    </tr>\n",
       "    <tr>\n",
       "      <th>1</th>\n",
       "      <td>0.70575</td>\n",
       "      <td>0.70579</td>\n",
       "      <td>0.70568</td>\n",
       "      <td>0.70579</td>\n",
       "    </tr>\n",
       "    <tr>\n",
       "      <th>2</th>\n",
       "      <td>0.70579</td>\n",
       "      <td>0.70598</td>\n",
       "      <td>0.70578</td>\n",
       "      <td>0.70595</td>\n",
       "    </tr>\n",
       "    <tr>\n",
       "      <th>3</th>\n",
       "      <td>0.70596</td>\n",
       "      <td>0.70618</td>\n",
       "      <td>0.70594</td>\n",
       "      <td>0.70618</td>\n",
       "    </tr>\n",
       "    <tr>\n",
       "      <th>4</th>\n",
       "      <td>0.70618</td>\n",
       "      <td>0.70628</td>\n",
       "      <td>0.70593</td>\n",
       "      <td>0.70595</td>\n",
       "    </tr>\n",
       "  </tbody>\n",
       "</table>\n",
       "</div>"
      ],
      "text/plain": [
       "      Open     High      Low    Close\n",
       "0  0.70613  0.70613  0.70575  0.70575\n",
       "1  0.70575  0.70579  0.70568  0.70579\n",
       "2  0.70579  0.70598  0.70578  0.70595\n",
       "3  0.70596  0.70618  0.70594  0.70618\n",
       "4  0.70618  0.70628  0.70593  0.70595"
      ]
     },
     "execution_count": 17,
     "metadata": {},
     "output_type": "execute_result"
    }
   ],
   "source": [
    "data = pd.read_csv(\"data/AUDUSD_M5.csv\")\n",
    "data = data[['Open', 'High', 'Low', 'Close']]\n",
    "data.head()"
   ]
  },
  {
   "cell_type": "code",
   "execution_count": 18,
   "metadata": {},
   "outputs": [],
   "source": [
    "X_train = data.loc[:len(data)//2]\n",
    "X_test = data.loc[len(data)//2:]"
   ]
  },
  {
   "cell_type": "code",
   "execution_count": 19,
   "metadata": {},
   "outputs": [
    {
     "name": "stdout",
     "output_type": "stream",
     "text": [
      "Training Rule1 score is: 0.420\n",
      "Training Rule2 score is: 0.420\n",
      "Training Rule3 score is: 0.451\n",
      "Training Rule4 score is: 0.422\n",
      "Training Rule5 score is: 0.393\n",
      "Training Rule6 score is: 0.446\n",
      "Training Rule7 score is: 0.458\n",
      "Training Rule8 score is: 0.370\n",
      "Training Rule9 score is: 0.452\n",
      "Training Rule10 score is: 0.460\n",
      "Training Rule11 score is: 0.367\n",
      "Training Rule12 score is: 0.457\n",
      "Training Rule13 score is: 0.363\n",
      "Training Rule14 score is: 0.240\n",
      "Training Rule15 score is: 0.173\n",
      "Training Rule16 score is: 0.116\n",
      "CPU times: user 2min 47s, sys: 0 ns, total: 2min 47s\n",
      "Wall time: 2min 47s\n"
     ]
    }
   ],
   "source": [
    "%%time\n",
    "trading_rule_params = trainTradingRuleFeatures(X_train)"
   ]
  },
  {
   "cell_type": "code",
   "execution_count": 20,
   "metadata": {},
   "outputs": [
    {
     "name": "stdout",
     "output_type": "stream",
     "text": [
      "CPU times: user 3.25 s, sys: 0 ns, total: 3.25 s\n",
      "Wall time: 3.25 s\n"
     ]
    }
   ],
   "source": [
    "%%time\n",
    "X_trading_rule_train = getTradingRuleFeatures(X_train, trading_rule_params)\n",
    "X_trading_rule_test = getTradingRuleFeatures(X_test, trading_rule_params)"
   ]
  },
  {
   "cell_type": "markdown",
   "metadata": {},
   "source": [
    "### Genetic Algorithm to Find the Optimal Combination of Rules"
   ]
  },
  {
   "cell_type": "code",
   "execution_count": 21,
   "metadata": {},
   "outputs": [],
   "source": [
    "def evaluate(position, logr):\n",
    "    port_r = logr*position\n",
    "    score = port_r.sum()\n",
    "    print(\"The maximum position is {:.3f}, the mean postiion is {:3f}.\".format(position.max(), abs(position).mean()))\n",
    "    print(\"The return over the period is: {:.2f}%\".format(score*100))\n",
    "    print(\"Maximum drawdown is: {:.3f}%\".format(min(port_r.cumsum())*100))\n",
    "    sr_train = port_r.mean()/port_r.std()\n",
    "    print(\"SR ratio is: {:.3f}\".format(sr_train*(252*24*12)**0.5))"
   ]
  },
  {
   "cell_type": "markdown",
   "metadata": {},
   "source": [
    "### 思考下为什么曲线会突然就往下打下去，SSR应该是maximize优化"
   ]
  },
  {
   "cell_type": "code",
   "execution_count": 22,
   "metadata": {},
   "outputs": [
    {
     "name": "stdout",
     "output_type": "stream",
     "text": [
      "(array([0]),)\n",
      "[0.0005247297710553944, 0.0005341043192089542, 0.0004455387730250367, 0.00036529778416884905, 0.00029250404540499033, 0.0002898547359196663, 0.000300889170307714, 0.00030729431938714645, 0.00032678651979186046, 0.00029983520655699046, 0.0002932706651397618, 0.0002833730675987618, 0.0002636363976172749, 0.0002787053473371124, 0.0002501744868075477]\n"
     ]
    },
    {
     "data": {
      "image/png": "[encoded data removed]",
      "text/plain": [
       "<Figure size 432x288 with 1 Axes>"
      ]
     },
     "metadata": {
      "needs_background": "light"
     },
     "output_type": "display_data"
    },
    {
     "name": "stdout",
     "output_type": "stream",
     "text": [
      "CPU times: user 3.49 s, sys: 115 ms, total: 3.6 s\n",
      "Wall time: 3.6 s\n"
     ]
    }
   ],
   "source": [
    "%%time\n",
    "max_SSR_weights = GA_train(X_trading_rule_train, optimizing_selection=2, sol_per_pop=10, num_parents_mating=6, num_generations = 15)"
   ]
  },
  {
   "cell_type": "code",
   "execution_count": 23,
   "metadata": {},
   "outputs": [
    {
     "name": "stdout",
     "output_type": "stream",
     "text": [
      "Training data evaluation:\n",
      "The maximum position is 1.000, the mean postiion is 0.383999.\n",
      "The return over the period is: 21.02%\n",
      "Maximum drawdown is: -0.839%\n",
      "SR ratio is: 8.995\n"
     ]
    }
   ],
   "source": [
    "position = (X_trading_rule_train.values[:, 1:]@max_SSR_weights.T).reshape(X_trading_rule_train.shape[0],)\n",
    "position /= np.max(abs(position))\n",
    "print('Training data evaluation:')\n",
    "evaluate(position, X_trading_rule_train.logr)\n",
    "port_r_train = X_trading_rule_train.logr*position"
   ]
  },
  {
   "cell_type": "code",
   "execution_count": 24,
   "metadata": {},
   "outputs": [
    {
     "name": "stdout",
     "output_type": "stream",
     "text": [
      "Testing data evaluation:\n",
      "The maximum position is 1.000, the mean postiion is 0.439968.\n",
      "The return over the period is: 12.41%\n",
      "Maximum drawdown is: -0.074%\n",
      "SR ratio is: 6.065\n"
     ]
    }
   ],
   "source": [
    "position = (X_trading_rule_test.values[:, 1:]@max_SSR_weights.T).reshape(X_trading_rule_test.shape[0],)\n",
    "position /= np.max(abs(position))\n",
    "print('Testing data evaluation:')\n",
    "evaluate(position, X_trading_rule_test.logr)\n",
    "port_r_test = X_trading_rule_test.logr*position"
   ]
  },
  {
   "cell_type": "code",
   "execution_count": 25,
   "metadata": {
    "scrolled": true
   },
   "outputs": [
    {
     "data": {
      "image/png": "[encoded data removed]",
      "text/plain": [
       "<Figure size 432x288 with 1 Axes>"
      ]
     },
     "metadata": {
      "needs_background": "light"
     },
     "output_type": "display_data"
    }
   ],
   "source": [
    "plt.plot(range(len(port_r_train)), port_r_train.cumsum(), label='training')\n",
    "plt.plot(range(len(port_r_test)), port_r_test.cumsum(), label='testing')\n",
    "plt.xlabel('Timesteps')\n",
    "plt.ylabel('Accumulated return')\n",
    "plt.legend()\n",
    "plt.show()"
   ]
  }
 ],
 "metadata": {
  "kernelspec": {
   "display_name": "Python 3 (ipykernel)",
   "language": "python",
   "name": "python3"
  },
  "language_info": {
   "codemirror_mode": {
    "name": "ipython",
    "version": 3
   },
   "file_extension": ".py",
   "mimetype": "text/x-python",
   "name": "python",
   "nbconvert_exporter": "python",
   "pygments_lexer": "ipython3",
   "version": "3.8.10"
  }
 },
 "nbformat": 4,
 "nbformat_minor": 2
}
