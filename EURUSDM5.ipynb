{
 "cells": [
  {
   "cell_type": "code",
   "execution_count": 3,
   "metadata": {},
   "outputs": [
    {
     "name": "stdout",
     "output_type": "stream",
     "text": [
      "The autoreload extension is already loaded. To reload it, use:\n",
      "  %reload_ext autoreload\n"
     ]
    }
   ],
   "source": [
    "%load_ext autoreload\n",
    "%autoreload 2\n",
    "\n",
    "import numpy as np\n",
    "import pandas as pd\n",
    "import matplotlib.pyplot as plt\n",
    "\n",
    "from Utils.ga import *\n",
    "from Utils.tradingrule import *"
   ]
  },
  {
   "cell_type": "markdown",
   "metadata": {},
   "source": [
    "### Data preprocessing"
   ]
  },
  {
   "cell_type": "code",
   "execution_count": 4,
   "metadata": {},
   "outputs": [
    {
     "data": {
      "text/html": [
       "<div>\n",
       "<style scoped>\n",
       "    .dataframe tbody tr th:only-of-type {\n",
       "        vertical-align: middle;\n",
       "    }\n",
       "\n",
       "    .dataframe tbody tr th {\n",
       "        vertical-align: top;\n",
       "    }\n",
       "\n",
       "    .dataframe thead th {\n",
       "        text-align: right;\n",
       "    }\n",
       "</style>\n",
       "<table border=\"1\" class=\"dataframe\">\n",
       "  <thead>\n",
       "    <tr style=\"text-align: right;\">\n",
       "      <th></th>\n",
       "      <th>Open</th>\n",
       "      <th>High</th>\n",
       "      <th>Low</th>\n",
       "      <th>Close</th>\n",
       "    </tr>\n",
       "  </thead>\n",
       "  <tbody>\n",
       "    <tr>\n",
       "      <th>0</th>\n",
       "      <td>1.12076</td>\n",
       "      <td>1.12076</td>\n",
       "      <td>1.12076</td>\n",
       "      <td>1.12076</td>\n",
       "    </tr>\n",
       "    <tr>\n",
       "      <th>1</th>\n",
       "      <td>1.12076</td>\n",
       "      <td>1.12076</td>\n",
       "      <td>1.12076</td>\n",
       "      <td>1.12076</td>\n",
       "    </tr>\n",
       "    <tr>\n",
       "      <th>2</th>\n",
       "      <td>1.12076</td>\n",
       "      <td>1.12076</td>\n",
       "      <td>1.12076</td>\n",
       "      <td>1.12076</td>\n",
       "    </tr>\n",
       "    <tr>\n",
       "      <th>3</th>\n",
       "      <td>1.12076</td>\n",
       "      <td>1.12076</td>\n",
       "      <td>1.12076</td>\n",
       "      <td>1.12076</td>\n",
       "    </tr>\n",
       "    <tr>\n",
       "      <th>4</th>\n",
       "      <td>1.12076</td>\n",
       "      <td>1.12076</td>\n",
       "      <td>1.12076</td>\n",
       "      <td>1.12076</td>\n",
       "    </tr>\n",
       "  </tbody>\n",
       "</table>\n",
       "</div>"
      ],
      "text/plain": [
       "      Open     High      Low    Close\n",
       "0  1.12076  1.12076  1.12076  1.12076\n",
       "1  1.12076  1.12076  1.12076  1.12076\n",
       "2  1.12076  1.12076  1.12076  1.12076\n",
       "3  1.12076  1.12076  1.12076  1.12076\n",
       "4  1.12076  1.12076  1.12076  1.12076"
      ]
     },
     "execution_count": 4,
     "metadata": {},
     "output_type": "execute_result"
    }
   ],
   "source": [
    "data = pd.read_csv(\"data/eurusd_5m_20200101_20210708.csv\")\n",
    "data = data[['Open', 'High', 'Low', 'Close']]\n",
    "data.head()"
   ]
  },
  {
   "cell_type": "code",
   "execution_count": 5,
   "metadata": {},
   "outputs": [],
   "source": [
    "X_train = data.loc[:len(data)//2]\n",
    "X_test = data.loc[len(data)//2:]"
   ]
  },
  {
   "cell_type": "code",
   "execution_count": 6,
   "metadata": {},
   "outputs": [
    {
     "name": "stdout",
     "output_type": "stream",
     "text": [
      "Training Rule1 score is: 0.379\n",
      "Training Rule2 score is: 0.379\n",
      "Training Rule3 score is: 0.427\n",
      "Training Rule4 score is: 0.399\n",
      "Training Rule5 score is: 0.346\n",
      "Training Rule6 score is: 0.407\n",
      "Training Rule7 score is: 0.411\n",
      "Training Rule8 score is: 0.347\n",
      "Training Rule9 score is: 0.418\n",
      "Training Rule10 score is: 0.441\n",
      "Training Rule11 score is: 0.342\n",
      "Training Rule12 score is: 0.436\n",
      "Training Rule13 score is: 0.340\n",
      "Training Rule14 score is: 0.193\n",
      "Training Rule15 score is: 0.198\n",
      "Training Rule16 score is: 0.097\n",
      "CPU times: user 4min 10s, sys: 239 ms, total: 4min 10s\n",
      "Wall time: 4min 10s\n"
     ]
    }
   ],
   "source": [
    "%%time\n",
    "trading_rule_params = trainTradingRuleFeatures(X_train)"
   ]
  },
  {
   "cell_type": "code",
   "execution_count": 7,
   "metadata": {},
   "outputs": [
    {
     "name": "stdout",
     "output_type": "stream",
     "text": [
      "CPU times: user 4.98 s, sys: 12 ms, total: 5 s\n",
      "Wall time: 5 s\n"
     ]
    }
   ],
   "source": [
    "%%time\n",
    "X_trading_rule_train = getTradingRuleFeatures(X_train, trading_rule_params)\n",
    "X_trading_rule_test = getTradingRuleFeatures(X_test, trading_rule_params)"
   ]
  },
  {
   "cell_type": "markdown",
   "metadata": {},
   "source": [
    "### Genetic Algorithm to Find the Optimal Combination of Rules"
   ]
  },
  {
   "cell_type": "code",
   "execution_count": 8,
   "metadata": {},
   "outputs": [],
   "source": [
    "def evaluate(position, logr):\n",
    "    port_r = logr*position\n",
    "    score = port_r.sum()\n",
    "    print(\"The maximum position is {:.3f}, the mean postiion is {:3f}.\".format(position.max(), abs(position).mean()))\n",
    "    print(\"The return over the period is: {:.2f}%\".format(score*100))\n",
    "    print(\"Maximum drawdown is: {:.3f}%\".format(min(port_r.cumsum())*100))\n",
    "    sr_train = port_r.mean()/port_r.std()\n",
    "    print(\"SR ratio is: {:.3f}\".format(sr_train*(252*24*12)**0.5))"
   ]
  },
  {
   "cell_type": "markdown",
   "metadata": {},
   "source": [
    "### 思考下为什么曲线会突然就往下打下去，SSR应该是maximize优化"
   ]
  },
  {
   "cell_type": "code",
   "execution_count": 9,
   "metadata": {},
   "outputs": [
    {
     "name": "stdout",
     "output_type": "stream",
     "text": [
      "(array([0]),)\n",
      "[0.0001905353122815811, 0.00019388214708355772, 0.00014758600692159506, 9.66318553598843e-05, 7.771453151010964e-05, 6.799933530002796e-05, 6.788127246893028e-05, 6.756085972074976e-05, 6.558704912224343e-05, 6.67010567656011e-05, 6.606627971953803e-05, 6.635197438578789e-05, 6.445842036139359e-05, 6.572709599758198e-05, 6.512911373484238e-05, 6.585483703280789e-05, 6.551893669912069e-05, 6.584158580437844e-05, 6.580212273084374e-05, 6.760559326453106e-05, 6.55114027530971e-05, 6.532274580186934e-05, 6.704818511638203e-05, 6.511403774767432e-05, 6.558795397747821e-05, 6.724725748627525e-05, 6.669706121870398e-05, 6.617306355936374e-05, 6.598687423398277e-05, 6.372011040829119e-05, 6.655534439884377e-05, 6.656463112205376e-05, 6.524090451962282e-05, 6.65737491391145e-05, 6.600241574230919e-05, 6.499007358800021e-05, 6.487048846276956e-05, 6.491404830206616e-05, 6.364299704962584e-05, 6.335489896499263e-05, 6.486407692702597e-05, 6.531248610335519e-05, 6.599242109252776e-05, 6.385640921909156e-05, 6.516168017477721e-05, 6.414307730463337e-05, 6.425303621432084e-05, 6.375298055771277e-05, 6.444723715295229e-05, 6.551756776806247e-05, 6.537525941677448e-05, 6.60876514800604e-05, 6.481808666532887e-05, 6.477177812357648e-05, 6.322811808043725e-05, 6.411918557730316e-05, 6.376692687827316e-05, 6.50296866587957e-05, 6.375436006541932e-05, 6.508245090338653e-05, 6.302781725803203e-05, 6.407801410923062e-05, 6.457656946808129e-05, 6.42498462625234e-05, 6.433990490094413e-05, 6.605569493273216e-05, 6.420451368409848e-05, 6.54075899158086e-05, 6.530540514153303e-05, 6.497276882407504e-05, 6.354622881053106e-05, 6.614204970891727e-05, 6.547970915284669e-05, 6.585606338638594e-05, 6.55954581754499e-05, 6.422789464380825e-05, 6.536190210034809e-05, 6.459665449057251e-05, 6.40276321989687e-05, 6.418056282978396e-05, 6.446162234975949e-05, 6.473885093643576e-05, 6.430996547969161e-05, 6.511472221858668e-05, 6.519601215960652e-05, 6.478583401634324e-05, 6.507758878268828e-05, 6.431024276058191e-05, 6.560502973333456e-05, 6.516945423366111e-05, 6.396781315552874e-05, 6.371162576894159e-05, 6.566597736452932e-05, 6.471509780117216e-05, 6.543751461183911e-05, 6.500413017579787e-05, 6.536125383064868e-05, 6.417985536016445e-05, 6.438327653997005e-05, 6.343997506569716e-05, 6.542119148820312e-05, 6.364197721958894e-05, 6.37108606979304e-05, 6.567829371735136e-05, 6.488367660209195e-05, 6.447869076396122e-05, 6.586225338756257e-05, 6.609756063121357e-05, 6.412523419271146e-05, 6.448664471539421e-05, 6.50627198530708e-05, 6.402809075712622e-05, 6.533264409612013e-05, 6.41021646515279e-05, 6.487473271115747e-05, 6.716205359106394e-05, 6.561554938369513e-05, 6.39639967500887e-05, 6.347359718102773e-05, 6.526963362941337e-05, 6.493171097539973e-05, 6.476626724892577e-05, 6.594285748779239e-05, 6.474792073357626e-05, 6.58012590619268e-05, 6.575318391014268e-05, 6.513864839748857e-05, 6.588583871886516e-05, 6.580151359547973e-05, 6.36281408252047e-05, 6.513316602960552e-05, 6.410042669408706e-05, 6.609260768738661e-05, 6.533854624567158e-05, 6.409428406965479e-05, 6.745128605637043e-05, 6.38144669178724e-05, 6.430518371415581e-05, 6.588945648504182e-05, 6.595166758516788e-05, 6.462773593160444e-05, 6.630281515745016e-05, 6.528149311721152e-05, 6.590604416622874e-05, 6.463836998103066e-05, 6.490437153559946e-05, 6.407324061732468e-05, 6.544268600415272e-05, 6.443931551484263e-05, 6.532377049722769e-05, 6.702873353215935e-05, 6.512928988611734e-05, 6.335745710379624e-05, 6.551323115957229e-05, 6.497140888428254e-05, 6.583420324345248e-05, 6.328171978354435e-05, 6.592884852687255e-05, 6.341311830243474e-05, 6.317825419706109e-05, 6.501847490298188e-05, 6.588626113381134e-05, 6.557002808006514e-05, 6.514076180082133e-05, 6.589951880856235e-05, 6.517460506935552e-05, 6.29835604750241e-05, 6.51150291447845e-05, 6.674960394730323e-05, 6.45805659467151e-05, 6.352263041095774e-05, 6.624139778543621e-05, 6.443604971636753e-05, 6.46623152333317e-05, 6.486542980702128e-05, 6.56095216898117e-05, 6.352364162612504e-05, 6.359636337093449e-05, 6.581454562874228e-05, 6.572762199480607e-05, 6.476999935741602e-05, 6.502807590034006e-05, 6.539131477847406e-05, 6.450753667485837e-05, 6.588270423830663e-05, 6.430577780659519e-05, 6.616249676844461e-05, 6.643354931310532e-05, 6.462470063764418e-05, 6.465800326619171e-05, 6.406764532154317e-05, 6.388509925948155e-05, 6.560345394704548e-05, 6.52517126136775e-05, 6.463042598558976e-05, 6.454534092732452e-05, 6.630611941541694e-05, 6.482773127754544e-05, 6.346932223551306e-05, 6.566078501853873e-05]\n"
     ]
    },
    {
     "data": {
      "image/png": "[encoded data removed]",
      "text/plain": [
       "<Figure size 432x288 with 1 Axes>"
      ]
     },
     "metadata": {
      "needs_background": "light"
     },
     "output_type": "display_data"
    },
    {
     "name": "stdout",
     "output_type": "stream",
     "text": [
      "CPU times: user 1min 6s, sys: 2.69 s, total: 1min 8s\n",
      "Wall time: 1min 8s\n"
     ]
    }
   ],
   "source": [
    "%%time\n",
    "max_SSR_weights = GA_train(X_trading_rule_train, optimizing_selection=2, sol_per_pop=10, num_parents_mating=6, num_generations = 200)"
   ]
  },
  {
   "cell_type": "code",
   "execution_count": 10,
   "metadata": {},
   "outputs": [
    {
     "name": "stdout",
     "output_type": "stream",
     "text": [
      "Training data evaluation:\n",
      "The maximum position is 1.000, the mean postiion is 0.579169.\n",
      "The return over the period is: 33.27%\n",
      "Maximum drawdown is: -0.474%\n",
      "SR ratio is: 5.477\n"
     ]
    }
   ],
   "source": [
    "position = (X_trading_rule_train.values[:, 1:]@max_SSR_weights.T).reshape(X_trading_rule_train.shape[0],)\n",
    "position /= np.max(abs(position))\n",
    "print('Training data evaluation:')\n",
    "evaluate(position, X_trading_rule_train.logr)\n",
    "port_r_train = X_trading_rule_train.logr*position"
   ]
  },
  {
   "cell_type": "code",
   "execution_count": 11,
   "metadata": {},
   "outputs": [
    {
     "name": "stdout",
     "output_type": "stream",
     "text": [
      "Testing data evaluation:\n",
      "The maximum position is 1.000, the mean postiion is 0.592056.\n",
      "The return over the period is: 30.38%\n",
      "Maximum drawdown is: -0.322%\n",
      "SR ratio is: 7.322\n"
     ]
    }
   ],
   "source": [
    "position = (X_trading_rule_test.values[:, 1:]@max_SSR_weights.T).reshape(X_trading_rule_test.shape[0],)\n",
    "position /= np.max(abs(position))\n",
    "print('Testing data evaluation:')\n",
    "evaluate(position, X_trading_rule_test.logr)\n",
    "port_r_test = X_trading_rule_test.logr*position"
   ]
  },
  {
   "cell_type": "code",
   "execution_count": 12,
   "metadata": {
    "scrolled": true
   },
   "outputs": [
    {
     "data": {
      "image/png": "[encoded data removed]",
      "text/plain": [
       "<Figure size 432x288 with 1 Axes>"
      ]
     },
     "metadata": {
      "needs_background": "light"
     },
     "output_type": "display_data"
    }
   ],
   "source": [
    "plt.plot(range(len(port_r_train)), port_r_train.cumsum(), label='training')\n",
    "plt.plot(range(len(port_r_test)), port_r_test.cumsum(), label='testing')\n",
    "plt.xlabel('Timesteps')\n",
    "plt.ylabel('Accumulated return')\n",
    "plt.legend()\n",
    "plt.show()"
   ]
  }
 ],
 "metadata": {
  "kernelspec": {
   "display_name": "Python 3 (ipykernel)",
   "language": "python",
   "name": "python3"
  },
  "language_info": {
   "codemirror_mode": {
    "name": "ipython",
    "version": 3
   },
   "file_extension": ".py",
   "mimetype": "text/x-python",
   "name": "python",
   "nbconvert_exporter": "python",
   "pygments_lexer": "ipython3",
   "version": "3.8.10"
  }
 },
 "nbformat": 4,
 "nbformat_minor": 2
}
