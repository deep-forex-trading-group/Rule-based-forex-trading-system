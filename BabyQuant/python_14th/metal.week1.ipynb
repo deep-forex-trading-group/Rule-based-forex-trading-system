{
 "cells": [
  {
   "cell_type": "code",
   "execution_count": 1,
   "metadata": {},
   "outputs": [],
   "source": [
    "HEAD_PATH = \"/home/jackie/Downloads/dataset\""
   ]
  },
  {
   "cell_type": "code",
   "execution_count": 2,
   "metadata": {},
   "outputs": [],
   "source": [
    "import warnings\n",
    " \n",
    "warnings.filterwarnings('ignore')"
   ]
  },
  {
   "cell_type": "markdown",
   "metadata": {},
   "source": [
    "- path of data"
   ]
  },
  {
   "cell_type": "markdown",
   "metadata": {},
   "source": [
    "- Welcome to Quantitative and High Frequency Trading Training Program\n",
    "- Let's start with basic data analysis with python\n",
    "- you can use Shift+Enter to run each line of code\n",
    "\n",
    "- path of our program"
   ]
  },
  {
   "cell_type": "code",
   "execution_count": 3,
   "metadata": {},
   "outputs": [],
   "source": [
    "DATA_PATH = HEAD_PATH + \"/\""
   ]
  },
  {
   "cell_type": "markdown",
   "metadata": {},
   "source": [
    "- set working directory"
   ]
  },
  {
   "cell_type": "code",
   "execution_count": 4,
   "metadata": {},
   "outputs": [],
   "source": [
    "import os\n",
    "os.chdir(DATA_PATH)"
   ]
  },
  {
   "cell_type": "markdown",
   "metadata": {},
   "source": [
    "- number of cores"
   ]
  },
  {
   "cell_type": "code",
   "execution_count": 5,
   "metadata": {},
   "outputs": [
    {
     "data": {
      "text/plain": [
       "20"
      ]
     },
     "execution_count": 5,
     "metadata": {},
     "output_type": "execute_result"
    }
   ],
   "source": [
    "import os\n",
    "\n",
    "import multiprocessing\n",
    "\n",
    "# Linux\n",
    "CORE_NUM = multiprocessing.cpu_count()\n",
    "CORE_NUM\n",
    "\n",
    "# Windows\n",
    "# CORE_NUM = int(os.environ['NUMBER_OF_PROCESSORS'])\n",
    "# CORE_NUM"
   ]
  },
  {
   "cell_type": "markdown",
   "metadata": {},
   "source": [
    "\n",
    "- get working directory"
   ]
  },
  {
   "cell_type": "code",
   "execution_count": 6,
   "metadata": {},
   "outputs": [
    {
     "data": {
      "text/plain": [
       "'/home/jackie/Downloads/dataset'"
      ]
     },
     "execution_count": 6,
     "metadata": {},
     "output_type": "execute_result"
    }
   ],
   "source": [
    "os.getcwd()"
   ]
  },
  {
   "cell_type": "markdown",
   "metadata": {},
   "source": [
    "- sample product, you can change to your specific product symbol\n",
    "- for this quarter we analyze all of the black medals"
   ]
  },
  {
   "cell_type": "code",
   "execution_count": 7,
   "metadata": {},
   "outputs": [],
   "source": [
    "product_list = [\"cu\", \"zn\", \"ni\", \"ag\", \"au\"]\n",
    "product = product_list[0]"
   ]
  },
  {
   "cell_type": "markdown",
   "metadata": {},
   "source": [
    "- directory of the product's data"
   ]
  },
  {
   "cell_type": "code",
   "execution_count": 8,
   "metadata": {},
   "outputs": [
    {
     "data": {
      "text/plain": [
       "'/home/jackie/Downloads/dataset/cu'"
      ]
     },
     "execution_count": 8,
     "metadata": {},
     "output_type": "execute_result"
    }
   ],
   "source": [
    "dire = DATA_PATH + product\n",
    "dire"
   ]
  },
  {
   "cell_type": "markdown",
   "metadata": {},
   "source": [
    "- get all available data"
   ]
  },
  {
   "cell_type": "code",
   "execution_count": 9,
   "metadata": {},
   "outputs": [
    {
     "data": {
      "text/plain": [
       "1071"
      ]
     },
     "execution_count": 9,
     "metadata": {},
     "output_type": "execute_result"
    }
   ],
   "source": [
    "all_dates = list(map(lambda x: x,os.listdir(DATA_PATH + product)))\n",
    "all_dates.sort(key = lambda x:int(x[:-4]))\n",
    "len(all_dates)\n",
    "## 1398"
   ]
  },
  {
   "cell_type": "markdown",
   "metadata": {},
   "source": [
    "- we can see that there are 974 days\n",
    "- all of the products have the same trading days\n",
    "- so we just take a as an example\n",
    "- get first several dates"
   ]
  },
  {
   "cell_type": "code",
   "execution_count": 10,
   "metadata": {},
   "outputs": [
    {
     "data": {
      "text/plain": [
       "['20170703.pkl',\n",
       " '20170704.pkl',\n",
       " '20170705.pkl',\n",
       " '20170706.pkl',\n",
       " '20170707.pkl',\n",
       " '20170710.pkl']"
      ]
     },
     "execution_count": 10,
     "metadata": {},
     "output_type": "execute_result"
    }
   ],
   "source": [
    "all_dates[:6]\n",
    "\n",
    "# ['20170703.pkl',\n",
    "#  '20170704.pkl',\n",
    "#  '20170705.pkl',\n",
    "#  '20170706.pkl',\n",
    "#  '20170707.pkl',\n",
    "#  '20170710.pkl']"
   ]
  },
  {
   "cell_type": "markdown",
   "metadata": {},
   "source": [
    "- get last several dates"
   ]
  },
  {
   "cell_type": "code",
   "execution_count": 11,
   "metadata": {
    "scrolled": false
   },
   "outputs": [
    {
     "data": {
      "text/plain": [
       "['20211118.pkl',\n",
       " '20211119.pkl',\n",
       " '20211122.pkl',\n",
       " '20211123.pkl',\n",
       " '20211124.pkl',\n",
       " '20211125.pkl']"
      ]
     },
     "execution_count": 11,
     "metadata": {},
     "output_type": "execute_result"
    }
   ],
   "source": [
    "all_dates[-6:]\n",
    "\n",
    "# ['20211118.pkl',\n",
    "#  '20211119.pkl',\n",
    "#  '20211122.pkl',\n",
    "#  '20211123.pkl',\n",
    "#  '20211124.pkl',\n",
    "#  '20211125.pkl']"
   ]
  },
  {
   "cell_type": "markdown",
   "metadata": {},
   "source": [
    "- specify a date"
   ]
  },
  {
   "cell_type": "code",
   "execution_count": 12,
   "metadata": {},
   "outputs": [],
   "source": [
    "date = \"20180411\""
   ]
  },
  {
   "cell_type": "markdown",
   "metadata": {},
   "source": [
    "- loading data set"
   ]
  },
  {
   "cell_type": "code",
   "execution_count": 13,
   "metadata": {},
   "outputs": [],
   "source": [
    "import pandas as pd\n",
    "import numpy as np\n",
    "import math\n",
    "import _pickle as cPickle\n",
    "import gzip\n",
    "\n",
    "with gzip.open(dire+\"/\"+date+\".pkl\", 'rb', compresslevel=1) as file_object:\n",
    "    raw_data = file_object.read()\n",
    "data = cPickle.loads(raw_data)"
   ]
  },
  {
   "cell_type": "markdown",
   "metadata": {},
   "source": [
    "- get the column names of data"
   ]
  },
  {
   "cell_type": "code",
   "execution_count": 14,
   "metadata": {},
   "outputs": [
    {
     "data": {
      "text/plain": [
       "Index(['contract', 'date.time', 'price', 'cum.open.int', 'open.int',\n",
       "       'turnover', 'qty', 'bid', 'ask', 'bid.qty', 'ask.qty', 'date', 'time',\n",
       "       'milli', 'good', 'min.1024', 'max.1024', 'min.2048', 'max.2048',\n",
       "       'min.4096', 'max.4096', 'mid.price', 'buy.trade', 'buy2.trade',\n",
       "       'sell.trade', 'sell2.trade', 'log.price', 'ret', 'wpr', 'wpr.ret',\n",
       "       'next.ask', 'next.bid'],\n",
       "      dtype='object')"
      ]
     },
     "execution_count": 14,
     "metadata": {},
     "output_type": "execute_result"
    }
   ],
   "source": [
    "data.columns\n",
    "## contract: contract name, product+expiration date\n",
    "## date.time: date and time\n",
    "## price: newest price of data\n",
    "## cum.open.int: cumulative open interest\n",
    "## open.int: newest open interest increment\n",
    "## turnover: newest turnover increment\n",
    "## qty: newest trading volume\n",
    "## bid: bid price\n",
    "## ask: ask price\n",
    "## bid.qty: bid size\n",
    "## ask.qty: ask size\n",
    "## date: actual date\n",
    "## time: acutal time\n",
    "## milli: actual milli second\n",
    "## mid.price: middle price of bid and ask\n",
    "## buy.trade: active buy volume at level 1\n",
    "## buy2.trade: active buy volume at other levels\n",
    "## sell.trade: active sell volume at level 1\n",
    "## sell2.trade: active sell volume at other levels\n",
    "## log.price: log wpr (to be defined soon)\n",
    "## ret: log return of last tick\n",
    "## wpr: volume weighted price\n",
    "## wpr.ret: price change of wpr\n",
    "## high: highest price of last ask, last price, and this ask\n",
    "## low: lowest price of last bid, last price, and thsi bid\n",
    "## next.bid: estimated active sell price, used for backtesting\n",
    "## next.ask: estimated active buy price, used for backtesting\n",
    "## min.1024: rolling minimum of wpr over 1024 ticks\n",
    "## max.1024: rolling maximum of wpr over 1024 ticks\n",
    "## min.2048: rolling minimum of wpr over 2048 ticks\n",
    "## max.2048: rolling maximum of wpr over 2048 ticks\n",
    "## min.4096: rolling minimum of wpr over 4096 ticks\n",
    "## max.4096: rolling maximum of wpr over 4096 ticks\n",
    "\n",
    "## Q：关于这个数据的每个 column 的含义，能否介绍一下？一些缩写我不太了解什么含义？\n",
    "## A：各名称含义如下：\n",
    "## contract: 合约的名字，如 rb1605，表示螺纹钢合约，2016 年 5 月到期；\n",
    "## date.time: 日期和时间合在一起，方便作图用；\n",
    "## price: 最新的成交价；\n",
    "## cum.open.int: 总的持仓量；\n",
    "## open.int: 最新的持仓量改变量\n",
    "## turnover: 最新的成交额；\n",
    "## qty: 最新的成交量；\n",
    "## bid: 买一价；\n",
    "## ask: 卖一价；\n",
    "## bid.qty: 买一量；\n",
    "## ask.qty: 卖一量；\n",
    "## date: 实际日期；\n",
    "## time: 实际时间；\n",
    "## milli: 毫秒数（上期所与中金所是 0、500，大商所随机，郑商所是 0）；\n",
    "## mid.price: 买一和卖一的中间价；\n",
    "## buy.trade: 一档主动买量（估算，非交易所提供）；\n",
    "## buy2.trade: 其他价位主动买量（估算，非交易所提供）；\n",
    "## sell.trade: 一档主动卖量（估算，非交易所提供）；\n",
    "## sell2.trade: 其他价位主动买量（估算，非交易所提供）；\n",
    "## log.price: wpr 的对数（wpr 下面定义）；\n",
    "## ret: 最新一笔行情的对数收益率；\n",
    "## wpr: 挂单量加权平均价；\n",
    "## wpr.ret: wpr 的价格变化；\n",
    "## min.1024: 过去 1024 笔行情的 wpr 最小值\n",
    "## max.1024: 过去 1024 笔行情的 wpr 最大值；\n",
    "## high: 当前 ask、前一个 ask、最新价的最高价（构造最小级别 K 线用）；\n",
    "## low: 当前 bid、前一个 bid、最新价的最低价（狗仔最小级别 K 线用）；\n",
    "## next.bid: 主动卖单的成交价（估算，非交易所提供），用于回测；\n",
    "## next.ask: 主动买单的成交价（估算，非交易所提供），用于回测；\n",
    "## min.1024: 1024跳滚动最低价\n",
    "## max.1024: 1024跳滚动最高价\n",
    "## min.2048: 2048跳滚动最低价\n",
    "## max.2048: 2048跳滚动最高价\n",
    "## min.4096: 4096滚动最低价\n",
    "## max.4096: 4096滚动最高价"
   ]
  },
  {
   "cell_type": "code",
   "execution_count": 15,
   "metadata": {},
   "outputs": [
    {
     "data": {
      "text/html": [
       "<div>\n",
       "<style scoped>\n",
       "    .dataframe tbody tr th:only-of-type {\n",
       "        vertical-align: middle;\n",
       "    }\n",
       "\n",
       "    .dataframe tbody tr th {\n",
       "        vertical-align: top;\n",
       "    }\n",
       "\n",
       "    .dataframe thead th {\n",
       "        text-align: right;\n",
       "    }\n",
       "</style>\n",
       "<table border=\"1\" class=\"dataframe\">\n",
       "  <thead>\n",
       "    <tr style=\"text-align: right;\">\n",
       "      <th></th>\n",
       "      <th>contract</th>\n",
       "      <th>date.time</th>\n",
       "      <th>price</th>\n",
       "      <th>cum.open.int</th>\n",
       "      <th>open.int</th>\n",
       "      <th>turnover</th>\n",
       "      <th>qty</th>\n",
       "      <th>bid</th>\n",
       "      <th>ask</th>\n",
       "      <th>bid.qty</th>\n",
       "    </tr>\n",
       "  </thead>\n",
       "  <tbody>\n",
       "    <tr>\n",
       "      <th>0</th>\n",
       "      <td>cu1806</td>\n",
       "      <td>2018-04-10 20:59:00.500</td>\n",
       "      <td>51400.0</td>\n",
       "      <td>236692</td>\n",
       "      <td>96</td>\n",
       "      <td>62708000.0</td>\n",
       "      <td>244</td>\n",
       "      <td>51390.0</td>\n",
       "      <td>51400.0</td>\n",
       "      <td>1</td>\n",
       "    </tr>\n",
       "    <tr>\n",
       "      <th>1</th>\n",
       "      <td>cu1806</td>\n",
       "      <td>2018-04-10 21:00:00.500</td>\n",
       "      <td>51380.0</td>\n",
       "      <td>236718</td>\n",
       "      <td>26</td>\n",
       "      <td>11819400.0</td>\n",
       "      <td>46</td>\n",
       "      <td>51380.0</td>\n",
       "      <td>51390.0</td>\n",
       "      <td>2</td>\n",
       "    </tr>\n",
       "    <tr>\n",
       "      <th>2</th>\n",
       "      <td>cu1806</td>\n",
       "      <td>2018-04-10 21:00:01.000</td>\n",
       "      <td>51420.0</td>\n",
       "      <td>236742</td>\n",
       "      <td>24</td>\n",
       "      <td>33916100.0</td>\n",
       "      <td>132</td>\n",
       "      <td>51410.0</td>\n",
       "      <td>51420.0</td>\n",
       "      <td>2</td>\n",
       "    </tr>\n",
       "    <tr>\n",
       "      <th>3</th>\n",
       "      <td>cu1806</td>\n",
       "      <td>2018-04-10 21:00:01.500</td>\n",
       "      <td>51410.0</td>\n",
       "      <td>236748</td>\n",
       "      <td>6</td>\n",
       "      <td>9253800.0</td>\n",
       "      <td>36</td>\n",
       "      <td>51400.0</td>\n",
       "      <td>51410.0</td>\n",
       "      <td>5</td>\n",
       "    </tr>\n",
       "    <tr>\n",
       "      <th>4</th>\n",
       "      <td>cu1806</td>\n",
       "      <td>2018-04-10 21:00:02.000</td>\n",
       "      <td>51410.0</td>\n",
       "      <td>236740</td>\n",
       "      <td>-8</td>\n",
       "      <td>22107900.0</td>\n",
       "      <td>86</td>\n",
       "      <td>51410.0</td>\n",
       "      <td>51420.0</td>\n",
       "      <td>11</td>\n",
       "    </tr>\n",
       "    <tr>\n",
       "      <th>5</th>\n",
       "      <td>cu1806</td>\n",
       "      <td>2018-04-10 21:00:02.500</td>\n",
       "      <td>51410.0</td>\n",
       "      <td>236752</td>\n",
       "      <td>12</td>\n",
       "      <td>12338200.0</td>\n",
       "      <td>48</td>\n",
       "      <td>51400.0</td>\n",
       "      <td>51410.0</td>\n",
       "      <td>6</td>\n",
       "    </tr>\n",
       "    <tr>\n",
       "      <th>6</th>\n",
       "      <td>cu1806</td>\n",
       "      <td>2018-04-10 21:00:03.000</td>\n",
       "      <td>51400.0</td>\n",
       "      <td>236766</td>\n",
       "      <td>14</td>\n",
       "      <td>7710000.0</td>\n",
       "      <td>30</td>\n",
       "      <td>51390.0</td>\n",
       "      <td>51400.0</td>\n",
       "      <td>23</td>\n",
       "    </tr>\n",
       "    <tr>\n",
       "      <th>7</th>\n",
       "      <td>cu1806</td>\n",
       "      <td>2018-04-10 21:00:03.500</td>\n",
       "      <td>51390.0</td>\n",
       "      <td>236794</td>\n",
       "      <td>28</td>\n",
       "      <td>24670300.0</td>\n",
       "      <td>96</td>\n",
       "      <td>51390.0</td>\n",
       "      <td>51400.0</td>\n",
       "      <td>12</td>\n",
       "    </tr>\n",
       "    <tr>\n",
       "      <th>8</th>\n",
       "      <td>cu1806</td>\n",
       "      <td>2018-04-10 21:00:04.000</td>\n",
       "      <td>51410.0</td>\n",
       "      <td>236760</td>\n",
       "      <td>-34</td>\n",
       "      <td>21586900.0</td>\n",
       "      <td>84</td>\n",
       "      <td>51400.0</td>\n",
       "      <td>51410.0</td>\n",
       "      <td>14</td>\n",
       "    </tr>\n",
       "    <tr>\n",
       "      <th>9</th>\n",
       "      <td>cu1806</td>\n",
       "      <td>2018-04-10 21:00:04.500</td>\n",
       "      <td>51410.0</td>\n",
       "      <td>236746</td>\n",
       "      <td>-14</td>\n",
       "      <td>21076200.0</td>\n",
       "      <td>82</td>\n",
       "      <td>51400.0</td>\n",
       "      <td>51410.0</td>\n",
       "      <td>5</td>\n",
       "    </tr>\n",
       "  </tbody>\n",
       "</table>\n",
       "</div>"
      ],
      "text/plain": [
       "  contract                date.time    price  cum.open.int  open.int  \\\n",
       "0   cu1806  2018-04-10 20:59:00.500  51400.0        236692        96   \n",
       "1   cu1806  2018-04-10 21:00:00.500  51380.0        236718        26   \n",
       "2   cu1806  2018-04-10 21:00:01.000  51420.0        236742        24   \n",
       "3   cu1806  2018-04-10 21:00:01.500  51410.0        236748         6   \n",
       "4   cu1806  2018-04-10 21:00:02.000  51410.0        236740        -8   \n",
       "5   cu1806  2018-04-10 21:00:02.500  51410.0        236752        12   \n",
       "6   cu1806  2018-04-10 21:00:03.000  51400.0        236766        14   \n",
       "7   cu1806  2018-04-10 21:00:03.500  51390.0        236794        28   \n",
       "8   cu1806  2018-04-10 21:00:04.000  51410.0        236760       -34   \n",
       "9   cu1806  2018-04-10 21:00:04.500  51410.0        236746       -14   \n",
       "\n",
       "     turnover  qty      bid      ask  bid.qty  \n",
       "0  62708000.0  244  51390.0  51400.0        1  \n",
       "1  11819400.0   46  51380.0  51390.0        2  \n",
       "2  33916100.0  132  51410.0  51420.0        2  \n",
       "3   9253800.0   36  51400.0  51410.0        5  \n",
       "4  22107900.0   86  51410.0  51420.0       11  \n",
       "5  12338200.0   48  51400.0  51410.0        6  \n",
       "6   7710000.0   30  51390.0  51400.0       23  \n",
       "7  24670300.0   96  51390.0  51400.0       12  \n",
       "8  21586900.0   84  51400.0  51410.0       14  \n",
       "9  21076200.0   82  51400.0  51410.0        5  "
      ]
     },
     "execution_count": 15,
     "metadata": {},
     "output_type": "execute_result"
    }
   ],
   "source": [
    "data.iloc[0:10,0:10]\n",
    "\n",
    "#  \tcontract \tdate.time \tprice \tcum.open.int \topen.int \tturnover \tqty \tbid \task \tbid.qty\n",
    "# 0 \tcu1806 \t2018-04-10 20:59:00.500 \t51400.0 \t236692 \t96 \t62708000.0 \t244 \t51390.0 \t51400.0 \t1\n",
    "# 1 \tcu1806 \t2018-04-10 21:00:00.500 \t51380.0 \t236718 \t26 \t11819400.0 \t46 \t51380.0 \t51390.0 \t2\n",
    "# 2 \tcu1806 \t2018-04-10 21:00:01.000 \t51420.0 \t236742 \t24 \t33916100.0 \t132 \t51410.0 \t51420.0 \t2\n",
    "# 3 \tcu1806 \t2018-04-10 21:00:01.500 \t51410.0 \t236748 \t6 \t9253800.0 \t36 \t51400.0 \t51410.0 \t5\n",
    "# 4 \tcu1806 \t2018-04-10 21:00:02.000 \t51410.0 \t236740 \t-8 \t22107900.0 \t86 \t51410.0 \t51420.0 \t11\n",
    "# 5 \tcu1806 \t2018-04-10 21:00:02.500 \t51410.0 \t236752 \t12 \t12338200.0 \t48 \t51400.0 \t51410.0 \t6\n",
    "# 6 \tcu1806 \t2018-04-10 21:00:03.000 \t51400.0 \t236766 \t14 \t7710000.0 \t30 \t51390.0 \t51400.0 \t23\n",
    "# 7 \tcu1806 \t2018-04-10 21:00:03.500 \t51390.0 \t236794 \t28 \t24670300.0 \t96 \t51390.0 \t51400.0 \t12\n",
    "# 8 \tcu1806 \t2018-04-10 21:00:04.000 \t51410.0 \t236760 \t-34 \t21586900.0 \t84 \t51400.0 \t51410.0 \t14\n",
    "# 9 \tcu1806 \t2018-04-10 21:00:04.500 \t51410.0 \t236746 \t-14 \t21076200.0 \t82 \t51400.0 \t51410.0 \t5"
   ]
  },
  {
   "cell_type": "code",
   "execution_count": 16,
   "metadata": {},
   "outputs": [],
   "source": [
    "# ask.qty \tdate \ttime \tmilli \tgood \tmin.1024 \tmax.1024 \tmin.2048 \tmax.2048 \tmin.4096\n",
    "# 0 \t1 \t20180410 \t20:59:00 \t500 \tFalse \tNaN \tNaN \tNaN \tNaN \tNaN\n",
    "# 1 \t24 \t20180410 \t21:00:00 \t500 \tFalse \tNaN \tNaN \tNaN \tNaN \tNaN\n",
    "# 2 \t19 \t20180410 \t21:00:01 \t0 \tFalse \tNaN \tNaN \tNaN \tNaN \tNaN\n",
    "# 3 \t7 \t20180410 \t21:00:01 \t500 \tFalse \tNaN \tNaN \tNaN \tNaN \tNaN\n",
    "# 4 \t2 \t20180410 \t21:00:02 \t0 \tFalse \tNaN \tNaN \tNaN \tNaN \tNaN\n",
    "# 5 \t19 \t20180410 \t21:00:02 \t500 \tFalse \tNaN \tNaN \tNaN \tNaN \tNaN\n",
    "# 6 \t16 \t20180410 \t21:00:03 \t0 \tFalse \tNaN \tNaN \tNaN \tNaN \tNaN\n",
    "# 7 \t2 \t20180410 \t21:00:03 \t500 \tFalse \tNaN \tNaN \tNaN \tNaN \tNaN\n",
    "# 8 \t4 \t20180410 \t21:00:04 \t0 \tFalse \tNaN \tNaN \tNaN \tNaN \tNaN\n",
    "# 9 \t8 \t20180410 \t21:00:04 \t500 \tFalse \tNaN \tNaN \tNaN \tNaN \tNaN"
   ]
  },
  {
   "cell_type": "code",
   "execution_count": 17,
   "metadata": {},
   "outputs": [
    {
     "data": {
      "text/html": [
       "<div>\n",
       "<style scoped>\n",
       "    .dataframe tbody tr th:only-of-type {\n",
       "        vertical-align: middle;\n",
       "    }\n",
       "\n",
       "    .dataframe tbody tr th {\n",
       "        vertical-align: top;\n",
       "    }\n",
       "\n",
       "    .dataframe thead th {\n",
       "        text-align: right;\n",
       "    }\n",
       "</style>\n",
       "<table border=\"1\" class=\"dataframe\">\n",
       "  <thead>\n",
       "    <tr style=\"text-align: right;\">\n",
       "      <th></th>\n",
       "      <th>max.4096</th>\n",
       "      <th>mid.price</th>\n",
       "      <th>buy.trade</th>\n",
       "      <th>buy2.trade</th>\n",
       "      <th>sell.trade</th>\n",
       "      <th>sell2.trade</th>\n",
       "      <th>log.price</th>\n",
       "      <th>ret</th>\n",
       "      <th>wpr</th>\n",
       "      <th>wpr.ret</th>\n",
       "      <th>next.ask</th>\n",
       "      <th>next.bid</th>\n",
       "    </tr>\n",
       "  </thead>\n",
       "  <tbody>\n",
       "    <tr>\n",
       "      <th>0</th>\n",
       "      <td>51395.000000</td>\n",
       "      <td>51395.0</td>\n",
       "      <td>122.0</td>\n",
       "      <td>0.0</td>\n",
       "      <td>122.0</td>\n",
       "      <td>0.0</td>\n",
       "      <td>10.847296</td>\n",
       "      <td>0.004387</td>\n",
       "      <td>51395.000000</td>\n",
       "      <td>225.000000</td>\n",
       "      <td>51390.0</td>\n",
       "      <td>51380.0</td>\n",
       "    </tr>\n",
       "    <tr>\n",
       "      <th>1</th>\n",
       "      <td>51395.000000</td>\n",
       "      <td>51385.0</td>\n",
       "      <td>0.0</td>\n",
       "      <td>0.0</td>\n",
       "      <td>40.0</td>\n",
       "      <td>6.0</td>\n",
       "      <td>10.847019</td>\n",
       "      <td>-0.000277</td>\n",
       "      <td>51380.769231</td>\n",
       "      <td>-14.230769</td>\n",
       "      <td>51420.0</td>\n",
       "      <td>51410.0</td>\n",
       "    </tr>\n",
       "    <tr>\n",
       "      <th>2</th>\n",
       "      <td>51410.952381</td>\n",
       "      <td>51415.0</td>\n",
       "      <td>106.0</td>\n",
       "      <td>0.0</td>\n",
       "      <td>26.0</td>\n",
       "      <td>0.0</td>\n",
       "      <td>10.847607</td>\n",
       "      <td>0.000587</td>\n",
       "      <td>51410.952381</td>\n",
       "      <td>30.183150</td>\n",
       "      <td>51410.0</td>\n",
       "      <td>51400.0</td>\n",
       "    </tr>\n",
       "    <tr>\n",
       "      <th>3</th>\n",
       "      <td>51410.952381</td>\n",
       "      <td>51405.0</td>\n",
       "      <td>0.0</td>\n",
       "      <td>0.0</td>\n",
       "      <td>36.0</td>\n",
       "      <td>0.0</td>\n",
       "      <td>10.847475</td>\n",
       "      <td>-0.000132</td>\n",
       "      <td>51404.166667</td>\n",
       "      <td>-6.785714</td>\n",
       "      <td>51420.0</td>\n",
       "      <td>51410.0</td>\n",
       "    </tr>\n",
       "    <tr>\n",
       "      <th>4</th>\n",
       "      <td>51418.461538</td>\n",
       "      <td>51415.0</td>\n",
       "      <td>54.0</td>\n",
       "      <td>32.0</td>\n",
       "      <td>0.0</td>\n",
       "      <td>0.0</td>\n",
       "      <td>10.847753</td>\n",
       "      <td>0.000278</td>\n",
       "      <td>51418.461538</td>\n",
       "      <td>14.294872</td>\n",
       "      <td>51410.0</td>\n",
       "      <td>51400.0</td>\n",
       "    </tr>\n",
       "    <tr>\n",
       "      <th>5</th>\n",
       "      <td>51418.461538</td>\n",
       "      <td>51405.0</td>\n",
       "      <td>0.0</td>\n",
       "      <td>0.0</td>\n",
       "      <td>44.0</td>\n",
       "      <td>4.0</td>\n",
       "      <td>10.847440</td>\n",
       "      <td>-0.000312</td>\n",
       "      <td>51402.400000</td>\n",
       "      <td>-16.061538</td>\n",
       "      <td>51400.0</td>\n",
       "      <td>51390.0</td>\n",
       "    </tr>\n",
       "    <tr>\n",
       "      <th>6</th>\n",
       "      <td>51418.461538</td>\n",
       "      <td>51395.0</td>\n",
       "      <td>0.0</td>\n",
       "      <td>0.0</td>\n",
       "      <td>30.0</td>\n",
       "      <td>0.0</td>\n",
       "      <td>10.847314</td>\n",
       "      <td>-0.000127</td>\n",
       "      <td>51395.897436</td>\n",
       "      <td>-6.502564</td>\n",
       "      <td>51400.0</td>\n",
       "      <td>51390.0</td>\n",
       "    </tr>\n",
       "    <tr>\n",
       "      <th>7</th>\n",
       "      <td>51418.461538</td>\n",
       "      <td>51395.0</td>\n",
       "      <td>62.0</td>\n",
       "      <td>0.0</td>\n",
       "      <td>34.0</td>\n",
       "      <td>0.0</td>\n",
       "      <td>10.847366</td>\n",
       "      <td>0.000052</td>\n",
       "      <td>51398.571429</td>\n",
       "      <td>2.673993</td>\n",
       "      <td>51410.0</td>\n",
       "      <td>51400.0</td>\n",
       "    </tr>\n",
       "    <tr>\n",
       "      <th>8</th>\n",
       "      <td>51418.461538</td>\n",
       "      <td>51405.0</td>\n",
       "      <td>62.0</td>\n",
       "      <td>0.0</td>\n",
       "      <td>22.0</td>\n",
       "      <td>0.0</td>\n",
       "      <td>10.847545</td>\n",
       "      <td>0.000179</td>\n",
       "      <td>51407.777778</td>\n",
       "      <td>9.206349</td>\n",
       "      <td>51410.0</td>\n",
       "      <td>51400.0</td>\n",
       "    </tr>\n",
       "    <tr>\n",
       "      <th>9</th>\n",
       "      <td>51418.461538</td>\n",
       "      <td>51405.0</td>\n",
       "      <td>44.0</td>\n",
       "      <td>0.0</td>\n",
       "      <td>38.0</td>\n",
       "      <td>0.0</td>\n",
       "      <td>10.847468</td>\n",
       "      <td>-0.000076</td>\n",
       "      <td>51403.846154</td>\n",
       "      <td>-3.931624</td>\n",
       "      <td>51410.0</td>\n",
       "      <td>51390.0</td>\n",
       "    </tr>\n",
       "  </tbody>\n",
       "</table>\n",
       "</div>"
      ],
      "text/plain": [
       "       max.4096  mid.price  buy.trade  buy2.trade  sell.trade  sell2.trade  \\\n",
       "0  51395.000000    51395.0      122.0         0.0       122.0          0.0   \n",
       "1  51395.000000    51385.0        0.0         0.0        40.0          6.0   \n",
       "2  51410.952381    51415.0      106.0         0.0        26.0          0.0   \n",
       "3  51410.952381    51405.0        0.0         0.0        36.0          0.0   \n",
       "4  51418.461538    51415.0       54.0        32.0         0.0          0.0   \n",
       "5  51418.461538    51405.0        0.0         0.0        44.0          4.0   \n",
       "6  51418.461538    51395.0        0.0         0.0        30.0          0.0   \n",
       "7  51418.461538    51395.0       62.0         0.0        34.0          0.0   \n",
       "8  51418.461538    51405.0       62.0         0.0        22.0          0.0   \n",
       "9  51418.461538    51405.0       44.0         0.0        38.0          0.0   \n",
       "\n",
       "   log.price       ret           wpr     wpr.ret  next.ask  next.bid  \n",
       "0  10.847296  0.004387  51395.000000  225.000000   51390.0   51380.0  \n",
       "1  10.847019 -0.000277  51380.769231  -14.230769   51420.0   51410.0  \n",
       "2  10.847607  0.000587  51410.952381   30.183150   51410.0   51400.0  \n",
       "3  10.847475 -0.000132  51404.166667   -6.785714   51420.0   51410.0  \n",
       "4  10.847753  0.000278  51418.461538   14.294872   51410.0   51400.0  \n",
       "5  10.847440 -0.000312  51402.400000  -16.061538   51400.0   51390.0  \n",
       "6  10.847314 -0.000127  51395.897436   -6.502564   51400.0   51390.0  \n",
       "7  10.847366  0.000052  51398.571429    2.673993   51410.0   51400.0  \n",
       "8  10.847545  0.000179  51407.777778    9.206349   51410.0   51400.0  \n",
       "9  10.847468 -0.000076  51403.846154   -3.931624   51410.0   51390.0  "
      ]
     },
     "execution_count": 17,
     "metadata": {},
     "output_type": "execute_result"
    }
   ],
   "source": [
    "data.iloc[0:10,20:]\n",
    "\n",
    "#  \tmax.4096 \tmid.price \tbuy.trade \tbuy2.trade \tsell.trade \tsell2.trade \tlog.price \tret \twpr \twpr.ret \tnext.ask \tnext.bid\n",
    "# 0 \tNaN \t51395.0 \t122.0 \t0.0 \t122.0 \t0.0 \t10.847296 \t0.004387 \t51395.000000 \t225.000000 \t51390.0 \t51380.0\n",
    "# 1 \tNaN \t51385.0 \t0.0 \t0.0 \t40.0 \t6.0 \t10.847019 \t-0.000277 \t51380.769231 \t-14.230769 \t51420.0 \t51410.0\n",
    "# 2 \tNaN \t51415.0 \t106.0 \t0.0 \t26.0 \t0.0 \t10.847607 \t0.000587 \t51410.952381 \t30.183150 \t51410.0 \t51400.0\n",
    "# 3 \tNaN \t51405.0 \t0.0 \t0.0 \t36.0 \t0.0 \t10.847475 \t-0.000132 \t51404.166667 \t-6.785714 \t51420.0 \t51410.0\n",
    "# 4 \tNaN \t51415.0 \t54.0 \t32.0 \t0.0 \t0.0 \t10.847753 \t0.000278 \t51418.461538 \t14.294872 \t51410.0 \t51400.0\n",
    "# 5 \tNaN \t51405.0 \t0.0 \t0.0 \t44.0 \t4.0 \t10.847440 \t-0.000312 \t51402.400000 \t-16.061538 \t51400.0 \t51390.0\n",
    "# 6 \tNaN \t51395.0 \t0.0 \t0.0 \t30.0 \t0.0 \t10.847314 \t-0.000127 \t51395.897436 \t-6.502564 \t51400.0 \t51390.0\n",
    "# 7 \tNaN \t51395.0 \t62.0 \t0.0 \t34.0 \t0.0 \t10.847366 \t0.000052 \t51398.571429 \t2.673993 \t51410.0 \t51400.0\n",
    "# 8 \tNaN \t51405.0 \t62.0 \t0.0 \t22.0 \t0.0 \t10.847545 \t0.000179 \t51407.777778 \t9.206349 \t51410.0 \t51400.0\n",
    "# 9 \tNaN \t51405.0 \t44.0 \t0.0 \t38.0 \t0.0 \t10.847468 \t-0.000076 \t51403.846154 \t-3.931624 \t51410.0 \t51390.0"
   ]
  },
  {
   "cell_type": "markdown",
   "metadata": {},
   "source": [
    "- plot the price"
   ]
  },
  {
   "cell_type": "code",
   "execution_count": 18,
   "metadata": {},
   "outputs": [
    {
     "data": {
      "image/png": "[encoded data removed]",
      "text/plain": [
       "<Figure size 1152x720 with 1 Axes>"
      ]
     },
     "metadata": {
      "needs_background": "light"
     },
     "output_type": "display_data"
    }
   ],
   "source": [
    "# pip install plotly\n",
    "import matplotlib.pyplot as plt\n",
    "\n",
    "plt.figure(1, figsize=(16, 10))\n",
    "plt.plot(data[\"price\"].values);"
   ]
  },
  {
   "cell_type": "code",
   "execution_count": 19,
   "metadata": {},
   "outputs": [
    {
     "data": {
      "text/plain": [
       "0        20:59:00\n",
       "1        21:00:00\n",
       "2        21:00:01\n",
       "3        21:00:01\n",
       "4        21:00:02\n",
       "           ...   \n",
       "79998    14:59:58\n",
       "79999    14:59:59\n",
       "80000    14:59:59\n",
       "80001    15:00:00\n",
       "80002    15:00:00\n",
       "Name: time, Length: 80003, dtype: object"
      ]
     },
     "execution_count": 19,
     "metadata": {},
     "output_type": "execute_result"
    }
   ],
   "source": [
    "data[\"time\"]"
   ]
  },
  {
   "cell_type": "code",
   "execution_count": 20,
   "metadata": {},
   "outputs": [
    {
     "data": {
      "text/plain": [
       "0        False\n",
       "1        False\n",
       "2        False\n",
       "3        False\n",
       "4        False\n",
       "         ...  \n",
       "79998    False\n",
       "79999    False\n",
       "80000    False\n",
       "80001    False\n",
       "80002    False\n",
       "Name: time, Length: 80003, dtype: bool"
      ]
     },
     "execution_count": 20,
     "metadata": {},
     "output_type": "execute_result"
    }
   ],
   "source": [
    "data[\"time\"]<\"03:00:00\""
   ]
  },
  {
   "cell_type": "code",
   "execution_count": 21,
   "metadata": {},
   "outputs": [
    {
     "data": {
      "text/plain": [
       "0        False\n",
       "1        False\n",
       "2        False\n",
       "3        False\n",
       "4        False\n",
       "         ...  \n",
       "79998     True\n",
       "79999     True\n",
       "80000     True\n",
       "80001     True\n",
       "80002     True\n",
       "Name: time, Length: 80003, dtype: bool"
      ]
     },
     "execution_count": 21,
     "metadata": {},
     "output_type": "execute_result"
    }
   ],
   "source": [
    " ((data[\"time\"] >=\"09:00:00\")& (data[\"time\"]<\"15:15:02\"))"
   ]
  },
  {
   "cell_type": "markdown",
   "metadata": {},
   "source": [
    "- specific a range of price"
   ]
  },
  {
   "cell_type": "code",
   "execution_count": 22,
   "metadata": {},
   "outputs": [
    {
     "data": {
      "text/plain": [
       "(array([17094, 17095, 17096, ..., 58469, 58470, 58471]),)"
      ]
     },
     "execution_count": 22,
     "metadata": {},
     "output_type": "execute_result"
    }
   ],
   "source": [
    "np.where(data[\"good\"])"
   ]
  },
  {
   "cell_type": "code",
   "execution_count": 23,
   "metadata": {},
   "outputs": [
    {
     "data": {
      "text/plain": [
       "17094    09:00:00\n",
       "17095    09:00:01\n",
       "17096    09:00:01\n",
       "17097    09:00:02\n",
       "17098    09:00:02\n",
       "           ...   \n",
       "58467    00:59:58\n",
       "58468    00:59:58\n",
       "58469    00:59:59\n",
       "58470    01:00:00\n",
       "58471    01:00:00\n",
       "Name: time, Length: 41378, dtype: object"
      ]
     },
     "execution_count": 23,
     "metadata": {},
     "output_type": "execute_result"
    }
   ],
   "source": [
    "data[\"time\"][data[\"good\"]]"
   ]
  },
  {
   "cell_type": "code",
   "execution_count": 24,
   "metadata": {},
   "outputs": [],
   "source": [
    "range_ = data[\"good\"]"
   ]
  },
  {
   "cell_type": "code",
   "execution_count": 25,
   "metadata": {},
   "outputs": [
    {
     "data": {
      "image/png": "[encoded data removed]",
      "text/plain": [
       "<Figure size 1152x720 with 1 Axes>"
      ]
     },
     "metadata": {
      "needs_background": "light"
     },
     "output_type": "display_data"
    }
   ],
   "source": [
    "plt.figure(1, figsize=(16, 10))\n",
    "plt.title(date)\n",
    "plt.plot(data[\"price\"][range_].values);"
   ]
  },
  {
   "cell_type": "markdown",
   "metadata": {},
   "source": [
    "- add time"
   ]
  },
  {
   "cell_type": "markdown",
   "metadata": {},
   "source": [
    "- plot price change"
   ]
  },
  {
   "cell_type": "code",
   "execution_count": 26,
   "metadata": {},
   "outputs": [
    {
     "data": {
      "image/png": "[encoded data removed]",
      "text/plain": [
       "<Figure size 1152x720 with 1 Axes>"
      ]
     },
     "metadata": {
      "needs_background": "light"
     },
     "output_type": "display_data"
    }
   ],
   "source": [
    "plt.figure(1, figsize=(16, 10))\n",
    "plt.title(date)\n",
    "data[\"wpr.ret\"].values[0]=0\n",
    "plt.plot(data[\"wpr.ret\"].values);"
   ]
  },
  {
   "cell_type": "markdown",
   "metadata": {},
   "source": [
    "- plot price log return"
   ]
  },
  {
   "cell_type": "code",
   "execution_count": 27,
   "metadata": {},
   "outputs": [
    {
     "data": {
      "image/png": "[encoded data removed]",
      "text/plain": [
       "<Figure size 1152x720 with 1 Axes>"
      ]
     },
     "metadata": {
      "needs_background": "light"
     },
     "output_type": "display_data"
    }
   ],
   "source": [
    "plt.figure(1, figsize=(16, 10))\n",
    "plt.title(date)\n",
    "plt.plot(data[\"ret\"].values);"
   ]
  },
  {
   "cell_type": "markdown",
   "metadata": {},
   "source": [
    "- count the number of rising ticks"
   ]
  },
  {
   "cell_type": "code",
   "execution_count": 28,
   "metadata": {},
   "outputs": [
    {
     "data": {
      "text/plain": [
       "0.4230591352824269"
      ]
     },
     "execution_count": 28,
     "metadata": {},
     "output_type": "execute_result"
    }
   ],
   "source": [
    "sum(data['ret']>0)/len(data)\n",
    "## 0.4230591352824269"
   ]
  },
  {
   "cell_type": "markdown",
   "metadata": {},
   "source": [
    "- count the number of falling ticks"
   ]
  },
  {
   "cell_type": "code",
   "execution_count": 29,
   "metadata": {},
   "outputs": [
    {
     "data": {
      "text/plain": [
       "0.4089721635438671"
      ]
     },
     "execution_count": 29,
     "metadata": {},
     "output_type": "execute_result"
    }
   ],
   "source": [
    "sum(data['ret']<0)/len(data)\n",
    "## 0.4089721635438671"
   ]
  },
  {
   "cell_type": "code",
   "execution_count": 30,
   "metadata": {},
   "outputs": [
    {
     "data": {
      "text/plain": [
       "0.167968701173706"
      ]
     },
     "execution_count": 30,
     "metadata": {},
     "output_type": "execute_result"
    }
   ],
   "source": [
    "sum(data['ret']==0)/len(data)\n",
    "## 0.167968701173706"
   ]
  },
  {
   "cell_type": "markdown",
   "metadata": {},
   "source": [
    "- count the number of total ticks"
   ]
  },
  {
   "cell_type": "code",
   "execution_count": 31,
   "metadata": {},
   "outputs": [
    {
     "data": {
      "text/plain": [
       "80003"
      ]
     },
     "execution_count": 31,
     "metadata": {},
     "output_type": "execute_result"
    }
   ],
   "source": [
    "len(data)\n",
    "## 80003"
   ]
  },
  {
   "cell_type": "markdown",
   "metadata": {},
   "source": [
    "- formula to calculate wpr:"
   ]
  },
  {
   "cell_type": "code",
   "execution_count": 32,
   "metadata": {},
   "outputs": [],
   "source": [
    "wpr = (data[\"bid\"]*data[\"ask.qty\"]+data[\"ask\"]*data[\"bid.qty\"])/(data[\"bid.qty\"]+data[\"ask.qty\"])"
   ]
  },
  {
   "cell_type": "markdown",
   "metadata": {},
   "source": [
    "- upper limit or lower limit"
   ]
  },
  {
   "cell_type": "code",
   "execution_count": 33,
   "metadata": {},
   "outputs": [],
   "source": [
    "limit = (data[\"ask.qty\"]==0) | (data[\"bid.qty\"]==0)"
   ]
  },
  {
   "cell_type": "markdown",
   "metadata": {},
   "source": [
    "- in this case, one of bid and ask price is zero, so using newest price as wpr"
   ]
  },
  {
   "cell_type": "code",
   "execution_count": 34,
   "metadata": {},
   "outputs": [],
   "source": [
    "wpr[limit] = data[\"price\"][limit]"
   ]
  },
  {
   "cell_type": "code",
   "execution_count": 35,
   "metadata": {},
   "outputs": [
    {
     "data": {
      "text/plain": [
       "0    51395.000000\n",
       "1    51380.769231\n",
       "2    51410.952381\n",
       "3    51404.166667\n",
       "4    51418.461538\n",
       "dtype: float64"
      ]
     },
     "execution_count": 35,
     "metadata": {},
     "output_type": "execute_result"
    }
   ],
   "source": [
    "wpr.head()\n",
    "\n",
    "# 0    51395.000000\n",
    "# 1    51380.769231\n",
    "# 2    51410.952381\n",
    "# 3    51404.166667\n",
    "# 4    51418.461538\n",
    "# dtype: float64"
   ]
  },
  {
   "cell_type": "code",
   "execution_count": 36,
   "metadata": {
    "scrolled": true
   },
   "outputs": [
    {
     "data": {
      "text/plain": [
       "0    51395.000000\n",
       "1    51380.769231\n",
       "2    51410.952381\n",
       "3    51404.166667\n",
       "4    51418.461538\n",
       "Name: wpr, dtype: float64"
      ]
     },
     "execution_count": 36,
     "metadata": {},
     "output_type": "execute_result"
    }
   ],
   "source": [
    "data[\"wpr\"].head()\n",
    "\n",
    "# 0    51395.000000\n",
    "# 1    51380.769231\n",
    "# 2    51410.952381\n",
    "# 3    51404.166667\n",
    "# 4    51418.461538\n",
    "# Name: wpr, dtype: float64"
   ]
  },
  {
   "cell_type": "code",
   "execution_count": 37,
   "metadata": {},
   "outputs": [
    {
     "data": {
      "text/plain": [
       "0"
      ]
     },
     "execution_count": 37,
     "metadata": {},
     "output_type": "execute_result"
    }
   ],
   "source": [
    "sum(abs(wpr - data[\"wpr\"]) > 0.00000001)\n",
    "## 0"
   ]
  },
  {
   "cell_type": "markdown",
   "metadata": {},
   "source": [
    "- stationary test for return series"
   ]
  },
  {
   "cell_type": "markdown",
   "metadata": {},
   "source": [
    "- load related package"
   ]
  },
  {
   "cell_type": "code",
   "execution_count": 40,
   "metadata": {},
   "outputs": [],
   "source": [
    "import statsmodels.tsa.stattools as ts"
   ]
  },
  {
   "cell_type": "code",
   "execution_count": 41,
   "metadata": {},
   "outputs": [
    {
     "data": {
      "text/plain": [
       "(-35.502140122077535,\n",
       " 0.0,\n",
       " 34,\n",
       " 41343,\n",
       " {'1%': -3.9589889920347305,\n",
       "  '5%': -3.4105961998062146,\n",
       "  '10%': -3.127112542509024})"
      ]
     },
     "execution_count": 41,
     "metadata": {},
     "output_type": "execute_result"
    }
   ],
   "source": [
    "result = ts.adfuller(data[\"ret\"][data[\"good\"]], maxlag=int(pow(len(data[\"ret\"][data[\"good\"]])-1,(1/3))), regression='ct', autolag=None)\n",
    "result\n",
    "\n",
    "# (-35.50214004892649,\n",
    "#  0.0,\n",
    "#  34,\n",
    "#  41343,\n",
    "#  {'1%': -3.9589889920347305,\n",
    "#   '5%': -3.4105961998062146,\n",
    "#   '10%': -3.127112542509024})\n",
    "\n",
    "## for this test the smaller the value the more stationary it is\n",
    "## so it's stationary"
   ]
  },
  {
   "cell_type": "code",
   "execution_count": 42,
   "metadata": {},
   "outputs": [
    {
     "name": "stderr",
     "output_type": "stream",
     "text": [
      "/home/jackie/anaconda3/envs/rbsys/lib/python3.8/site-packages/statsmodels/tsa/stattools.py:2015: InterpolationWarning: The test statistic is outside of the range of p-values available in the\n",
      "look-up table. The actual p-value is greater than the p-value returned.\n",
      "\n",
      "  warnings.warn(\n"
     ]
    },
    {
     "data": {
      "text/plain": [
       "(0.07973469311110482,\n",
       " 0.1,\n",
       " 46,\n",
       " {'10%': 0.347, '5%': 0.463, '2.5%': 0.574, '1%': 0.739})"
      ]
     },
     "execution_count": 42,
     "metadata": {},
     "output_type": "execute_result"
    }
   ],
   "source": [
    "result = ts.kpss(data[\"ret\"][data[\"good\"]], regression='c', nlags=int(3*math.sqrt(len(data[\"ret\"][data[\"good\"]]))/13))\n",
    "result\n",
    "\n",
    "# (0.07973469311110484,\n",
    "#  0.1,\n",
    "#  46,\n",
    "#  {'10%': 0.347, '5%': 0.463, '2.5%': 0.574, '1%': 0.739})\n",
    "\n",
    "    ## for KPSS test, small value means level stationary, large value means trend\n",
    "    ## its p-value is 0.1 so it's stationary"
   ]
  },
  {
   "cell_type": "markdown",
   "metadata": {},
   "source": [
    "- get price movements of 120 ticks, it's about 1 minute"
   ]
  },
  {
   "cell_type": "code",
   "execution_count": 43,
   "metadata": {},
   "outputs": [],
   "source": [
    "ret_120 = (data[\"ret\"].rolling(120).sum()).dropna().reset_index(drop=True)"
   ]
  },
  {
   "cell_type": "markdown",
   "metadata": {},
   "source": [
    "- check correctness"
   ]
  },
  {
   "cell_type": "code",
   "execution_count": 44,
   "metadata": {},
   "outputs": [
    {
     "data": {
      "text/plain": [
       "0.00569024841933974"
      ]
     },
     "execution_count": 44,
     "metadata": {},
     "output_type": "execute_result"
    }
   ],
   "source": [
    "sum(data[\"ret\"][0:120])\n",
    "## 0.00569024841933974"
   ]
  },
  {
   "cell_type": "code",
   "execution_count": 45,
   "metadata": {},
   "outputs": [
    {
     "data": {
      "text/plain": [
       "0.0056902484193397385"
      ]
     },
     "execution_count": 45,
     "metadata": {},
     "output_type": "execute_result"
    }
   ],
   "source": [
    "ret_120.iloc[0]\n",
    "## 0.00569024841933974"
   ]
  },
  {
   "cell_type": "markdown",
   "metadata": {},
   "source": [
    "- plot the price movements of 120 ticks"
   ]
  },
  {
   "cell_type": "code",
   "execution_count": 46,
   "metadata": {},
   "outputs": [
    {
     "data": {
      "image/png": "[encoded data removed]",
      "text/plain": [
       "<Figure size 1152x720 with 1 Axes>"
      ]
     },
     "metadata": {
      "needs_background": "light"
     },
     "output_type": "display_data"
    }
   ],
   "source": [
    "plt.figure(1, figsize=(16, 10))\n",
    "plt.title(date)\n",
    "plt.plot(ret_120.values);"
   ]
  },
  {
   "cell_type": "code",
   "execution_count": 47,
   "metadata": {},
   "outputs": [
    {
     "data": {
      "text/plain": [
       "79884"
      ]
     },
     "execution_count": 47,
     "metadata": {},
     "output_type": "execute_result"
    }
   ],
   "source": [
    "len(ret_120)\n",
    "## 79884"
   ]
  },
  {
   "cell_type": "code",
   "execution_count": 48,
   "metadata": {},
   "outputs": [
    {
     "data": {
      "text/plain": [
       "80003"
      ]
     },
     "execution_count": 48,
     "metadata": {},
     "output_type": "execute_result"
    }
   ],
   "source": [
    "len(data)\n",
    "## 80003"
   ]
  },
  {
   "cell_type": "code",
   "execution_count": 49,
   "metadata": {},
   "outputs": [],
   "source": [
    "range_120 = ((np.mod(np.arange(0, len(data)),120)==0) & data[\"good\"])[119:]"
   ]
  },
  {
   "cell_type": "code",
   "execution_count": 50,
   "metadata": {},
   "outputs": [
    {
     "data": {
      "text/plain": [
       "79884"
      ]
     },
     "execution_count": 50,
     "metadata": {},
     "output_type": "execute_result"
    }
   ],
   "source": [
    "len(ret_120)\n",
    "## 79884"
   ]
  },
  {
   "cell_type": "code",
   "execution_count": 51,
   "metadata": {},
   "outputs": [
    {
     "data": {
      "text/plain": [
       "17041   -0.000834\n",
       "17161    0.000491\n",
       "17281    0.001106\n",
       "17401   -0.000058\n",
       "17521    0.000122\n",
       "           ...   \n",
       "57841   -0.000129\n",
       "57961   -0.000125\n",
       "58081   -0.000139\n",
       "58201   -0.000009\n",
       "58321   -0.000570\n",
       "Name: ret, Length: 345, dtype: float64"
      ]
     },
     "execution_count": 51,
     "metadata": {},
     "output_type": "execute_result"
    }
   ],
   "source": [
    "ret_120.iloc[np.where(range_120)]\n",
    "\n",
    "# 17041   -0.000834\n",
    "# 17161    0.000491\n",
    "# 17281    0.001106\n",
    "# 17401   -0.000058\n",
    "# 17521    0.000122\n",
    "#            ...   \n",
    "# 57841   -0.000129\n",
    "# 57961   -0.000125\n",
    "# 58081   -0.000139\n",
    "# 58201   -0.000009\n",
    "# 58321   -0.000570\n",
    "# Name: ret, Length: 345, dtype: float64"
   ]
  },
  {
   "cell_type": "markdown",
   "metadata": {},
   "source": [
    "- test whether ret.120 is stationary"
   ]
  },
  {
   "cell_type": "code",
   "execution_count": 52,
   "metadata": {},
   "outputs": [
    {
     "data": {
      "text/plain": [
       "(-6.200602635942935,\n",
       " 8.24097422165303e-07,\n",
       " 7,\n",
       " 337,\n",
       " {'1%': -3.9858876182413634,\n",
       "  '5%': -3.423598642683739,\n",
       "  '10%': -3.134757548798489})"
      ]
     },
     "execution_count": 52,
     "metadata": {},
     "output_type": "execute_result"
    }
   ],
   "source": [
    "result = ts.adfuller(ret_120.iloc[np.where(range_120)], maxlag=int(pow(len(ret_120.iloc[np.where(range_120)])-1,(1/3))), regression='ct', autolag=None)\n",
    "result\n",
    "\n",
    "# (-6.200602635837628,\n",
    "#  8.240974225935623e-07,\n",
    "#  7,\n",
    "#  337,\n",
    "#  {'1%': -3.9858876182413634,\n",
    "#   '5%': -3.423598642683739,\n",
    "#   '10%': -3.134757548798489})"
   ]
  },
  {
   "cell_type": "code",
   "execution_count": 53,
   "metadata": {},
   "outputs": [
    {
     "name": "stderr",
     "output_type": "stream",
     "text": [
      "/home/jackie/anaconda3/envs/rbsys/lib/python3.8/site-packages/statsmodels/tsa/stattools.py:2015: InterpolationWarning: The test statistic is outside of the range of p-values available in the\n",
      "look-up table. The actual p-value is greater than the p-value returned.\n",
      "\n",
      "  warnings.warn(\n"
     ]
    },
    {
     "data": {
      "text/plain": [
       "(0.08701611919331524,\n",
       " 0.1,\n",
       " 4,\n",
       " {'10%': 0.347, '5%': 0.463, '2.5%': 0.574, '1%': 0.739})"
      ]
     },
     "execution_count": 53,
     "metadata": {},
     "output_type": "execute_result"
    }
   ],
   "source": [
    "result = ts.kpss(ret_120.iloc[np.where(range_120)], regression='c', nlags=int(3*math.sqrt(len(ret_120.iloc[np.where(range_120)]))/13))\n",
    "result\n",
    "\n",
    "# (0.08701611919330896,\n",
    "#  0.1,\n",
    "#  4,\n",
    "#  {'10%': 0.347, '5%': 0.463, '2.5%': 0.574, '1%': 0.739})\n",
    "\n",
    "## it's still stationary"
   ]
  },
  {
   "cell_type": "markdown",
   "metadata": {},
   "source": [
    "- we can check longer period"
   ]
  },
  {
   "cell_type": "code",
   "execution_count": 54,
   "metadata": {},
   "outputs": [],
   "source": [
    "ret_2000 = (data[\"ret\"].rolling(2000).sum()).dropna().reset_index(drop=True)"
   ]
  },
  {
   "cell_type": "markdown",
   "metadata": {},
   "source": [
    "- plot the price change"
   ]
  },
  {
   "cell_type": "code",
   "execution_count": 55,
   "metadata": {},
   "outputs": [
    {
     "data": {
      "image/png": "[encoded data removed]",
      "text/plain": [
       "<Figure size 1152x720 with 1 Axes>"
      ]
     },
     "metadata": {
      "needs_background": "light"
     },
     "output_type": "display_data"
    }
   ],
   "source": [
    "plt.figure(1, figsize=(16, 10))\n",
    "plt.title(date)\n",
    "plt.plot(ret_2000.values);"
   ]
  },
  {
   "cell_type": "code",
   "execution_count": 56,
   "metadata": {},
   "outputs": [
    {
     "data": {
      "text/plain": [
       "21"
      ]
     },
     "execution_count": 56,
     "metadata": {},
     "output_type": "execute_result"
    }
   ],
   "source": [
    "sum((np.mod(np.arange(1, len(data)+1),2000)==0) & (data[\"good\"]))\n",
    "## 21"
   ]
  },
  {
   "cell_type": "markdown",
   "metadata": {},
   "source": [
    "- So there are too few points to test for stationary"
   ]
  },
  {
   "cell_type": "code",
   "execution_count": 57,
   "metadata": {},
   "outputs": [],
   "source": [
    "import pandas as pd\n",
    "import _pickle as cPickle\n",
    "import gzip"
   ]
  },
  {
   "cell_type": "code",
   "execution_count": 58,
   "metadata": {},
   "outputs": [],
   "source": [
    "def load(path):\n",
    "    with gzip.open(path, 'rb', compresslevel=1) as file_object:\n",
    "        raw_data = file_object.read()\n",
    "    return cPickle.loads(raw_data)"
   ]
  },
  {
   "cell_type": "markdown",
   "metadata": {},
   "source": [
    "- there may be too few data\n",
    "- we can check for more days"
   ]
  },
  {
   "cell_type": "code",
   "execution_count": 59,
   "metadata": {},
   "outputs": [],
   "source": [
    "def get_sample_ret(date, period):\n",
    "    data = load(DATA_PATH + product+\"/\"+date)\n",
    "    ret = (data[\"ret\"].rolling(period).sum()).dropna().reset_index(drop=True)\n",
    "    range = ((np.mod(np.arange(0, len(data)),period)==0) & data[\"good\"])[(period-1):]\n",
    "    return ret.iloc[np.where(range)]\n"
   ]
  },
  {
   "cell_type": "code",
   "execution_count": 61,
   "metadata": {},
   "outputs": [],
   "source": [
    "import functools\n",
    "import dask\n",
    "from dask import compute, delayed\n",
    "def parLapply(CORE_NUM, iterable, func, *args, **kwargs):\n",
    "    with dask.config.set(scheduler='processes', num_workers=CORE_NUM):\n",
    "        f_par = functools.partial(func, *args, **kwargs)\n",
    "        result = compute([delayed(f_par)(item) for item in iterable])[0]\n",
    "    return result"
   ]
  },
  {
   "cell_type": "code",
   "execution_count": 62,
   "metadata": {},
   "outputs": [
    {
     "name": "stdout",
     "output_type": "stream",
     "text": [
      "CPU times: user 1.7 s, sys: 146 ms, total: 1.84 s\n",
      "Wall time: 12.2 s\n"
     ]
    },
    {
     "data": {
      "text/plain": [
       "''"
      ]
     },
     "execution_count": 62,
     "metadata": {},
     "output_type": "execute_result"
    }
   ],
   "source": [
    "%%time\n",
    "result = parLapply(CORE_NUM, all_dates, get_sample_ret, period=4096)\n",
    ";\n",
    "\n",
    "# Wall time: 1min 32s"
   ]
  },
  {
   "cell_type": "code",
   "execution_count": 63,
   "metadata": {},
   "outputs": [],
   "source": [
    "from itertools import chain "
   ]
  },
  {
   "cell_type": "code",
   "execution_count": 64,
   "metadata": {},
   "outputs": [],
   "source": [
    "ret_long = list(chain.from_iterable(result)) "
   ]
  },
  {
   "cell_type": "code",
   "execution_count": 65,
   "metadata": {},
   "outputs": [
    {
     "data": {
      "image/png": "[encoded data removed]",
      "text/plain": [
       "<Figure size 1152x720 with 1 Axes>"
      ]
     },
     "metadata": {
      "needs_background": "light"
     },
     "output_type": "display_data"
    }
   ],
   "source": [
    "plt.figure(1, figsize=(16, 10))\n",
    "plt.title(\"all return_long\")\n",
    "plt.plot(ret_long);"
   ]
  },
  {
   "cell_type": "code",
   "execution_count": 66,
   "metadata": {},
   "outputs": [
    {
     "data": {
      "text/plain": [
       "(-19.928278622567653,\n",
       " 0.0,\n",
       " 20,\n",
       " 8910,\n",
       " {'1%': -3.9597864188846525,\n",
       "  '5%': -3.410982863604148,\n",
       "  '10%': -3.127340240269156})"
      ]
     },
     "execution_count": 66,
     "metadata": {},
     "output_type": "execute_result"
    }
   ],
   "source": [
    "result = ts.adfuller(ret_long, maxlag=int(pow(len(ret_long)-1,(1/3))), regression='ct', autolag=None)\n",
    "result\n",
    "\n",
    "# (-19.928278621936204,\n",
    "#  0.0,\n",
    "#  20,\n",
    "#  8910,\n",
    "#  {'1%': -3.9597864188846525,\n",
    "#   '5%': -3.410982863604148,\n",
    "#   '10%': -3.127340240269156})\n",
    "\n",
    "# ## it's still stationary"
   ]
  },
  {
   "cell_type": "code",
   "execution_count": 67,
   "metadata": {},
   "outputs": [
    {
     "name": "stderr",
     "output_type": "stream",
     "text": [
      "/home/jackie/anaconda3/envs/rbsys/lib/python3.8/site-packages/statsmodels/tsa/stattools.py:2015: InterpolationWarning: The test statistic is outside of the range of p-values available in the\n",
      "look-up table. The actual p-value is greater than the p-value returned.\n",
      "\n",
      "  warnings.warn(\n"
     ]
    },
    {
     "data": {
      "text/plain": [
       "(0.18684229755043374,\n",
       " 0.1,\n",
       " 21,\n",
       " {'10%': 0.347, '5%': 0.463, '2.5%': 0.574, '1%': 0.739})"
      ]
     },
     "execution_count": 67,
     "metadata": {},
     "output_type": "execute_result"
    }
   ],
   "source": [
    "result = ts.kpss(ret_long, regression='c', nlags=int(3*math.sqrt(len(ret_long))/13))\n",
    "result\n",
    "\n",
    "# (0.18684229755043372,\n",
    "#  0.1,\n",
    "#  21,\n",
    "#  {'10%': 0.347, '5%': 0.463, '2.5%': 0.574, '1%': 0.739})\n",
    "\n",
    "# ## p-value is 0.1 so it's stationary"
   ]
  },
  {
   "cell_type": "markdown",
   "metadata": {},
   "source": [
    "- we can see that, it's still stationary for 4096 ticks\n",
    "\n",
    "\n",
    "- check simple strategy\n",
    "\n",
    "\n",
    "- set triger threshold"
   ]
  },
  {
   "cell_type": "code",
   "execution_count": 68,
   "metadata": {},
   "outputs": [
    {
     "data": {
      "text/plain": [
       "8931"
      ]
     },
     "execution_count": 68,
     "metadata": {},
     "output_type": "execute_result"
    }
   ],
   "source": [
    "threshold = 0.001\n",
    "len(ret_long)\n",
    "# 8931"
   ]
  },
  {
   "cell_type": "markdown",
   "metadata": {},
   "source": [
    "\n",
    "- make up the return series to match uo with original data"
   ]
  },
  {
   "cell_type": "markdown",
   "metadata": {},
   "source": [
    "- plot price series"
   ]
  },
  {
   "cell_type": "markdown",
   "metadata": {},
   "source": [
    "- number of ticks above the threshold, to be long position"
   ]
  },
  {
   "cell_type": "code",
   "execution_count": 69,
   "metadata": {},
   "outputs": [
    {
     "data": {
      "text/plain": [
       "3096"
      ]
     },
     "execution_count": 69,
     "metadata": {},
     "output_type": "execute_result"
    }
   ],
   "source": [
    "sum(np.array(ret_long)>threshold)\n",
    "## 3096"
   ]
  },
  {
   "cell_type": "markdown",
   "metadata": {},
   "source": [
    "- number of ticks below negetive threshold, to be short position"
   ]
  },
  {
   "cell_type": "code",
   "execution_count": 70,
   "metadata": {},
   "outputs": [
    {
     "data": {
      "text/plain": [
       "2921"
      ]
     },
     "execution_count": 70,
     "metadata": {},
     "output_type": "execute_result"
    }
   ],
   "source": [
    "sum(np.array(ret_long)< -threshold)\n",
    "## 2921"
   ]
  },
  {
   "cell_type": "markdown",
   "metadata": {},
   "source": [
    "- set position\n",
    "\n",
    "\n",
    "- number of ticks"
   ]
  },
  {
   "cell_type": "markdown",
   "metadata": {},
   "source": [
    "## ############## The following part is bad example of trading ##########"
   ]
  },
  {
   "cell_type": "markdown",
   "metadata": {},
   "source": [
    "- set position just the sanme as signal"
   ]
  },
  {
   "cell_type": "code",
   "execution_count": 71,
   "metadata": {},
   "outputs": [],
   "source": [
    "## backtest method: signal value decides position\n",
    "from collections import OrderedDict\n",
    "def get_daily_pnl_fast(date, product=\"rb\", period=4096, tranct_ratio=False, threshold=0.001, tranct=0.21, noise=0):\n",
    "    with gzip.open(dire+\"/\"+date, 'rb', compresslevel=1) as file_object:\n",
    "        raw_data = file_object.read()\n",
    "    ori_data = cPickle.loads(raw_data) ## original data\n",
    "    data=ori_data[ori_data[\"good\"]] ## the middle day of original data\n",
    "    n_bar = len(data)  ## number of bars\n",
    "    unit = np.std(data[\"ret\"]) ## standard deviation of return\n",
    "    np.random.seed(10)\n",
    "    ##  we repeat the above code to get daily result\n",
    "    ret_long = (data[\"ret\"].rolling(period).sum()).dropna().reset_index(drop=True) ## future return, used as signal\n",
    "    ret_long = ret_long.append(pd.Series([0]*(len(data)-len(ret_long)))).reset_index(drop=True)\n",
    "    signal = pd.Series([0] * n_bar)\n",
    "    signal[(ret_long>threshold) & (np.array(data[\"next.ask\"])>0)] = 1 ## signal>thre, position =1\n",
    "    signal[(ret_long< -threshold) & (np.array(data[\"next.bid\"])>0)] = -1 ## signal< -thre, position = -1\n",
    "    position=signal\n",
    "    position[0]=0\n",
    "    position[n_bar-1] = 0 ## close position before the end of day\n",
    "    position[n_bar-2] = 0\n",
    "    change_pos = position - position.shift(1)\n",
    "    change_pos[0] = 0\n",
    "    change_base = np.zeros(n_bar)\n",
    "    change_buy = np.array(change_pos>0)\n",
    "    change_sell = np.array(change_pos<0)\n",
    "    if (tranct_ratio):\n",
    "        change_base[change_buy] = data[\"next.ask\"][change_buy]*(1+tranct) ## buy price, use next ask, tranct cost use notional*ratio\n",
    "        change_base[change_sell] = data[\"next.bid\"][change_sell]*(1-tranct) ## sell price use next bid\n",
    "    else:\n",
    "        change_base[change_buy] = data[\"next.ask\"][change_buy]+tranct ## fix tranct cost per share\n",
    "        change_base[change_sell] = data[\"next.bid\"][change_sell]-tranct\n",
    "    final_pnl = -sum(change_base*change_pos) ## total pnl, there is a negative sign, because selling get money and buying pay money\n",
    "    turnover = sum(change_base*abs(change_pos))\n",
    "    num = sum((position!=0) & (change_pos!=0)) ## number of trades\n",
    "    hld_period = sum(position!=0)   ## holding period\n",
    "    ## finally we combine the statistics into a data frame\n",
    "    #result = pd.DataFrame({\"final.pnl\": final_pnl, \"turnover\": turnover, \"num\": num, \"hld.period\": hld_period}, index=[0])\n",
    "    #result = {\"date\": date, \"final.pnl\": final_pnl, \"turnover\": turnover, \"num\": num, \"hld.period\": hld_period}\n",
    "    result = OrderedDict([(\"date\", date), (\"final.pnl\", final_pnl), (\"turnover\", turnover), (\"num\", num), (\"hld.period\", hld_period)])\n",
    "    return result"
   ]
  },
  {
   "cell_type": "markdown",
   "metadata": {},
   "source": [
    "- we try one day as an example"
   ]
  },
  {
   "cell_type": "code",
   "execution_count": 72,
   "metadata": {},
   "outputs": [
    {
     "data": {
      "text/plain": [
       "OrderedDict([('date', '20170703.pkl'),\n",
       "             ('final.pnl', -1908.7881000004854),\n",
       "             ('turnover', 11261710.0737),\n",
       "             ('num', 119),\n",
       "             ('hld.period', 21545)])"
      ]
     },
     "execution_count": 72,
     "metadata": {},
     "output_type": "execute_result"
    }
   ],
   "source": [
    "import dask\n",
    "from dask import compute, delayed\n",
    "\n",
    "get_daily_pnl_fast(all_dates[0], product=\"cu\", period=4096, tranct_ratio=True, threshold=0.001, tranct=1.1e-4)\n",
    "\n",
    "# OrderedDict([('date', '20170703.pkl'),\n",
    "#              ('final.pnl', -1908.7881000004854),\n",
    "#              ('turnover', 11261710.0737),\n",
    "#              ('num', 119),\n",
    "#              ('hld.period', 21545)])"
   ]
  },
  {
   "cell_type": "markdown",
   "metadata": {},
   "source": [
    "- Then we use it for all days"
   ]
  },
  {
   "cell_type": "code",
   "execution_count": 73,
   "metadata": {},
   "outputs": [
    {
     "name": "stdout",
     "output_type": "stream",
     "text": [
      "CPU times: user 2.39 s, sys: 140 ms, total: 2.53 s\n",
      "Wall time: 14.9 s\n"
     ]
    }
   ],
   "source": [
    "%%time\n",
    "import functools\n",
    "with dask.config.set(scheduler='processes', num_workers=CORE_NUM):\n",
    "    f_par = functools.partial(get_daily_pnl_fast, product=\"cu\", period=4096, tranct_ratio=True, threshold=0.001, tranct=1.1e-4, noise=0)\n",
    "    result = compute([delayed(f_par)(date) for date in all_dates])[0]\n",
    "    \n",
    "# Wall time: 2min 10s"
   ]
  },
  {
   "cell_type": "markdown",
   "metadata": {},
   "source": [
    "- Now we can use a function to check its performance"
   ]
  },
  {
   "cell_type": "code",
   "execution_count": 74,
   "metadata": {},
   "outputs": [],
   "source": [
    "from collections import OrderedDict\n",
    "def get_performance(result, spread=1):\n",
    "    aa = pd.DataFrame(result)\n",
    "    aa.set_index(\"date\", inplace=True)\n",
    "    col_names = aa.columns\n",
    "    row_names = aa.index\n",
    "    stat = aa.values\n",
    "    stat = np.array(np.rec.fromrecords(aa.values))\n",
    "    np_names = aa.dtypes.index.tolist()\n",
    "    stat.dtype.names = tuple([name for name in np_names])\n",
    "    stat = pd.DataFrame(stat)\n",
    "    pnl = stat[\"final.pnl\"].cumsum()\n",
    "    date_str = [n[0:8] for n in row_names]\n",
    "    date_format = [pd.to_datetime(d) for d in date_str]\n",
    "    plt.figure(1, figsize=(16, 10))\n",
    "    plt.title(\"\")\n",
    "    plt.xlabel(\"date\")\n",
    "    plt.ylabel(\"pnl\")\n",
    "    plt.plot(date_format, pnl)\n",
    "    n_days = len(stat)\n",
    "    num = stat[\"num\"].mean()\n",
    "    if num==0:\n",
    "        return;\n",
    "    if (stat[\"final.pnl\"].std()==0):\n",
    "        sharpe = 0\n",
    "    else:\n",
    "        sharpe = stat[\"final.pnl\"].mean()/stat[\"final.pnl\"].std()*math.sqrt(250)\n",
    "    drawdown = max(pnl.cummax()-pnl)/pnl.iloc[-1]\n",
    "    mar = 1/drawdown\n",
    "    win_ratio = sum(stat[\"final.pnl\"]>0)/n_days\n",
    "   \n",
    "    avg_pnl = sum(stat[\"final.pnl\"])/sum(stat[\"num\"])/spread\n",
    "    hld_period = sum(stat[\"hld.period\"])/sum(stat[\"num\"])\n",
    "    return OrderedDict([(\"sharpe\", sharpe), (\"drawdown\", drawdown), (\"mar\", mar), (\"win.ratio\", win_ratio)\n",
    "                        , (\"num\", num), (\"avg.pnl\", avg_pnl), (\"hld.period\", hld_period)])"
   ]
  },
  {
   "cell_type": "code",
   "execution_count": 75,
   "metadata": {},
   "outputs": [
    {
     "data": {
      "text/html": [
       "<div>\n",
       "<style scoped>\n",
       "    .dataframe tbody tr th:only-of-type {\n",
       "        vertical-align: middle;\n",
       "    }\n",
       "\n",
       "    .dataframe tbody tr th {\n",
       "        vertical-align: top;\n",
       "    }\n",
       "\n",
       "    .dataframe thead th {\n",
       "        text-align: right;\n",
       "    }\n",
       "</style>\n",
       "<table border=\"1\" class=\"dataframe\">\n",
       "  <thead>\n",
       "    <tr style=\"text-align: right;\">\n",
       "      <th></th>\n",
       "      <th>sharpe</th>\n",
       "      <th>drawdown</th>\n",
       "      <th>mar</th>\n",
       "      <th>win.ratio</th>\n",
       "      <th>num</th>\n",
       "      <th>avg.pnl</th>\n",
       "      <th>hld.period</th>\n",
       "    </tr>\n",
       "  </thead>\n",
       "  <tbody>\n",
       "    <tr>\n",
       "      <th>0</th>\n",
       "      <td>-1.821352</td>\n",
       "      <td>-1.109242</td>\n",
       "      <td>-0.901517</td>\n",
       "      <td>0.149393</td>\n",
       "      <td>136.223156</td>\n",
       "      <td>-29.325422</td>\n",
       "      <td>148.463744</td>\n",
       "    </tr>\n",
       "  </tbody>\n",
       "</table>\n",
       "</div>"
      ],
      "text/plain": [
       "     sharpe  drawdown       mar  win.ratio         num    avg.pnl  hld.period\n",
       "0 -1.821352 -1.109242 -0.901517   0.149393  136.223156 -29.325422  148.463744"
      ]
     },
     "execution_count": 75,
     "metadata": {},
     "output_type": "execute_result"
    },
    {
     "data": {
      "image/png": "[encoded data removed]",
      "text/plain": [
       "<Figure size 1152x720 with 1 Axes>"
      ]
     },
     "metadata": {
      "needs_background": "light"
     },
     "output_type": "display_data"
    }
   ],
   "source": [
    "pd.DataFrame(get_performance(result, 1), index=[0])\n",
    "\n",
    "# sharpe \tdrawdown \tmar \twin.ratio \tnum \tavg.pnl \thld.period\n",
    "# 0 \t-1.821352 \t-1.109242 \t-0.901517 \t0.149393 \t136.223156 \t-29.325422 \t148.463744\n",
    "\n",
    "\n"
   ]
  },
  {
   "cell_type": "markdown",
   "metadata": {},
   "source": [
    "- we can see it's really bad\n",
    "- we can try increasing threshold"
   ]
  },
  {
   "cell_type": "code",
   "execution_count": 76,
   "metadata": {},
   "outputs": [
    {
     "name": "stdout",
     "output_type": "stream",
     "text": [
      "CPU times: user 2.41 s, sys: 123 ms, total: 2.53 s\n",
      "Wall time: 14.8 s\n"
     ]
    }
   ],
   "source": [
    "%%time\n",
    "import functools\n",
    "with dask.config.set(scheduler='processes', num_workers=CORE_NUM):\n",
    "    f_par = functools.partial(get_daily_pnl_fast, product=\"cu\", period=4096, tranct_ratio=True, threshold=0.01, tranct=1.1e-4, noise=0)\n",
    "    result_2 = compute([delayed(f_par)(date) for date in all_dates])[0]\n",
    "    \n",
    "## Wall time: 42.4 s\n"
   ]
  },
  {
   "cell_type": "code",
   "execution_count": 77,
   "metadata": {},
   "outputs": [
    {
     "data": {
      "text/html": [
       "<div>\n",
       "<style scoped>\n",
       "    .dataframe tbody tr th:only-of-type {\n",
       "        vertical-align: middle;\n",
       "    }\n",
       "\n",
       "    .dataframe tbody tr th {\n",
       "        vertical-align: top;\n",
       "    }\n",
       "\n",
       "    .dataframe thead th {\n",
       "        text-align: right;\n",
       "    }\n",
       "</style>\n",
       "<table border=\"1\" class=\"dataframe\">\n",
       "  <thead>\n",
       "    <tr style=\"text-align: right;\">\n",
       "      <th></th>\n",
       "      <th>sharpe</th>\n",
       "      <th>drawdown</th>\n",
       "      <th>mar</th>\n",
       "      <th>win.ratio</th>\n",
       "      <th>num</th>\n",
       "      <th>avg.pnl</th>\n",
       "      <th>hld.period</th>\n",
       "    </tr>\n",
       "  </thead>\n",
       "  <tbody>\n",
       "    <tr>\n",
       "      <th>0</th>\n",
       "      <td>-0.068428</td>\n",
       "      <td>-5.737118</td>\n",
       "      <td>-0.174304</td>\n",
       "      <td>0.058824</td>\n",
       "      <td>5.082166</td>\n",
       "      <td>-11.447947</td>\n",
       "      <td>86.491824</td>\n",
       "    </tr>\n",
       "  </tbody>\n",
       "</table>\n",
       "</div>"
      ],
      "text/plain": [
       "     sharpe  drawdown       mar  win.ratio       num    avg.pnl  hld.period\n",
       "0 -0.068428 -5.737118 -0.174304   0.058824  5.082166 -11.447947   86.491824"
      ]
     },
     "execution_count": 77,
     "metadata": {},
     "output_type": "execute_result"
    },
    {
     "data": {
      "image/png": "[encoded data removed]",
      "text/plain": [
       "<Figure size 1152x720 with 1 Axes>"
      ]
     },
     "metadata": {
      "needs_background": "light"
     },
     "output_type": "display_data"
    }
   ],
   "source": [
    "pd.DataFrame(get_performance(result_2), index=[0])\n",
    "\n",
    "#  \tsharpe \tdrawdown \tmar \twin.ratio \tnum \tavg.pnl \thld.period\n",
    "# 0 \t-0.068428 \t-5.737118 \t-0.174304 \t0.058824 \t5.082166 \t-11.447947 \t86.491824"
   ]
  },
  {
   "cell_type": "code",
   "execution_count": 78,
   "metadata": {},
   "outputs": [
    {
     "name": "stdout",
     "output_type": "stream",
     "text": [
      "CPU times: user 2.45 s, sys: 151 ms, total: 2.6 s\n",
      "Wall time: 14.9 s\n"
     ]
    }
   ],
   "source": [
    "%%time\n",
    "import functools\n",
    "with dask.config.set(scheduler='processes', num_workers=CORE_NUM):\n",
    "    f_par = functools.partial(get_daily_pnl_fast, product=\"cu\", period=4096, tranct_ratio=True, threshold=0.02, tranct=1.1e-4, noise=0)\n",
    "    result_3 = compute([delayed(f_par)(date) for date in all_dates])[0]\n",
    "    \n",
    "## Wall time: 40.5 s"
   ]
  },
  {
   "cell_type": "code",
   "execution_count": 79,
   "metadata": {},
   "outputs": [
    {
     "data": {
      "text/html": [
       "<div>\n",
       "<style scoped>\n",
       "    .dataframe tbody tr th:only-of-type {\n",
       "        vertical-align: middle;\n",
       "    }\n",
       "\n",
       "    .dataframe tbody tr th {\n",
       "        vertical-align: top;\n",
       "    }\n",
       "\n",
       "    .dataframe thead th {\n",
       "        text-align: right;\n",
       "    }\n",
       "</style>\n",
       "<table border=\"1\" class=\"dataframe\">\n",
       "  <thead>\n",
       "    <tr style=\"text-align: right;\">\n",
       "      <th></th>\n",
       "      <th>sharpe</th>\n",
       "      <th>drawdown</th>\n",
       "      <th>mar</th>\n",
       "      <th>win.ratio</th>\n",
       "      <th>num</th>\n",
       "      <th>avg.pnl</th>\n",
       "      <th>hld.period</th>\n",
       "    </tr>\n",
       "  </thead>\n",
       "  <tbody>\n",
       "    <tr>\n",
       "      <th>0</th>\n",
       "      <td>0.270429</td>\n",
       "      <td>1.032164</td>\n",
       "      <td>0.968838</td>\n",
       "      <td>0.005602</td>\n",
       "      <td>0.193277</td>\n",
       "      <td>347.617771</td>\n",
       "      <td>75.922705</td>\n",
       "    </tr>\n",
       "  </tbody>\n",
       "</table>\n",
       "</div>"
      ],
      "text/plain": [
       "     sharpe  drawdown       mar  win.ratio       num     avg.pnl  hld.period\n",
       "0  0.270429  1.032164  0.968838   0.005602  0.193277  347.617771   75.922705"
      ]
     },
     "execution_count": 79,
     "metadata": {},
     "output_type": "execute_result"
    },
    {
     "data": {
      "image/png": "[encoded data removed]",
      "text/plain": [
       "<Figure size 1152x720 with 1 Axes>"
      ]
     },
     "metadata": {
      "needs_background": "light"
     },
     "output_type": "display_data"
    }
   ],
   "source": [
    "pd.DataFrame(get_performance(result_3, 1), index=[0])\n",
    "\n",
    "# \tsharpe \tdrawdown \tmar \twin.ratio \tnum \tavg.pnl \thld.period\n",
    "# 0 \t0.270429 \t1.032164 \t0.968838 \t0.005602 \t0.193277 \t347.617771 \t75.922705"
   ]
  },
  {
   "cell_type": "markdown",
   "metadata": {},
   "source": [
    "- Although it's profitable there are very few trades.\n",
    "- Now we use a different scheme.\n",
    "- In previous scheme, we close our position when the value is not strong enough.\n",
    "- It may close the positions too soon that it cannot cover transaction cost on average\n",
    "- So we change our backtest method to make it holding positions longer"
   ]
  },
  {
   "cell_type": "code",
   "execution_count": 80,
   "metadata": {},
   "outputs": [],
   "source": [
    "## backtest use good method\n",
    "from collections import OrderedDict\n",
    "def get_daily_pnl(date, product=\"rb\", period=2000, tranct_ratio=False, threshold=0.001, tranct=1.1e-4, noise=0):\n",
    "    with gzip.open(dire+\"/\"+date, 'rb', compresslevel=1) as file_object:\n",
    "        raw_data = file_object.read()\n",
    "    data = cPickle.loads(raw_data)\n",
    "    data = data[data[\"good\"]].reset_index(drop=True)\n",
    "    n_bar = len(data)\n",
    "    unit = np.std(data[\"ret\"])\n",
    "    np.random.seed(10)\n",
    "    noise_ret = np.random.normal(scale=unit*noise, size=n_bar)\n",
    "    ##  we repeat the above code to get daily result\n",
    "    ret_2000 = (data[\"ret\"].rolling(period).sum()).dropna().reset_index(drop=True)\n",
    "    ret_2000 = ret_2000.append(pd.Series([0]*(len(data)-len(ret_2000)))).reset_index(drop=True) + noise_ret\n",
    "    signal = pd.Series([0] * n_bar)\n",
    "    signal[ret_2000>threshold] = 1 #\n",
    "    signal[ret_2000< -threshold] = -1\n",
    "    position_pos = pd.Series([np.nan] * n_bar)\n",
    "    position_pos[0] = 0\n",
    "    position_pos[(signal==1) & (data[\"next.ask\"]>0) & (data[\"next.bid\"]>0)] = 1## if signal==1, position_pos=1\n",
    "    position_pos[(ret_2000< -threshold) & (data[\"next.bid\"]>0)] = 0  ## if ret< -threshold, position_pos=0\n",
    "    position_pos.ffill(inplace=True)\n",
    "    position_neg = pd.Series([np.nan] * n_bar)\n",
    "    position_neg[0] = 0\n",
    "    position_neg[(signal==-1) & (data[\"next.ask\"]>0) & (data[\"next.bid\"]>0)] = -1 ## if signal==-1, position_neg=-1\n",
    "    position_neg[(ret_2000> threshold) & (data[\"next.ask\"]>0)] = 0 ## if ret> threshold, position_neg=0\n",
    "    position_neg.ffill(inplace=True)\n",
    "    position = position_pos + position_neg ## total position\n",
    "    position[0]=0\n",
    "    position[n_bar-1] = 0\n",
    "    position[n_bar-2] = 0\n",
    "    change_pos = position - position.shift(1)\n",
    "    change_pos[0] = 0\n",
    "    change_base = pd.Series([0] * n_bar)\n",
    "    change_buy = change_pos>0\n",
    "    change_sell = change_pos<0\n",
    "    if (tranct_ratio):\n",
    "        change_base[change_buy] = data[\"next.ask\"][change_buy]*(1+tranct)\n",
    "        change_base[change_sell] = data[\"next.bid\"][change_sell]*(1-tranct)\n",
    "    else:\n",
    "        change_base[change_buy] = data[\"next.ask\"][change_buy]+tranct\n",
    "        change_base[change_sell] = data[\"next.bid\"][change_sell]-tranct\n",
    "    final_pnl = -sum(change_base*change_pos)\n",
    "    turnover = sum(change_base*abs(change_pos))\n",
    "    num = sum((position!=0) & (change_pos!=0))\n",
    "    hld_period = sum(position!=0)\n",
    "  \n",
    "    ## finally we combine the statistics into a data frame\n",
    "    #result = pd.DataFrame({\"final.pnl\": final_pnl, \"turnover\": turnover, \"num\": num, \"hld.period\": hld_period}, index=[0])\n",
    "    #result = {\"date\": date, \"final.pnl\": final_pnl, \"turnover\": turnover, \"num\": num, \"hld.period\": hld_period}\n",
    "    result = OrderedDict([(\"date\", date), (\"final.pnl\", final_pnl), (\"turnover\", turnover), (\"num\", num), (\"hld.period\", hld_period)])\n",
    "    return result"
   ]
  },
  {
   "cell_type": "markdown",
   "metadata": {},
   "source": [
    "- we use the parallel libary here"
   ]
  },
  {
   "cell_type": "code",
   "execution_count": 81,
   "metadata": {
    "scrolled": true
   },
   "outputs": [
    {
     "name": "stdout",
     "output_type": "stream",
     "text": [
      "CPU times: user 2.19 s, sys: 125 ms, total: 2.32 s\n",
      "Wall time: 18.1 s\n"
     ]
    }
   ],
   "source": [
    "%%time\n",
    "import functools\n",
    "with dask.config.set(scheduler='processes', num_workers=CORE_NUM):\n",
    "    f_par = functools.partial(get_daily_pnl, product=\"cu\", period=4096, tranct_ratio=True, threshold=0.001, tranct=1.1e-4, noise=0)\n",
    "    result_4 = compute([delayed(f_par)(date) for date in all_dates])[0]\n",
    "    \n",
    "## Wall time: 49.8 s"
   ]
  },
  {
   "cell_type": "markdown",
   "metadata": {},
   "source": [
    "- the col names and row names are opposite"
   ]
  },
  {
   "cell_type": "code",
   "execution_count": 82,
   "metadata": {
    "scrolled": true
   },
   "outputs": [
    {
     "data": {
      "text/html": [
       "<div>\n",
       "<style scoped>\n",
       "    .dataframe tbody tr th:only-of-type {\n",
       "        vertical-align: middle;\n",
       "    }\n",
       "\n",
       "    .dataframe tbody tr th {\n",
       "        vertical-align: top;\n",
       "    }\n",
       "\n",
       "    .dataframe thead th {\n",
       "        text-align: right;\n",
       "    }\n",
       "</style>\n",
       "<table border=\"1\" class=\"dataframe\">\n",
       "  <thead>\n",
       "    <tr style=\"text-align: right;\">\n",
       "      <th></th>\n",
       "      <th>sharpe</th>\n",
       "      <th>drawdown</th>\n",
       "      <th>mar</th>\n",
       "      <th>win.ratio</th>\n",
       "      <th>num</th>\n",
       "      <th>avg.pnl</th>\n",
       "      <th>hld.period</th>\n",
       "    </tr>\n",
       "  </thead>\n",
       "  <tbody>\n",
       "    <tr>\n",
       "      <th>0</th>\n",
       "      <td>21.984712</td>\n",
       "      <td>0.00014</td>\n",
       "      <td>7135.673819</td>\n",
       "      <td>0.998133</td>\n",
       "      <td>8.730159</td>\n",
       "      <td>112.253078</td>\n",
       "      <td>3904.90738</td>\n",
       "    </tr>\n",
       "  </tbody>\n",
       "</table>\n",
       "</div>"
      ],
      "text/plain": [
       "      sharpe  drawdown          mar  win.ratio       num     avg.pnl  \\\n",
       "0  21.984712   0.00014  7135.673819   0.998133  8.730159  112.253078   \n",
       "\n",
       "   hld.period  \n",
       "0  3904.90738  "
      ]
     },
     "execution_count": 82,
     "metadata": {},
     "output_type": "execute_result"
    },
    {
     "data": {
      "image/png": "[encoded data removed]",
      "text/plain": [
       "<Figure size 1152x720 with 1 Axes>"
      ]
     },
     "metadata": {
      "needs_background": "light"
     },
     "output_type": "display_data"
    }
   ],
   "source": [
    "pd.DataFrame(get_performance(result_4,1), index=[0])\n",
    "\n",
    "#  \tsharpe \tdrawdown \tmar \twin.ratio \tnum \tavg.pnl \thld.period\n",
    "# 0 \t21.984712 \t0.00014 \t7135.673819 \t0.998133 \t8.730159 \t112.253078 \t3904.90738\n"
   ]
  },
  {
   "cell_type": "markdown",
   "metadata": {},
   "source": [
    "- we can see it's much better than before.\n",
    "- Keep in mind that it uses future data here so the result is not realistic\n",
    "- we just want to show that this scheme is much better than the previous one\n",
    "- and we would use this backtest method in the future course"
   ]
  },
  {
   "cell_type": "code",
   "execution_count": 83,
   "metadata": {},
   "outputs": [
    {
     "name": "stdout",
     "output_type": "stream",
     "text": [
      "CPU times: user 2.27 s, sys: 143 ms, total: 2.41 s\n",
      "Wall time: 18.1 s\n"
     ]
    }
   ],
   "source": [
    "%%time\n",
    "import functools\n",
    "with dask.config.set(scheduler='processes', num_workers=CORE_NUM):\n",
    "    f_par = functools.partial(get_daily_pnl, product=\"cu\", period=4096, tranct_ratio=True, threshold=0.002, tranct=1.1e-4, noise=5)\n",
    "    result_5 = compute([delayed(f_par)(date) for date in all_dates])[0]\n",
    "\n",
    "# Wall time: 50.8 s"
   ]
  },
  {
   "cell_type": "code",
   "execution_count": 84,
   "metadata": {
    "scrolled": true
   },
   "outputs": [
    {
     "data": {
      "text/html": [
       "<div>\n",
       "<style scoped>\n",
       "    .dataframe tbody tr th:only-of-type {\n",
       "        vertical-align: middle;\n",
       "    }\n",
       "\n",
       "    .dataframe tbody tr th {\n",
       "        vertical-align: top;\n",
       "    }\n",
       "\n",
       "    .dataframe thead th {\n",
       "        text-align: right;\n",
       "    }\n",
       "</style>\n",
       "<table border=\"1\" class=\"dataframe\">\n",
       "  <thead>\n",
       "    <tr style=\"text-align: right;\">\n",
       "      <th></th>\n",
       "      <th>sharpe</th>\n",
       "      <th>drawdown</th>\n",
       "      <th>mar</th>\n",
       "      <th>win.ratio</th>\n",
       "      <th>num</th>\n",
       "      <th>avg.pnl</th>\n",
       "      <th>hld.period</th>\n",
       "    </tr>\n",
       "  </thead>\n",
       "  <tbody>\n",
       "    <tr>\n",
       "      <th>0</th>\n",
       "      <td>7.379076</td>\n",
       "      <td>0.075132</td>\n",
       "      <td>13.309852</td>\n",
       "      <td>0.991597</td>\n",
       "      <td>11.35014</td>\n",
       "      <td>82.128554</td>\n",
       "      <td>2958.209691</td>\n",
       "    </tr>\n",
       "  </tbody>\n",
       "</table>\n",
       "</div>"
      ],
      "text/plain": [
       "     sharpe  drawdown        mar  win.ratio       num    avg.pnl   hld.period\n",
       "0  7.379076  0.075132  13.309852   0.991597  11.35014  82.128554  2958.209691"
      ]
     },
     "execution_count": 84,
     "metadata": {},
     "output_type": "execute_result"
    },
    {
     "data": {
      "image/png": "[encoded data removed]",
      "text/plain": [
       "<Figure size 1152x720 with 1 Axes>"
      ]
     },
     "metadata": {
      "needs_background": "light"
     },
     "output_type": "display_data"
    }
   ],
   "source": [
    "pd.DataFrame(get_performance(result_5,1), index=[0])\n",
    "\n",
    "# sharpe \tdrawdown \tmar \twin.ratio \tnum \tavg.pnl \thld.period\n",
    "# 0 \t7.379076 \t0.075132 \t13.309852 \t0.991597 \t11.35014 \t82.128554 \t2958.209691\n",
    "\n"
   ]
  },
  {
   "cell_type": "markdown",
   "metadata": {},
   "source": [
    "- Previous method use fix size to trade, \n",
    "- now we suppose fix notional value of each trade"
   ]
  },
  {
   "cell_type": "code",
   "execution_count": 85,
   "metadata": {},
   "outputs": [],
   "source": [
    "## daily pnl of fixed capital\n",
    "from collections import OrderedDict\n",
    "def get_daily_pnl(date, product=\"rb\", period=2000, tranct_ratio=False,threshold=0.001, tranct=1.1e-4, noise=0, notional=False):\n",
    "    with gzip.open(dire+\"/\"+date, 'rb', compresslevel=1) as file_object:\n",
    "        raw_data = file_object.read()\n",
    "    data = cPickle.loads(raw_data)\n",
    "    data = data[data[\"good\"]].reset_index(drop=True)\n",
    "    n_bar = len(data)\n",
    "    unit = np.std(data[\"ret\"])\n",
    "    np.random.seed(10)\n",
    "    noise_ret = np.random.normal(scale=unit*noise, size=n_bar)\n",
    "    ##  we repeat the above code to get daily result\n",
    "    ret_2000 = (data[\"ret\"].rolling(period).sum()).dropna().reset_index(drop=True)\n",
    "    ret_2000 = ret_2000.append(pd.Series([0]*(len(data)-len(ret_2000)))).reset_index(drop=True) + noise_ret\n",
    "    signal = pd.Series([0] * n_bar)\n",
    "    signal[ret_2000>threshold] = 1\n",
    "    signal[ret_2000< -threshold] = -1\n",
    "    position_pos = pd.Series([np.nan] * n_bar)\n",
    "    position_pos[0] = 0\n",
    "    position_pos[(signal==1) & (data[\"next.ask\"]>0) & (data[\"next.bid\"]>0)] = 1\n",
    "    position_pos[(ret_2000< -threshold) & (data[\"next.bid\"]>0)] = 0\n",
    "    position_pos.ffill(inplace=True)\n",
    "    pre_pos = position_pos.shift(1)\n",
    "    position_pos[(position_pos==1) & (pre_pos==1)] = np.nan ## holding positio rather than trade, change to nan\n",
    "    position_pos[(position_pos==1)] = 1/data[\"next.ask\"][(position_pos==1)] ## use 1/price as trading volume\n",
    "    position_pos.ffill(inplace=True) \n",
    "    position_neg = pd.Series([np.nan] * n_bar)\n",
    "    position_neg[0] = 0\n",
    "    position_neg[(signal==-1) & (data[\"next.ask\"]>0) & (data[\"next.bid\"]>0)] = -1\n",
    "    position_neg[(ret_2000> threshold) & (data[\"next.ask\"]>0)] = 0\n",
    "    position_neg.ffill(inplace=True)\n",
    "    pre_neg = position_neg.shift(1)\n",
    "    position_neg[(position_neg==-1) & (pre_neg==-1)] = np.nan  ## holding positio rather than trade, change to nan\n",
    "    position_neg[(position_neg==-1)] = -1/data[\"next.bid\"][(position_neg==-1)] ## use 1/price as trading volume\n",
    "    position_neg.ffill(inplace=True) ## replace nan by trading volume\n",
    "    position = position_pos + position_neg\n",
    "    position[0]=0\n",
    "    position[n_bar-1] = 0\n",
    "    position[n_bar-2] = 0\n",
    "    change_pos = position - position.shift(1)\n",
    "    change_pos[0] = 0\n",
    "    change_base = pd.Series([0] * n_bar)\n",
    "    change_buy = change_pos>0\n",
    "    change_sell = change_pos<0\n",
    "\n",
    "    if (tranct_ratio):\n",
    "        change_base[change_buy] = data[\"next.ask\"][change_buy]*(1+tranct)\n",
    "        change_base[change_sell] = data[\"next.bid\"][change_sell]*(1-tranct)\n",
    "    else:\n",
    "        change_base[change_buy] = data[\"next.ask\"][change_buy]+tranct\n",
    "        change_base[change_sell] = data[\"next.bid\"][change_sell]-tranct\n",
    "    final_pnl = -sum(change_base*change_pos)\n",
    "    turnover = sum(change_base*abs(change_pos))\n",
    "    num = sum((position!=0) & (change_pos!=0))\n",
    "    hld_period = sum(position!=0)\n",
    "  \n",
    "    ## finally we combine the statistics into a data frame\n",
    "    #result = pd.DataFrame({\"final.pnl\": final_pnl, \"turnover\": turnover, \"num\": num, \"hld.period\": hld_period}, index=[0])\n",
    "    #result = {\"date\": date, \"final.pnl\": final_pnl, \"turnover\": turnover, \"num\": num, \"hld.period\": hld_period}\n",
    "    result = OrderedDict([(\"date\", date), (\"final.pnl\", final_pnl), (\"turnover\", turnover), (\"num\", num), (\"hld.period\", hld_period)])\n",
    "    return result"
   ]
  },
  {
   "cell_type": "code",
   "execution_count": 86,
   "metadata": {},
   "outputs": [
    {
     "data": {
      "text/plain": [
       "OrderedDict([('date', '20170703.pkl'),\n",
       "             ('final.pnl', 0.005439628092068327),\n",
       "             ('turnover', 11.997468774189912),\n",
       "             ('num', 6),\n",
       "             ('hld.period', 33301)])"
      ]
     },
     "execution_count": 86,
     "metadata": {},
     "output_type": "execute_result"
    }
   ],
   "source": [
    "get_daily_pnl(all_dates[0], product=\"cu\", period=4096, tranct_ratio=True, threshold=0.001, tranct=1.1e-4, notional=True)\n",
    "\n",
    "# OrderedDict([('date', '20170703.pkl'),\n",
    "#              ('final.pnl', 0.005439628092068327),\n",
    "#              ('turnover', 11.997468774189912),\n",
    "#              ('num', 6),\n",
    "#              ('hld.period', 33301)])"
   ]
  },
  {
   "cell_type": "code",
   "execution_count": 87,
   "metadata": {},
   "outputs": [
    {
     "name": "stdout",
     "output_type": "stream",
     "text": [
      "CPU times: user 2.32 s, sys: 118 ms, total: 2.44 s\n",
      "Wall time: 18.7 s\n"
     ]
    }
   ],
   "source": [
    " %%time\n",
    "import functools\n",
    "with dask.config.set(scheduler='processes', num_workers=CORE_NUM):\n",
    "    f_par = functools.partial(get_daily_pnl, product=\"cu\", period=4096, tranct_ratio=True, \n",
    "                              threshold=0.001, tranct=1.1e-4, noise=0, notional=True)\n",
    "    result = compute([delayed(f_par)(date) for date in all_dates])[0]\n",
    "    \n",
    "# Wall time: 55.6 s"
   ]
  },
  {
   "cell_type": "code",
   "execution_count": 88,
   "metadata": {
    "scrolled": true
   },
   "outputs": [
    {
     "data": {
      "text/html": [
       "<div>\n",
       "<style scoped>\n",
       "    .dataframe tbody tr th:only-of-type {\n",
       "        vertical-align: middle;\n",
       "    }\n",
       "\n",
       "    .dataframe tbody tr th {\n",
       "        vertical-align: top;\n",
       "    }\n",
       "\n",
       "    .dataframe thead th {\n",
       "        text-align: right;\n",
       "    }\n",
       "</style>\n",
       "<table border=\"1\" class=\"dataframe\">\n",
       "  <thead>\n",
       "    <tr style=\"text-align: right;\">\n",
       "      <th></th>\n",
       "      <th>sharpe</th>\n",
       "      <th>drawdown</th>\n",
       "      <th>mar</th>\n",
       "      <th>win.ratio</th>\n",
       "      <th>num</th>\n",
       "      <th>avg.pnl</th>\n",
       "      <th>hld.period</th>\n",
       "    </tr>\n",
       "  </thead>\n",
       "  <tbody>\n",
       "    <tr>\n",
       "      <th>0</th>\n",
       "      <td>26.197689</td>\n",
       "      <td>0.000112</td>\n",
       "      <td>8968.268366</td>\n",
       "      <td>0.998133</td>\n",
       "      <td>8.730159</td>\n",
       "      <td>0.002028</td>\n",
       "      <td>3904.90738</td>\n",
       "    </tr>\n",
       "  </tbody>\n",
       "</table>\n",
       "</div>"
      ],
      "text/plain": [
       "      sharpe  drawdown          mar  win.ratio       num   avg.pnl  hld.period\n",
       "0  26.197689  0.000112  8968.268366   0.998133  8.730159  0.002028  3904.90738"
      ]
     },
     "execution_count": 88,
     "metadata": {},
     "output_type": "execute_result"
    },
    {
     "data": {
      "image/png": "[encoded data removed]",
      "text/plain": [
       "<Figure size 1152x720 with 1 Axes>"
      ]
     },
     "metadata": {
      "needs_background": "light"
     },
     "output_type": "display_data"
    }
   ],
   "source": [
    "pd.DataFrame(get_performance(result,1), index=[0])\n",
    "\n",
    "# sharpe \tdrawdown \tmar \twin.ratio \tnum \tavg.pnl \thld.period\n",
    "# 0 \t26.197689 \t0.000112 \t8968.268366 \t0.998133 \t8.730159 \t0.002028 \t3904.90738"
   ]
  },
  {
   "cell_type": "markdown",
   "metadata": {},
   "source": [
    "- After adding some noise, the result is worse than before but still pretty good\n",
    "- the later courses we would use this backtest method to test our signals and straregies without any future data\n",
    "- the reuslt would be much worse than the previous ones but they are realistic\n",
    "- Homework\n",
    "- You can try this method on other products and comapre their results"
   ]
  }
 ],
 "metadata": {
  "kernelspec": {
   "display_name": "rbsys",
   "language": "python",
   "name": "rbsys"
  },
  "language_info": {
   "codemirror_mode": {
    "name": "ipython",
    "version": 3
   },
   "file_extension": ".py",
   "mimetype": "text/x-python",
   "name": "python",
   "nbconvert_exporter": "python",
   "pygments_lexer": "ipython3",
   "version": "3.8.10"
  }
 },
 "nbformat": 4,
 "nbformat_minor": 2
}
