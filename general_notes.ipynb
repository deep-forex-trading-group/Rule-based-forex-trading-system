{
 "cells": [
  {
   "cell_type": "code",
   "execution_count": 38,
   "id": "42b10884",
   "metadata": {},
   "outputs": [
    {
     "name": "stdout",
     "output_type": "stream",
     "text": [
      "The autoreload extension is already loaded. To reload it, use:\n",
      "  %reload_ext autoreload\n"
     ]
    }
   ],
   "source": [
    "%load_ext autoreload\n",
    "%autoreload 2\n",
    "\n",
    "import pandas as pd\n",
    "import numpy as np\n",
    "from analysis_utils import *"
   ]
  },
  {
   "cell_type": "markdown",
   "id": "f427717c",
   "metadata": {},
   "source": [
    "Interpretation of log-returns"
   ]
  },
  {
   "cell_type": "code",
   "execution_count": 39,
   "id": "8ae39000",
   "metadata": {},
   "outputs": [
    {
     "name": "stdout",
     "output_type": "stream",
     "text": [
      "balance:  [100 150  75  75  75]\n",
      "ret:  [ 50 -75   0   0]\n",
      "ret_rate:  [ 0.5 -0.5  0.   0. ]\n",
      "log_ret:  [        nan  0.40546511 -0.69314718  0.          0.        ]\n"
     ]
    }
   ],
   "source": [
    "# interpretation of log-returns\n",
    "\n",
    "balance = pd.Series(np.array([100,150,75,75,75]))\n",
    "# ret = difference(balance)\n",
    "ret = np.diff(balance)\n",
    "ret_rate = difference_rate(balance)\n",
    "\n",
    "# Log Return = ln(Final Value) – ln(Initial value)\n",
    "# \n",
    "log_ret = np.array(np.log(balance/balance.shift(1)))\n",
    "\n",
    "\n",
    "print(\"balance: \", np.array(balance))\n",
    "print(\"ret: \", np.array(ret))\n",
    "print(\"ret_rate: \", np.array(ret_rate))\n",
    "print(\"log_ret: \", log_ret)"
   ]
  },
  {
   "cell_type": "markdown",
   "id": "00d2c6b7",
   "metadata": {},
   "source": [
    "Interpretation of log_diff and reverse procedure"
   ]
  },
  {
   "cell_type": "code",
   "execution_count": 40,
   "id": "4ea94373",
   "metadata": {},
   "outputs": [
    {
     "name": "stdout",
     "output_type": "stream",
     "text": [
      "[0.5488135  0.71518937 0.60276338 0.54488318 0.4236548  0.64589411\n",
      " 0.43758721 0.891773   0.96366276 0.38344152]\n"
     ]
    }
   ],
   "source": [
    "# 1. generate series\n",
    "np.random.seed(0)\n",
    "\n",
    "s = pd.Series(np.random.random(10))\n",
    "\n",
    "print(s.values)\n",
    "\n",
    "# [ 0.5488135   0.71518937  0.60276338  0.54488318  0.4236548   0.64589411\n",
    "#   0.43758721  0.891773    0.96366276  0.38344152]"
   ]
  },
  {
   "cell_type": "code",
   "execution_count": 41,
   "id": "4a7571b9",
   "metadata": {},
   "outputs": [
    {
     "data": {
      "text/plain": [
       "(10,)"
      ]
     },
     "execution_count": 41,
     "metadata": {},
     "output_type": "execute_result"
    }
   ],
   "source": [
    "# be carefully about append and prepend NAN to a difference series\n",
    "np.diff(s, prepend=[np.nan]).shape"
   ]
  },
  {
   "cell_type": "code",
   "execution_count": 42,
   "id": "0e69c303",
   "metadata": {},
   "outputs": [
    {
     "data": {
      "text/plain": [
       "array([        nan,  0.26478867, -0.17102265, -0.10095328, -0.25165246,\n",
       "        0.42171661, -0.38935955,  0.71193559,  0.07752978, -0.92155428])"
      ]
     },
     "execution_count": 42,
     "metadata": {},
     "output_type": "execute_result"
    }
   ],
   "source": [
    "# calc log diff\n",
    "np.log(s).diff().to_numpy()"
   ]
  },
  {
   "cell_type": "code",
   "execution_count": 43,
   "id": "c0fd2c76",
   "metadata": {},
   "outputs": [
    {
     "name": "stdout",
     "output_type": "stream",
     "text": [
      "[0.5488135  0.71518937 0.60276338 0.54488318 0.4236548  0.64589411\n",
      " 0.43758721 0.891773   0.96366276 0.38344152]\n"
     ]
    }
   ],
   "source": [
    "# how to reverse the np.diff and np.log to get the original numpy arrays\n",
    "# ** Needs the original series \"s\" and current series \"t\"\n",
    "t = np.log(s).diff()\n",
    "t.iat[0] = np.log(s.iat[0])\n",
    "res = np.exp(t.cumsum())\n",
    "\n",
    "print(res.values)\n",
    "\n",
    "# [ 0.5488135   0.71518937  0.60276338  0.54488318  0.4236548   0.64589411\n",
    "#   0.43758721  0.891773    0.96366276  0.38344152]"
   ]
  },
  {
   "cell_type": "markdown",
   "id": "3c6954e0",
   "metadata": {},
   "source": [
    "Pandas DataFrame and Pandas.core.Series, STILL NOT RESOLVED"
   ]
  },
  {
   "cell_type": "code",
   "execution_count": 44,
   "id": "6fe38429",
   "metadata": {},
   "outputs": [
    {
     "name": "stdout",
     "output_type": "stream",
     "text": [
      "balance:  [100 150  75  75  75]\n",
      "ret:  [ nan  50. -75.   0.   0.]\n",
      "   logr  rule1\n",
      "0   NaN    NaN\n",
      "1  50.0    0.0\n",
      "2 -75.0    0.0\n",
      "3   0.0    0.0\n",
      "4   0.0    0.0\n"
     ]
    }
   ],
   "source": [
    "from ta import *\n",
    "\n",
    "def Rule16(period, balance):\n",
    "    close = balance\n",
    "    logr = pd.Series(np.diff(close, prepend=[np.nan]))\n",
    "    s1 = bollinger_hband(close, n=period)\n",
    "    s2 = bollinger_lband(close, n=period)\n",
    "    s3 = close\n",
    "    signal = (-1 * (s3 > s1) + 1 * (s3 < s2)).shift(1)\n",
    "    port_logr = signal * logr\n",
    "    return (abs(port_logr.sum()), signal)\n",
    "\n",
    "balance = pd.Series(np.array([100,150,75,75,75]))\n",
    "ret = np.diff(balance, prepend=[np.nan])\n",
    "df = pd.DataFrame({\"logr\":ret})\n",
    "r1 = Rule16(17, balance)[1]\n",
    "df[\"rule1\"] = r1\n",
    "\n",
    "\n",
    "\n",
    "print(\"balance: \", np.array(balance))\n",
    "print(\"ret: \", np.array(ret))\n",
    "print(df)"
   ]
  },
  {
   "cell_type": "markdown",
   "id": "855dc333",
   "metadata": {},
   "source": [
    "@ operator in numpy \n",
    "\n",
    "@ 叉乘\n",
    "\n",
    "\\* 点乘"
   ]
  },
  {
   "cell_type": "code",
   "execution_count": 45,
   "id": "4eaa41ca",
   "metadata": {},
   "outputs": [
    {
     "name": "stdout",
     "output_type": "stream",
     "text": [
      "9\n",
      "[3 6]\n"
     ]
    }
   ],
   "source": [
    "print(np.array([1, 3]) @ np.array([3,2]).T)\n",
    "print(np.array([1, 3]) * np.array([3,2]))"
   ]
  },
  {
   "cell_type": "code",
   "execution_count": 47,
   "id": "c9f8a278",
   "metadata": {},
   "outputs": [
    {
     "data": {
      "text/plain": [
       "array([1, 2, 3, 4])"
      ]
     },
     "execution_count": 47,
     "metadata": {},
     "output_type": "execute_result"
    }
   ],
   "source": [
    "arr = np.array([1,2,3,4])\n",
    "arr"
   ]
  },
  {
   "cell_type": "code",
   "execution_count": 48,
   "id": "1b5b8ab5",
   "metadata": {},
   "outputs": [
    {
     "data": {
      "text/plain": [
       "(array([3]),)"
      ]
     },
     "execution_count": 48,
     "metadata": {},
     "output_type": "execute_result"
    }
   ],
   "source": [
    "np.where(arr == np.max(arr))"
   ]
  },
  {
   "cell_type": "code",
   "execution_count": null,
   "id": "50307117",
   "metadata": {},
   "outputs": [],
   "source": []
  }
 ],
 "metadata": {
  "kernelspec": {
   "display_name": "Python 3",
   "language": "python",
   "name": "python3"
  },
  "language_info": {
   "codemirror_mode": {
    "name": "ipython",
    "version": 3
   },
   "file_extension": ".py",
   "mimetype": "text/x-python",
   "name": "python",
   "nbconvert_exporter": "python",
   "pygments_lexer": "ipython3",
   "version": "3.8.8"
  }
 },
 "nbformat": 4,
 "nbformat_minor": 5
}
